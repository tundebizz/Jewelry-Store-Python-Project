{
 "cells": [
  {
   "cell_type": "markdown",
   "id": "b1719452",
   "metadata": {},
   "source": [
    "# Jewerystore EDA and Price prediction\n",
    "---\n",
    ">  An epxloration of a medium sized jewelry online store purchase history from November 2018 to November 2020.\n"
   ]
  },
  {
   "cell_type": "markdown",
   "id": "ce46874a",
   "metadata": {},
   "source": [
    "## Importing libs"
   ]
  },
  {
   "cell_type": "code",
   "execution_count": 375,
   "id": "a58cc918",
   "metadata": {},
   "outputs": [],
   "source": [
    "import pandas as pd\n",
    "import numpy as np\n",
    "import matplotlib.pyplot as plt\n",
    "import datetime\n",
    "from pylab import *\n",
    "from scipy import *\n",
    "from pylab import rcParams\n",
    "import statsmodels.formula.api as smf\n",
    "%matplotlib inline"
   ]
  },
  {
   "cell_type": "markdown",
   "id": "e09f1bb0",
   "metadata": {},
   "source": [
    "## Loading dataset"
   ]
  },
  {
   "cell_type": "markdown",
   "id": "3cc0dd3f",
   "metadata": {},
   "source": [
    "The full dataset is available as a python package: https://www.kaggle.com/mkechinov/ecommerce-purchase-history-from-jewelry-store"
   ]
  },
  {
   "cell_type": "code",
   "execution_count": 376,
   "id": "5175e629",
   "metadata": {},
   "outputs": [],
   "source": [
    "# load jewelry store dataset\n",
    "\n",
    "jewelry = pd.read_csv('Data/jewelry.csv')"
   ]
  },
  {
   "cell_type": "code",
   "execution_count": 377,
   "id": "445ce18b",
   "metadata": {},
   "outputs": [
    {
     "name": "stdout",
     "output_type": "stream",
     "text": [
      "(113302, 13)\n",
      "Index(['event_time', 'order_id', 'product_id', 'quantity', 'category_id',\n",
      "       'category_code', 'brand', 'price', 'user_id', 'gender', 'color',\n",
      "       'metal', 'gem'],\n",
      "      dtype='object')\n",
      "event_time        object\n",
      "order_id           int64\n",
      "product_id         int64\n",
      "quantity           int64\n",
      "category_id      float64\n",
      "category_code     object\n",
      "brand            float64\n",
      "price            float64\n",
      "user_id          float64\n",
      "gender            object\n",
      "color             object\n",
      "metal             object\n",
      "gem               object\n",
      "dtype: object\n"
     ]
    }
   ],
   "source": [
    "# inspect dataset\n",
    "\n",
    "print(jewelry.shape)\n",
    "print(jewelry.columns)\n",
    "print(jewelry.dtypes)"
   ]
  },
  {
   "cell_type": "code",
   "execution_count": 378,
   "id": "c6429d0e",
   "metadata": {},
   "outputs": [
    {
     "data": {
      "text/html": [
       "<div>\n",
       "<style scoped>\n",
       "    .dataframe tbody tr th:only-of-type {\n",
       "        vertical-align: middle;\n",
       "    }\n",
       "\n",
       "    .dataframe tbody tr th {\n",
       "        vertical-align: top;\n",
       "    }\n",
       "\n",
       "    .dataframe thead th {\n",
       "        text-align: right;\n",
       "    }\n",
       "</style>\n",
       "<table border=\"1\" class=\"dataframe\">\n",
       "  <thead>\n",
       "    <tr style=\"text-align: right;\">\n",
       "      <th></th>\n",
       "      <th>order_id</th>\n",
       "      <th>product_id</th>\n",
       "      <th>quantity</th>\n",
       "      <th>category_id</th>\n",
       "      <th>brand</th>\n",
       "      <th>price</th>\n",
       "      <th>user_id</th>\n",
       "    </tr>\n",
       "  </thead>\n",
       "  <tbody>\n",
       "    <tr>\n",
       "      <th>count</th>\n",
       "      <td>1.133020e+05</td>\n",
       "      <td>1.133020e+05</td>\n",
       "      <td>113302.000000</td>\n",
       "      <td>1.129050e+05</td>\n",
       "      <td>1.119360e+05</td>\n",
       "      <td>112905.000000</td>\n",
       "      <td>1.129050e+05</td>\n",
       "    </tr>\n",
       "    <tr>\n",
       "      <th>mean</th>\n",
       "      <td>2.200117e+18</td>\n",
       "      <td>1.854770e+18</td>\n",
       "      <td>1.000009</td>\n",
       "      <td>1.806637e+18</td>\n",
       "      <td>5.330749e+15</td>\n",
       "      <td>292.254944</td>\n",
       "      <td>1.512850e+18</td>\n",
       "    </tr>\n",
       "    <tr>\n",
       "      <th>std</th>\n",
       "      <td>1.410954e+17</td>\n",
       "      <td>1.910882e+17</td>\n",
       "      <td>0.002971</td>\n",
       "      <td>9.733465e+15</td>\n",
       "      <td>8.939869e+16</td>\n",
       "      <td>481.857658</td>\n",
       "      <td>2.250084e+16</td>\n",
       "    </tr>\n",
       "    <tr>\n",
       "      <th>min</th>\n",
       "      <td>1.923416e+18</td>\n",
       "      <td>1.313551e+18</td>\n",
       "      <td>1.000000</td>\n",
       "      <td>1.313678e+18</td>\n",
       "      <td>0.000000e+00</td>\n",
       "      <td>0.920000</td>\n",
       "      <td>1.313554e+18</td>\n",
       "    </tr>\n",
       "    <tr>\n",
       "      <th>25%</th>\n",
       "      <td>2.086874e+18</td>\n",
       "      <td>1.851564e+18</td>\n",
       "      <td>1.000000</td>\n",
       "      <td>1.806829e+18</td>\n",
       "      <td>0.000000e+00</td>\n",
       "      <td>110.580000</td>\n",
       "      <td>1.515916e+18</td>\n",
       "    </tr>\n",
       "    <tr>\n",
       "      <th>50%</th>\n",
       "      <td>2.201607e+18</td>\n",
       "      <td>1.956664e+18</td>\n",
       "      <td>1.000000</td>\n",
       "      <td>1.806829e+18</td>\n",
       "      <td>1.000000e+00</td>\n",
       "      <td>204.380000</td>\n",
       "      <td>1.515916e+18</td>\n",
       "    </tr>\n",
       "    <tr>\n",
       "      <th>75%</th>\n",
       "      <td>2.317472e+18</td>\n",
       "      <td>1.956664e+18</td>\n",
       "      <td>1.000000</td>\n",
       "      <td>1.806829e+18</td>\n",
       "      <td>1.000000e+00</td>\n",
       "      <td>346.530000</td>\n",
       "      <td>1.515916e+18</td>\n",
       "    </tr>\n",
       "    <tr>\n",
       "      <th>max</th>\n",
       "      <td>2.453171e+18</td>\n",
       "      <td>2.440041e+18</td>\n",
       "      <td>2.000000</td>\n",
       "      <td>1.806829e+18</td>\n",
       "      <td>1.550613e+18</td>\n",
       "      <td>34723.950000</td>\n",
       "      <td>1.555252e+18</td>\n",
       "    </tr>\n",
       "  </tbody>\n",
       "</table>\n",
       "</div>"
      ],
      "text/plain": [
       "           order_id    product_id       quantity   category_id         brand  \\\n",
       "count  1.133020e+05  1.133020e+05  113302.000000  1.129050e+05  1.119360e+05   \n",
       "mean   2.200117e+18  1.854770e+18       1.000009  1.806637e+18  5.330749e+15   \n",
       "std    1.410954e+17  1.910882e+17       0.002971  9.733465e+15  8.939869e+16   \n",
       "min    1.923416e+18  1.313551e+18       1.000000  1.313678e+18  0.000000e+00   \n",
       "25%    2.086874e+18  1.851564e+18       1.000000  1.806829e+18  0.000000e+00   \n",
       "50%    2.201607e+18  1.956664e+18       1.000000  1.806829e+18  1.000000e+00   \n",
       "75%    2.317472e+18  1.956664e+18       1.000000  1.806829e+18  1.000000e+00   \n",
       "max    2.453171e+18  2.440041e+18       2.000000  1.806829e+18  1.550613e+18   \n",
       "\n",
       "               price       user_id  \n",
       "count  112905.000000  1.129050e+05  \n",
       "mean      292.254944  1.512850e+18  \n",
       "std       481.857658  2.250084e+16  \n",
       "min         0.920000  1.313554e+18  \n",
       "25%       110.580000  1.515916e+18  \n",
       "50%       204.380000  1.515916e+18  \n",
       "75%       346.530000  1.515916e+18  \n",
       "max     34723.950000  1.555252e+18  "
      ]
     },
     "execution_count": 378,
     "metadata": {},
     "output_type": "execute_result"
    }
   ],
   "source": [
    "#staistics of the the numeric variables\n",
    "jewelry.describe()"
   ]
  },
  {
   "cell_type": "code",
   "execution_count": 379,
   "id": "875b0776",
   "metadata": {},
   "outputs": [
    {
     "data": {
      "text/html": [
       "<div>\n",
       "<style scoped>\n",
       "    .dataframe tbody tr th:only-of-type {\n",
       "        vertical-align: middle;\n",
       "    }\n",
       "\n",
       "    .dataframe tbody tr th {\n",
       "        vertical-align: top;\n",
       "    }\n",
       "\n",
       "    .dataframe thead th {\n",
       "        text-align: right;\n",
       "    }\n",
       "</style>\n",
       "<table border=\"1\" class=\"dataframe\">\n",
       "  <thead>\n",
       "    <tr style=\"text-align: right;\">\n",
       "      <th></th>\n",
       "      <th>event_time</th>\n",
       "      <th>order_id</th>\n",
       "      <th>product_id</th>\n",
       "      <th>quantity</th>\n",
       "      <th>category_id</th>\n",
       "      <th>category_code</th>\n",
       "      <th>brand</th>\n",
       "      <th>price</th>\n",
       "      <th>user_id</th>\n",
       "      <th>gender</th>\n",
       "      <th>color</th>\n",
       "      <th>metal</th>\n",
       "      <th>gem</th>\n",
       "    </tr>\n",
       "  </thead>\n",
       "  <tbody>\n",
       "    <tr>\n",
       "      <th>0</th>\n",
       "      <td>2018-11-29 16:30:45 UTC</td>\n",
       "      <td>1923415742179443254</td>\n",
       "      <td>1836250225916772582</td>\n",
       "      <td>1</td>\n",
       "      <td>1.806829e+18</td>\n",
       "      <td>jewelry.pendant</td>\n",
       "      <td>0.0</td>\n",
       "      <td>67.78</td>\n",
       "      <td>1.515916e+18</td>\n",
       "      <td>NaN</td>\n",
       "      <td>red</td>\n",
       "      <td>gold</td>\n",
       "      <td>diamond</td>\n",
       "    </tr>\n",
       "    <tr>\n",
       "      <th>1</th>\n",
       "      <td>2018-11-29 16:52:07 UTC</td>\n",
       "      <td>1923426489303302817</td>\n",
       "      <td>1836015460420681761</td>\n",
       "      <td>1</td>\n",
       "      <td>1.806829e+18</td>\n",
       "      <td>jewelry.pendant</td>\n",
       "      <td>0.0</td>\n",
       "      <td>32.63</td>\n",
       "      <td>1.515916e+18</td>\n",
       "      <td>NaN</td>\n",
       "      <td>red</td>\n",
       "      <td>gold</td>\n",
       "      <td>NaN</td>\n",
       "    </tr>\n",
       "    <tr>\n",
       "      <th>2</th>\n",
       "      <td>2018-11-29 17:58:37 UTC</td>\n",
       "      <td>1923459963229831173</td>\n",
       "      <td>1806829194936582544</td>\n",
       "      <td>1</td>\n",
       "      <td>1.806829e+18</td>\n",
       "      <td>jewelry.ring</td>\n",
       "      <td>1.0</td>\n",
       "      <td>75.21</td>\n",
       "      <td>1.515916e+18</td>\n",
       "      <td>NaN</td>\n",
       "      <td>red</td>\n",
       "      <td>gold</td>\n",
       "      <td>amethyst</td>\n",
       "    </tr>\n",
       "    <tr>\n",
       "      <th>3</th>\n",
       "      <td>2018-11-29 20:25:52 UTC</td>\n",
       "      <td>1923534078074684181</td>\n",
       "      <td>1835566854668550661</td>\n",
       "      <td>1</td>\n",
       "      <td>1.806829e+18</td>\n",
       "      <td>jewelry.earring</td>\n",
       "      <td>0.0</td>\n",
       "      <td>131.37</td>\n",
       "      <td>1.515916e+18</td>\n",
       "      <td>f</td>\n",
       "      <td>red</td>\n",
       "      <td>gold</td>\n",
       "      <td>NaN</td>\n",
       "    </tr>\n",
       "    <tr>\n",
       "      <th>4</th>\n",
       "      <td>2018-11-29 20:30:01 UTC</td>\n",
       "      <td>1923536169069445939</td>\n",
       "      <td>1836568752905257618</td>\n",
       "      <td>1</td>\n",
       "      <td>1.806829e+18</td>\n",
       "      <td>jewelry.bracelet</td>\n",
       "      <td>0.0</td>\n",
       "      <td>102.60</td>\n",
       "      <td>1.515916e+18</td>\n",
       "      <td>f</td>\n",
       "      <td>red</td>\n",
       "      <td>gold</td>\n",
       "      <td>NaN</td>\n",
       "    </tr>\n",
       "  </tbody>\n",
       "</table>\n",
       "</div>"
      ],
      "text/plain": [
       "                event_time             order_id           product_id  \\\n",
       "0  2018-11-29 16:30:45 UTC  1923415742179443254  1836250225916772582   \n",
       "1  2018-11-29 16:52:07 UTC  1923426489303302817  1836015460420681761   \n",
       "2  2018-11-29 17:58:37 UTC  1923459963229831173  1806829194936582544   \n",
       "3  2018-11-29 20:25:52 UTC  1923534078074684181  1835566854668550661   \n",
       "4  2018-11-29 20:30:01 UTC  1923536169069445939  1836568752905257618   \n",
       "\n",
       "   quantity   category_id     category_code  brand   price       user_id  \\\n",
       "0         1  1.806829e+18   jewelry.pendant    0.0   67.78  1.515916e+18   \n",
       "1         1  1.806829e+18   jewelry.pendant    0.0   32.63  1.515916e+18   \n",
       "2         1  1.806829e+18      jewelry.ring    1.0   75.21  1.515916e+18   \n",
       "3         1  1.806829e+18   jewelry.earring    0.0  131.37  1.515916e+18   \n",
       "4         1  1.806829e+18  jewelry.bracelet    0.0  102.60  1.515916e+18   \n",
       "\n",
       "  gender color metal       gem  \n",
       "0    NaN   red  gold   diamond  \n",
       "1    NaN   red  gold       NaN  \n",
       "2    NaN   red  gold  amethyst  \n",
       "3      f   red  gold       NaN  \n",
       "4      f   red  gold       NaN  "
      ]
     },
     "execution_count": 379,
     "metadata": {},
     "output_type": "execute_result"
    }
   ],
   "source": [
    "#checking whats in the dataset\n",
    "jewelry.head(5)"
   ]
  },
  {
   "cell_type": "code",
   "execution_count": 380,
   "id": "5feefa88",
   "metadata": {},
   "outputs": [
    {
     "data": {
      "text/plain": [
       "45195"
      ]
     },
     "execution_count": 380,
     "metadata": {},
     "output_type": "execute_result"
    }
   ],
   "source": [
    "# unique number users\n",
    "len(jewelry.user_id.unique())"
   ]
  },
  {
   "cell_type": "code",
   "execution_count": 381,
   "id": "d43a6f23",
   "metadata": {},
   "outputs": [
    {
     "data": {
      "text/plain": [
       "89"
      ]
     },
     "execution_count": 381,
     "metadata": {},
     "output_type": "execute_result"
    }
   ],
   "source": [
    "# unique number of brands\n",
    "len(jewelry.brand.unique())"
   ]
  },
  {
   "cell_type": "code",
   "execution_count": 382,
   "id": "bb9ed797",
   "metadata": {},
   "outputs": [
    {
     "data": {
      "text/plain": [
       "33"
      ]
     },
     "execution_count": 382,
     "metadata": {},
     "output_type": "execute_result"
    }
   ],
   "source": [
    "# unique number of gems\n",
    "len(jewelry.gem.unique())"
   ]
  },
  {
   "cell_type": "code",
   "execution_count": 383,
   "id": "5401b2c6",
   "metadata": {},
   "outputs": [
    {
     "data": {
      "text/plain": [
       "array(['diamond', nan, 'amethyst', 'topaz', 'fianit', 'garnet', 'pearl',\n",
       "       'mix', 'amber', 'sapphire', 'ruby', 'turquoise', 'emerald',\n",
       "       'quartz_smoky', 'chrysolite', 'nanocrystal', 'quartz', 'citrine',\n",
       "       'agate', 'corundum', 'corundum_synthetic', 'sitall',\n",
       "       'emerald_geothermal', 'chrysoprase', 'rhodolite', 'coral',\n",
       "       'sapphire_geothermal', 'onyx', 'nacre', 'spinel', 'malachite',\n",
       "       'tourmaline', 'garnet_synthetic'], dtype=object)"
      ]
     },
     "execution_count": 383,
     "metadata": {},
     "output_type": "execute_result"
    }
   ],
   "source": [
    "# unique gems\n",
    "jewelry.gem.unique()"
   ]
  },
  {
   "cell_type": "code",
   "execution_count": 384,
   "id": "7309b0a5",
   "metadata": {},
   "outputs": [
    {
     "data": {
      "text/plain": [
       "diamond                34804\n",
       "fianit                 17880\n",
       "topaz                   7879\n",
       "pearl                   4203\n",
       "garnet                  3419\n",
       "sapphire                2260\n",
       "amethyst                2194\n",
       "mix                     1277\n",
       "emerald                 1009\n",
       "quartz                   662\n",
       "amber                    267\n",
       "ruby                     252\n",
       "chrysolite               147\n",
       "quartz_smoky             143\n",
       "rhodolite                120\n",
       "citrine                  112\n",
       "nanocrystal               94\n",
       "sitall                    79\n",
       "turquoise                 66\n",
       "corundum_synthetic        59\n",
       "agate                     37\n",
       "spinel                    26\n",
       "tourmaline                23\n",
       "nacre                     23\n",
       "emerald_geothermal        19\n",
       "onyx                      16\n",
       "chrysoprase               11\n",
       "coral                      6\n",
       "sapphire_geothermal        3\n",
       "corundum                   3\n",
       "malachite                  1\n",
       "garnet_synthetic           1\n",
       "Name: gem, dtype: int64"
      ]
     },
     "execution_count": 384,
     "metadata": {},
     "output_type": "execute_result"
    }
   ],
   "source": [
    "#counting number of each gems\n",
    "jewelry.gem.value_counts()"
   ]
  },
  {
   "cell_type": "code",
   "execution_count": 385,
   "id": "d0a4c727",
   "metadata": {},
   "outputs": [
    {
     "data": {
      "text/plain": [
       "gold        111301\n",
       "silver        1547\n",
       "platinum         3\n",
       "Name: metal, dtype: int64"
      ]
     },
     "execution_count": 385,
     "metadata": {},
     "output_type": "execute_result"
    }
   ],
   "source": [
    "# counting number of unique metals\n",
    "jewelry.metal.value_counts()"
   ]
  },
  {
   "cell_type": "code",
   "execution_count": 386,
   "id": "916699fd",
   "metadata": {},
   "outputs": [
    {
     "data": {
      "text/plain": [
       "array(['gold', 'silver', nan, 'platinum'], dtype=object)"
      ]
     },
     "execution_count": 386,
     "metadata": {},
     "output_type": "execute_result"
    }
   ],
   "source": [
    "#unique metals\n",
    "jewelry.metal.unique()"
   ]
  },
  {
   "cell_type": "code",
   "execution_count": 387,
   "id": "1a210d8e",
   "metadata": {},
   "outputs": [
    {
     "data": {
      "text/plain": [
       "array([nan, 'f', 'm'], dtype=object)"
      ]
     },
     "execution_count": 387,
     "metadata": {},
     "output_type": "execute_result"
    }
   ],
   "source": [
    "# unique genders\n",
    "jewelry.gender.unique()"
   ]
  },
  {
   "cell_type": "code",
   "execution_count": 388,
   "id": "3b5d7731",
   "metadata": {},
   "outputs": [
    {
     "data": {
      "text/plain": [
       "f    61664\n",
       "m      559\n",
       "Name: gender, dtype: int64"
      ]
     },
     "execution_count": 388,
     "metadata": {},
     "output_type": "execute_result"
    }
   ],
   "source": [
    "#counting number of each genders\n",
    "jewelry.gender.value_counts()"
   ]
  },
  {
   "cell_type": "code",
   "execution_count": 389,
   "id": "76376cf9",
   "metadata": {},
   "outputs": [
    {
     "data": {
      "text/plain": [
       "array(['jewelry.pendant', 'jewelry.ring', 'jewelry.earring',\n",
       "       'jewelry.bracelet', 'electronics.clocks', nan, 'jewelry.stud',\n",
       "       'jewelry.brooch', 'jewelry.necklace', 'jewelry.souvenir', '697.58',\n",
       "       '230.12', '202.36', '140.51', '639.00', '1098.03', '321.78',\n",
       "       '1128.62', '81.27', '34.25', '582.16', '227.37', '234.22',\n",
       "       '131.82', '150.55', '2123.15', '109.45', '26.03', '49.22',\n",
       "       '472.47', '205.38', '2061.51', '313.36', '2746.44', '2.73',\n",
       "       '51.08', '1636.85', '335.59', '108.33', '752.01', '231.12',\n",
       "       '152.33', '184.22', '1095.75', '76.97', '3054.73', '212.19',\n",
       "       '184.90', '560.92', '2.88', '380.10', '357.49', '15.47', '135.33',\n",
       "       '719.75', '93.01', '177.95', '287.53', '412.30', '102.10',\n",
       "       '595.75', '469.56', '427.07', '53.62', '77.53', '1469.18',\n",
       "       '355.27', '184.89', '154.66', '300.58', '83.73', '271.19',\n",
       "       '3294.21', '278.04', '3626.26', '126.03', '143.15', '283.52',\n",
       "       '306.12', '328.73', '114.38', '89.04', '3022.56', '273.25',\n",
       "       '300.16', '8.22', '164.36', '124.88', '114.93', '89.73', '171.23',\n",
       "       '136.93', '19.04', '158.77', '611.63', '190.27', '2.30', '187.10',\n",
       "       '151.92', '1845.89', '87.23', '248.58', '596.48', '208.88',\n",
       "       '193.11', '169.84', '1447.68', '792.32', '45.07', '136.85',\n",
       "       '282.05', '61.51', '210.21', '137.12', '147.81', '419.45',\n",
       "       '825.27', '541.78', '308.74', '766.85', '410.82', '101.23',\n",
       "       '1356.16', '13.42', '35.21', '134.79', '75.21', '626.58', '13.70',\n",
       "       '108.53', '119.01', '7.40', '4.79', '0.27', '153.97', '482.47',\n",
       "       '427.36', '289.18', '25.48', '1858.49', '21.70', '11.77', '198.89',\n",
       "       '17.51', '574.66', '1319.93', '393.05', '358.22', '2282.19',\n",
       "       '371.23', '63.56', '88.77', '133.70', '256.44', '117.81', '166.03',\n",
       "       '130.41', '374.74', '195.75', '157.16', '469.32', '172.05',\n",
       "       '112.19', '290.96', '104.79', '228.59', '1686.93', '65.89',\n",
       "       '242.19', '832.01', '139.86', '105.48', '1144.56', '347.49',\n",
       "       '4876.49', '195.07', '350.11', '360.04', '132.60', '147.12',\n",
       "       '252.47', '210.41', '363.42', '149.04', '157.95', '315.55',\n",
       "       '290.82', '500.49', '512.82', '176.30', '160.96', '0.14', '316.30',\n",
       "       '258.77', '268.36', '838.90', '250.96', '297.22', '312.33',\n",
       "       '262.88', '318.71', '440.96', '323.60'], dtype=object)"
      ]
     },
     "execution_count": 389,
     "metadata": {},
     "output_type": "execute_result"
    }
   ],
   "source": [
    "\n",
    "jewelry.category_code.unique()"
   ]
  },
  {
   "cell_type": "code",
   "execution_count": 16,
   "id": "e0829745",
   "metadata": {},
   "outputs": [],
   "source": [
    "jewelry = jewelry[jewelry.category_code != 'electronics.clocks']\n"
   ]
  },
  {
   "cell_type": "code",
   "execution_count": 17,
   "id": "f691aa89",
   "metadata": {},
   "outputs": [
    {
     "data": {
      "text/plain": [
       "jewelry.ring        39269\n",
       "jewelry.earring     36038\n",
       "jewelry.pendant     16456\n",
       "jewelry.bracelet     7163\n",
       "jewelry.necklace     2473\n",
       "                    ...  \n",
       "149.04                  1\n",
       "153.97                  1\n",
       "102.10                  1\n",
       "108.53                  1\n",
       "262.88                  1\n",
       "Name: category_code, Length: 201, dtype: int64"
      ]
     },
     "execution_count": 17,
     "metadata": {},
     "output_type": "execute_result"
    }
   ],
   "source": [
    "jewelry.category_code.value_counts()"
   ]
  },
  {
   "cell_type": "code",
   "execution_count": null,
   "id": "07514ae9",
   "metadata": {},
   "outputs": [],
   "source": []
  },
  {
   "cell_type": "code",
   "execution_count": null,
   "id": "f031c6c9",
   "metadata": {},
   "outputs": [],
   "source": []
  },
  {
   "cell_type": "code",
   "execution_count": null,
   "id": "b09b9e1b",
   "metadata": {},
   "outputs": [],
   "source": []
  },
  {
   "cell_type": "code",
   "execution_count": null,
   "id": "a326c70e",
   "metadata": {},
   "outputs": [],
   "source": []
  },
  {
   "cell_type": "code",
   "execution_count": null,
   "id": "8080230e",
   "metadata": {},
   "outputs": [],
   "source": []
  },
  {
   "cell_type": "code",
   "execution_count": null,
   "id": "883f216d",
   "metadata": {},
   "outputs": [],
   "source": []
  },
  {
   "cell_type": "code",
   "execution_count": null,
   "id": "1e07f4b8",
   "metadata": {},
   "outputs": [],
   "source": []
  },
  {
   "cell_type": "markdown",
   "id": "e5fc3e21",
   "metadata": {},
   "source": [
    "## Cleaning data\n",
    "1. Cutomized float formatting of columns with scientific notation\n",
    "2. Identifying and droping null values\n",
    "4. Inssspecting if there are duplicate rows\n",
    "3. Setting the correct Date datatype"
   ]
  },
  {
   "cell_type": "markdown",
   "id": "847a1cfe",
   "metadata": {},
   "source": [
    "1. Cutomized float formatting of columns with scientific notation"
   ]
  },
  {
   "cell_type": "code",
   "execution_count": 26,
   "id": "b8a2d3c4",
   "metadata": {},
   "outputs": [],
   "source": [
    "#suppress the scientific notation of the floats, while retaining the float format.\n",
    "pd.options.display.float_format = '{:.0f}'.format"
   ]
  },
  {
   "cell_type": "code",
   "execution_count": 31,
   "id": "9108f4d1",
   "metadata": {},
   "outputs": [
    {
     "data": {
      "text/html": [
       "<div>\n",
       "<style scoped>\n",
       "    .dataframe tbody tr th:only-of-type {\n",
       "        vertical-align: middle;\n",
       "    }\n",
       "\n",
       "    .dataframe tbody tr th {\n",
       "        vertical-align: top;\n",
       "    }\n",
       "\n",
       "    .dataframe thead th {\n",
       "        text-align: right;\n",
       "    }\n",
       "</style>\n",
       "<table border=\"1\" class=\"dataframe\">\n",
       "  <thead>\n",
       "    <tr style=\"text-align: right;\">\n",
       "      <th></th>\n",
       "      <th>event_time</th>\n",
       "      <th>order_id</th>\n",
       "      <th>product_id</th>\n",
       "      <th>quantity</th>\n",
       "      <th>category_id</th>\n",
       "      <th>category_code</th>\n",
       "      <th>brand</th>\n",
       "      <th>price</th>\n",
       "      <th>user_id</th>\n",
       "      <th>gender</th>\n",
       "      <th>color</th>\n",
       "      <th>metal</th>\n",
       "      <th>gem</th>\n",
       "    </tr>\n",
       "  </thead>\n",
       "  <tbody>\n",
       "    <tr>\n",
       "      <th>0</th>\n",
       "      <td>2018-11-29 16:30:45 UTC</td>\n",
       "      <td>1923415742179443254</td>\n",
       "      <td>1836250225916772582</td>\n",
       "      <td>1</td>\n",
       "      <td>1806829201915904256</td>\n",
       "      <td>jewelry.pendant</td>\n",
       "      <td>0</td>\n",
       "      <td>68</td>\n",
       "      <td>1515915625233196800</td>\n",
       "      <td>NaN</td>\n",
       "      <td>red</td>\n",
       "      <td>gold</td>\n",
       "      <td>diamond</td>\n",
       "    </tr>\n",
       "    <tr>\n",
       "      <th>1</th>\n",
       "      <td>2018-11-29 16:52:07 UTC</td>\n",
       "      <td>1923426489303302817</td>\n",
       "      <td>1836015460420681761</td>\n",
       "      <td>1</td>\n",
       "      <td>1806829201915904256</td>\n",
       "      <td>jewelry.pendant</td>\n",
       "      <td>0</td>\n",
       "      <td>33</td>\n",
       "      <td>1515915625233029376</td>\n",
       "      <td>NaN</td>\n",
       "      <td>red</td>\n",
       "      <td>gold</td>\n",
       "      <td>NaN</td>\n",
       "    </tr>\n",
       "    <tr>\n",
       "      <th>2</th>\n",
       "      <td>2018-11-29 17:58:37 UTC</td>\n",
       "      <td>1923459963229831173</td>\n",
       "      <td>1806829194936582544</td>\n",
       "      <td>1</td>\n",
       "      <td>1806829201882349824</td>\n",
       "      <td>jewelry.ring</td>\n",
       "      <td>1</td>\n",
       "      <td>75</td>\n",
       "      <td>1515915625233228544</td>\n",
       "      <td>NaN</td>\n",
       "      <td>red</td>\n",
       "      <td>gold</td>\n",
       "      <td>amethyst</td>\n",
       "    </tr>\n",
       "    <tr>\n",
       "      <th>3</th>\n",
       "      <td>2018-11-29 20:25:52 UTC</td>\n",
       "      <td>1923534078074684181</td>\n",
       "      <td>1835566854668550661</td>\n",
       "      <td>1</td>\n",
       "      <td>1806829201890738432</td>\n",
       "      <td>jewelry.earring</td>\n",
       "      <td>0</td>\n",
       "      <td>131</td>\n",
       "      <td>1515915625233289216</td>\n",
       "      <td>f</td>\n",
       "      <td>red</td>\n",
       "      <td>gold</td>\n",
       "      <td>NaN</td>\n",
       "    </tr>\n",
       "    <tr>\n",
       "      <th>4</th>\n",
       "      <td>2018-11-29 20:30:01 UTC</td>\n",
       "      <td>1923536169069445939</td>\n",
       "      <td>1836568752905257618</td>\n",
       "      <td>1</td>\n",
       "      <td>1806829201865572608</td>\n",
       "      <td>jewelry.bracelet</td>\n",
       "      <td>0</td>\n",
       "      <td>103</td>\n",
       "      <td>1515915625117578240</td>\n",
       "      <td>f</td>\n",
       "      <td>red</td>\n",
       "      <td>gold</td>\n",
       "      <td>NaN</td>\n",
       "    </tr>\n",
       "  </tbody>\n",
       "</table>\n",
       "</div>"
      ],
      "text/plain": [
       "                event_time             order_id           product_id  \\\n",
       "0  2018-11-29 16:30:45 UTC  1923415742179443254  1836250225916772582   \n",
       "1  2018-11-29 16:52:07 UTC  1923426489303302817  1836015460420681761   \n",
       "2  2018-11-29 17:58:37 UTC  1923459963229831173  1806829194936582544   \n",
       "3  2018-11-29 20:25:52 UTC  1923534078074684181  1835566854668550661   \n",
       "4  2018-11-29 20:30:01 UTC  1923536169069445939  1836568752905257618   \n",
       "\n",
       "   quantity         category_id     category_code  brand  price  \\\n",
       "0         1 1806829201915904256   jewelry.pendant      0     68   \n",
       "1         1 1806829201915904256   jewelry.pendant      0     33   \n",
       "2         1 1806829201882349824      jewelry.ring      1     75   \n",
       "3         1 1806829201890738432   jewelry.earring      0    131   \n",
       "4         1 1806829201865572608  jewelry.bracelet      0    103   \n",
       "\n",
       "              user_id gender color metal       gem  \n",
       "0 1515915625233196800    NaN   red  gold   diamond  \n",
       "1 1515915625233029376    NaN   red  gold       NaN  \n",
       "2 1515915625233228544    NaN   red  gold  amethyst  \n",
       "3 1515915625233289216      f   red  gold       NaN  \n",
       "4 1515915625117578240      f   red  gold       NaN  "
      ]
     },
     "execution_count": 31,
     "metadata": {},
     "output_type": "execute_result"
    }
   ],
   "source": [
    "#loading the dataet to see if the scientific notation on colums has been supressed\n",
    "jewelry.head()"
   ]
  },
  {
   "cell_type": "markdown",
   "id": "8b280839",
   "metadata": {},
   "source": [
    "The scientific notation of the floats has been replace with actual numbers for the id columns"
   ]
  },
  {
   "cell_type": "markdown",
   "id": "fc856eae",
   "metadata": {},
   "source": [
    "2. Replacing null value cells with an identiffier\n"
   ]
  },
  {
   "cell_type": "code",
   "execution_count": 18,
   "id": "43291a21",
   "metadata": {},
   "outputs": [
    {
     "data": {
      "text/plain": [
       "event_time           0\n",
       "order_id             0\n",
       "product_id           0\n",
       "quantity             0\n",
       "category_id        397\n",
       "category_code     9628\n",
       "brand             1366\n",
       "price              397\n",
       "user_id            397\n",
       "gender           51009\n",
       "color             3007\n",
       "metal              431\n",
       "gem              36059\n",
       "dtype: int64"
      ]
     },
     "execution_count": 18,
     "metadata": {},
     "output_type": "execute_result"
    }
   ],
   "source": [
    "#inpecting null values\n",
    "jewelry.isnull().sum()"
   ]
  },
  {
   "cell_type": "code",
   "execution_count": 19,
   "id": "1d5732e3",
   "metadata": {},
   "outputs": [
    {
     "data": {
      "text/plain": [
       "113056"
      ]
     },
     "execution_count": 19,
     "metadata": {},
     "output_type": "execute_result"
    }
   ],
   "source": [
    "len(jewelry)"
   ]
  },
  {
   "cell_type": "code",
   "execution_count": 38,
   "id": "fef00ac6",
   "metadata": {},
   "outputs": [
    {
     "data": {
      "text/plain": [
       "77095"
      ]
     },
     "execution_count": 38,
     "metadata": {},
     "output_type": "execute_result"
    }
   ],
   "source": [
    "113302 - 36207"
   ]
  },
  {
   "cell_type": "code",
   "execution_count": 55,
   "id": "65a08de7",
   "metadata": {},
   "outputs": [
    {
     "data": {
      "text/html": [
       "<div>\n",
       "<style scoped>\n",
       "    .dataframe tbody tr th:only-of-type {\n",
       "        vertical-align: middle;\n",
       "    }\n",
       "\n",
       "    .dataframe tbody tr th {\n",
       "        vertical-align: top;\n",
       "    }\n",
       "\n",
       "    .dataframe thead th {\n",
       "        text-align: right;\n",
       "    }\n",
       "</style>\n",
       "<table border=\"1\" class=\"dataframe\">\n",
       "  <thead>\n",
       "    <tr style=\"text-align: right;\">\n",
       "      <th></th>\n",
       "      <th>event_time</th>\n",
       "      <th>order_id</th>\n",
       "      <th>product_id</th>\n",
       "      <th>quantity</th>\n",
       "      <th>category_id</th>\n",
       "      <th>category_code</th>\n",
       "      <th>brand</th>\n",
       "      <th>price</th>\n",
       "      <th>user_id</th>\n",
       "      <th>gender</th>\n",
       "      <th>color</th>\n",
       "      <th>metal</th>\n",
       "      <th>gem</th>\n",
       "    </tr>\n",
       "  </thead>\n",
       "  <tbody>\n",
       "    <tr>\n",
       "      <th>14</th>\n",
       "      <td>2018-11-30 09:21:52 UTC</td>\n",
       "      <td>1923924647787626920</td>\n",
       "      <td>1806829191514031042</td>\n",
       "      <td>1</td>\n",
       "      <td>1806829201848795392</td>\n",
       "      <td>NaN</td>\n",
       "      <td>1</td>\n",
       "      <td>2730</td>\n",
       "      <td>1550612949079425536</td>\n",
       "      <td>NaN</td>\n",
       "      <td>red</td>\n",
       "      <td>gold</td>\n",
       "      <td>mix</td>\n",
       "    </tr>\n",
       "    <tr>\n",
       "      <th>33</th>\n",
       "      <td>2018-11-30 14:37:33 UTC</td>\n",
       "      <td>1924083542879371615</td>\n",
       "      <td>1806829193686680056</td>\n",
       "      <td>1</td>\n",
       "      <td>1806829201848795392</td>\n",
       "      <td>NaN</td>\n",
       "      <td>1</td>\n",
       "      <td>256</td>\n",
       "      <td>1515915625233573376</td>\n",
       "      <td>f</td>\n",
       "      <td>white</td>\n",
       "      <td>gold</td>\n",
       "      <td>NaN</td>\n",
       "    </tr>\n",
       "    <tr>\n",
       "      <th>58</th>\n",
       "      <td>2018-12-01 11:20:38 UTC</td>\n",
       "      <td>1924709199648915985</td>\n",
       "      <td>1806829191841185940</td>\n",
       "      <td>1</td>\n",
       "      <td>1806829201848795392</td>\n",
       "      <td>NaN</td>\n",
       "      <td>1</td>\n",
       "      <td>156</td>\n",
       "      <td>1515915625230266368</td>\n",
       "      <td>NaN</td>\n",
       "      <td>white</td>\n",
       "      <td>gold</td>\n",
       "      <td>NaN</td>\n",
       "    </tr>\n",
       "    <tr>\n",
       "      <th>74</th>\n",
       "      <td>2018-12-01 17:34:20 UTC</td>\n",
       "      <td>1924897291626349410</td>\n",
       "      <td>1806829191522419657</td>\n",
       "      <td>1</td>\n",
       "      <td>1806829201848795392</td>\n",
       "      <td>NaN</td>\n",
       "      <td>1</td>\n",
       "      <td>187</td>\n",
       "      <td>1515915625206167040</td>\n",
       "      <td>NaN</td>\n",
       "      <td>white</td>\n",
       "      <td>gold</td>\n",
       "      <td>NaN</td>\n",
       "    </tr>\n",
       "    <tr>\n",
       "      <th>75</th>\n",
       "      <td>2018-12-01 17:38:31 UTC</td>\n",
       "      <td>1924899396621697920</td>\n",
       "      <td>1806829193678291446</td>\n",
       "      <td>1</td>\n",
       "      <td>1806829201848795392</td>\n",
       "      <td>NaN</td>\n",
       "      <td>1</td>\n",
       "      <td>212</td>\n",
       "      <td>1515915625071970048</td>\n",
       "      <td>NaN</td>\n",
       "      <td>yellow</td>\n",
       "      <td>gold</td>\n",
       "      <td>NaN</td>\n",
       "    </tr>\n",
       "  </tbody>\n",
       "</table>\n",
       "</div>"
      ],
      "text/plain": [
       "                 event_time             order_id           product_id  \\\n",
       "14  2018-11-30 09:21:52 UTC  1923924647787626920  1806829191514031042   \n",
       "33  2018-11-30 14:37:33 UTC  1924083542879371615  1806829193686680056   \n",
       "58  2018-12-01 11:20:38 UTC  1924709199648915985  1806829191841185940   \n",
       "74  2018-12-01 17:34:20 UTC  1924897291626349410  1806829191522419657   \n",
       "75  2018-12-01 17:38:31 UTC  1924899396621697920  1806829193678291446   \n",
       "\n",
       "    quantity         category_id category_code  brand  price  \\\n",
       "14         1 1806829201848795392           NaN      1   2730   \n",
       "33         1 1806829201848795392           NaN      1    256   \n",
       "58         1 1806829201848795392           NaN      1    156   \n",
       "74         1 1806829201848795392           NaN      1    187   \n",
       "75         1 1806829201848795392           NaN      1    212   \n",
       "\n",
       "               user_id gender   color metal  gem  \n",
       "14 1550612949079425536    NaN     red  gold  mix  \n",
       "33 1515915625233573376      f   white  gold  NaN  \n",
       "58 1515915625230266368    NaN   white  gold  NaN  \n",
       "74 1515915625206167040    NaN   white  gold  NaN  \n",
       "75 1515915625071970048    NaN  yellow  gold  NaN  "
      ]
     },
     "execution_count": 55,
     "metadata": {},
     "output_type": "execute_result"
    }
   ],
   "source": [
    "#creating a dataframe for jeweries with categry_code as NA\n",
    "cate = jewelry.loc[(jewelry.category_code.isna())]\n",
    "                                                    \n",
    "cate.head()"
   ]
  },
  {
   "cell_type": "code",
   "execution_count": 78,
   "id": "a565ae8e",
   "metadata": {},
   "outputs": [
    {
     "data": {
      "text/plain": [
       "(9628, 13)"
      ]
     },
     "execution_count": 78,
     "metadata": {},
     "output_type": "execute_result"
    }
   ],
   "source": [
    "cate.shape"
   ]
  },
  {
   "cell_type": "code",
   "execution_count": 61,
   "id": "1d49d3bf",
   "metadata": {},
   "outputs": [
    {
     "data": {
      "text/plain": [
       "1806829201848795392    9014\n",
       "1806829201991401728     551\n",
       "1806829201957847296      43\n",
       "1806829202117230848      13\n",
       "1313677632054755840       5\n",
       "1313677632121864704       1\n",
       "1806829202066899200       1\n",
       "Name: category_id, dtype: int64"
      ]
     },
     "execution_count": 61,
     "metadata": {},
     "output_type": "execute_result"
    }
   ],
   "source": [
    "#\n",
    "cate.category_id.value_counts()\n"
   ]
  },
  {
   "cell_type": "code",
   "execution_count": 56,
   "id": "031dcf34",
   "metadata": {},
   "outputs": [
    {
     "data": {
      "text/plain": [
       "7"
      ]
     },
     "execution_count": 56,
     "metadata": {},
     "output_type": "execute_result"
    }
   ],
   "source": [
    "len(cate.category_id.value_counts())"
   ]
  },
  {
   "cell_type": "code",
   "execution_count": 90,
   "id": "bde41230",
   "metadata": {},
   "outputs": [
    {
     "data": {
      "text/html": [
       "<div>\n",
       "<style scoped>\n",
       "    .dataframe tbody tr th:only-of-type {\n",
       "        vertical-align: middle;\n",
       "    }\n",
       "\n",
       "    .dataframe tbody tr th {\n",
       "        vertical-align: top;\n",
       "    }\n",
       "\n",
       "    .dataframe thead th {\n",
       "        text-align: right;\n",
       "    }\n",
       "</style>\n",
       "<table border=\"1\" class=\"dataframe\">\n",
       "  <thead>\n",
       "    <tr style=\"text-align: right;\">\n",
       "      <th></th>\n",
       "      <th>event_time</th>\n",
       "      <th>order_id</th>\n",
       "      <th>product_id</th>\n",
       "      <th>quantity</th>\n",
       "      <th>category_id</th>\n",
       "      <th>category_code</th>\n",
       "      <th>brand</th>\n",
       "      <th>price</th>\n",
       "      <th>user_id</th>\n",
       "      <th>gender</th>\n",
       "      <th>color</th>\n",
       "      <th>metal</th>\n",
       "      <th>gem</th>\n",
       "    </tr>\n",
       "  </thead>\n",
       "  <tbody>\n",
       "    <tr>\n",
       "      <th>0</th>\n",
       "      <td>2018-11-29 16:30:45 UTC</td>\n",
       "      <td>1923415742179443254</td>\n",
       "      <td>1836250225916772582</td>\n",
       "      <td>1</td>\n",
       "      <td>1806829201915904256</td>\n",
       "      <td>jewelry.pendant</td>\n",
       "      <td>0</td>\n",
       "      <td>68</td>\n",
       "      <td>1515915625233196800</td>\n",
       "      <td>NaN</td>\n",
       "      <td>red</td>\n",
       "      <td>gold</td>\n",
       "      <td>diamond</td>\n",
       "    </tr>\n",
       "    <tr>\n",
       "      <th>1</th>\n",
       "      <td>2018-11-29 16:52:07 UTC</td>\n",
       "      <td>1923426489303302817</td>\n",
       "      <td>1836015460420681761</td>\n",
       "      <td>1</td>\n",
       "      <td>1806829201915904256</td>\n",
       "      <td>jewelry.pendant</td>\n",
       "      <td>0</td>\n",
       "      <td>33</td>\n",
       "      <td>1515915625233029376</td>\n",
       "      <td>NaN</td>\n",
       "      <td>red</td>\n",
       "      <td>gold</td>\n",
       "      <td>NaN</td>\n",
       "    </tr>\n",
       "    <tr>\n",
       "      <th>2</th>\n",
       "      <td>2018-11-29 17:58:37 UTC</td>\n",
       "      <td>1923459963229831173</td>\n",
       "      <td>1806829194936582544</td>\n",
       "      <td>1</td>\n",
       "      <td>1806829201882349824</td>\n",
       "      <td>jewelry.ring</td>\n",
       "      <td>1</td>\n",
       "      <td>75</td>\n",
       "      <td>1515915625233228544</td>\n",
       "      <td>NaN</td>\n",
       "      <td>red</td>\n",
       "      <td>gold</td>\n",
       "      <td>amethyst</td>\n",
       "    </tr>\n",
       "    <tr>\n",
       "      <th>3</th>\n",
       "      <td>2018-11-29 20:25:52 UTC</td>\n",
       "      <td>1923534078074684181</td>\n",
       "      <td>1835566854668550661</td>\n",
       "      <td>1</td>\n",
       "      <td>1806829201890738432</td>\n",
       "      <td>jewelry.earring</td>\n",
       "      <td>0</td>\n",
       "      <td>131</td>\n",
       "      <td>1515915625233289216</td>\n",
       "      <td>f</td>\n",
       "      <td>red</td>\n",
       "      <td>gold</td>\n",
       "      <td>NaN</td>\n",
       "    </tr>\n",
       "    <tr>\n",
       "      <th>4</th>\n",
       "      <td>2018-11-29 20:30:01 UTC</td>\n",
       "      <td>1923536169069445939</td>\n",
       "      <td>1836568752905257618</td>\n",
       "      <td>1</td>\n",
       "      <td>1806829201865572608</td>\n",
       "      <td>jewelry.bracelet</td>\n",
       "      <td>0</td>\n",
       "      <td>103</td>\n",
       "      <td>1515915625117578240</td>\n",
       "      <td>f</td>\n",
       "      <td>red</td>\n",
       "      <td>gold</td>\n",
       "      <td>NaN</td>\n",
       "    </tr>\n",
       "  </tbody>\n",
       "</table>\n",
       "</div>"
      ],
      "text/plain": [
       "                event_time             order_id           product_id  \\\n",
       "0  2018-11-29 16:30:45 UTC  1923415742179443254  1836250225916772582   \n",
       "1  2018-11-29 16:52:07 UTC  1923426489303302817  1836015460420681761   \n",
       "2  2018-11-29 17:58:37 UTC  1923459963229831173  1806829194936582544   \n",
       "3  2018-11-29 20:25:52 UTC  1923534078074684181  1835566854668550661   \n",
       "4  2018-11-29 20:30:01 UTC  1923536169069445939  1836568752905257618   \n",
       "\n",
       "   quantity         category_id     category_code  brand  price  \\\n",
       "0         1 1806829201915904256   jewelry.pendant      0     68   \n",
       "1         1 1806829201915904256   jewelry.pendant      0     33   \n",
       "2         1 1806829201882349824      jewelry.ring      1     75   \n",
       "3         1 1806829201890738432   jewelry.earring      0    131   \n",
       "4         1 1806829201865572608  jewelry.bracelet      0    103   \n",
       "\n",
       "              user_id gender color metal       gem  \n",
       "0 1515915625233196800    NaN   red  gold   diamond  \n",
       "1 1515915625233029376    NaN   red  gold       NaN  \n",
       "2 1515915625233228544    NaN   red  gold  amethyst  \n",
       "3 1515915625233289216      f   red  gold       NaN  \n",
       "4 1515915625117578240      f   red  gold       NaN  "
      ]
     },
     "execution_count": 90,
     "metadata": {},
     "output_type": "execute_result"
    }
   ],
   "source": [
    "cat_prod = jewelry.loc[(jewelry.category_id.notnull()) & (jewelry.category_code.notnull())] \n",
    "cat_prod.head()"
   ]
  },
  {
   "cell_type": "code",
   "execution_count": null,
   "id": "1a2defcb",
   "metadata": {},
   "outputs": [],
   "source": [
    "nyc_joined = fp_left_joined.loc[(fp_left_joined['origin'].isin (['JFK','LGA'])) & (fp_left_joined['year'] == 2013) ]"
   ]
  },
  {
   "cell_type": "code",
   "execution_count": 91,
   "id": "f804b774",
   "metadata": {},
   "outputs": [
    {
     "data": {
      "text/plain": [
       "103277"
      ]
     },
     "execution_count": 91,
     "metadata": {},
     "output_type": "execute_result"
    }
   ],
   "source": [
    "len(cat_prod)"
   ]
  },
  {
   "cell_type": "code",
   "execution_count": 113,
   "id": "cbfbeca1",
   "metadata": {},
   "outputs": [
    {
     "data": {
      "text/plain": [
       "False"
      ]
     },
     "execution_count": 113,
     "metadata": {},
     "output_type": "execute_result"
    }
   ],
   "source": [
    "cat_test = jewelry.loc[(jewelry.category_id.isin ([1806829201848795392]))] \n",
    "\n",
    "cat_test.category_code.notnull().any()"
   ]
  },
  {
   "cell_type": "code",
   "execution_count": 116,
   "id": "55dbe6f7",
   "metadata": {},
   "outputs": [
    {
     "data": {
      "text/html": [
       "<div>\n",
       "<style scoped>\n",
       "    .dataframe tbody tr th:only-of-type {\n",
       "        vertical-align: middle;\n",
       "    }\n",
       "\n",
       "    .dataframe tbody tr th {\n",
       "        vertical-align: top;\n",
       "    }\n",
       "\n",
       "    .dataframe thead th {\n",
       "        text-align: right;\n",
       "    }\n",
       "</style>\n",
       "<table border=\"1\" class=\"dataframe\">\n",
       "  <thead>\n",
       "    <tr style=\"text-align: right;\">\n",
       "      <th></th>\n",
       "      <th>event_time</th>\n",
       "      <th>order_id</th>\n",
       "      <th>product_id</th>\n",
       "      <th>quantity</th>\n",
       "      <th>category_id</th>\n",
       "      <th>category_code</th>\n",
       "      <th>brand</th>\n",
       "      <th>price</th>\n",
       "      <th>user_id</th>\n",
       "      <th>gender</th>\n",
       "      <th>color</th>\n",
       "      <th>metal</th>\n",
       "      <th>gem</th>\n",
       "    </tr>\n",
       "  </thead>\n",
       "  <tbody>\n",
       "    <tr>\n",
       "      <th>2055</th>\n",
       "      <td>2019-01-19 16:50:29 UTC</td>\n",
       "      <td>1960389233814274426</td>\n",
       "      <td>1916614406133776515</td>\n",
       "      <td>1</td>\n",
       "      <td>NaN</td>\n",
       "      <td>697.58</td>\n",
       "      <td>1515915625236289280</td>\n",
       "      <td>NaN</td>\n",
       "      <td>NaN</td>\n",
       "      <td>NaN</td>\n",
       "      <td>NaN</td>\n",
       "      <td>NaN</td>\n",
       "      <td>NaN</td>\n",
       "    </tr>\n",
       "    <tr>\n",
       "      <th>3296</th>\n",
       "      <td>2019-01-26 05:51:21 UTC</td>\n",
       "      <td>1965130913738130034</td>\n",
       "      <td>1937825427510789079</td>\n",
       "      <td>1</td>\n",
       "      <td>NaN</td>\n",
       "      <td>230.12</td>\n",
       "      <td>1550612949079425536</td>\n",
       "      <td>NaN</td>\n",
       "      <td>NaN</td>\n",
       "      <td>NaN</td>\n",
       "      <td>NaN</td>\n",
       "      <td>NaN</td>\n",
       "      <td>NaN</td>\n",
       "    </tr>\n",
       "    <tr>\n",
       "      <th>5462</th>\n",
       "      <td>2019-02-05 08:39:25 UTC</td>\n",
       "      <td>1972463258694582403</td>\n",
       "      <td>1536903766496772737</td>\n",
       "      <td>1</td>\n",
       "      <td>NaN</td>\n",
       "      <td>202.36</td>\n",
       "      <td>1325156214706799360</td>\n",
       "      <td>NaN</td>\n",
       "      <td>NaN</td>\n",
       "      <td>NaN</td>\n",
       "      <td>NaN</td>\n",
       "      <td>NaN</td>\n",
       "      <td>NaN</td>\n",
       "    </tr>\n",
       "    <tr>\n",
       "      <th>7224</th>\n",
       "      <td>2019-02-14 08:19:11 UTC</td>\n",
       "      <td>1978976060741517517</td>\n",
       "      <td>1515966222725010479</td>\n",
       "      <td>1</td>\n",
       "      <td>NaN</td>\n",
       "      <td>140.51</td>\n",
       "      <td>1515915625260675328</td>\n",
       "      <td>NaN</td>\n",
       "      <td>NaN</td>\n",
       "      <td>NaN</td>\n",
       "      <td>NaN</td>\n",
       "      <td>NaN</td>\n",
       "      <td>NaN</td>\n",
       "    </tr>\n",
       "    <tr>\n",
       "      <th>7225</th>\n",
       "      <td>2019-02-14 08:19:11 UTC</td>\n",
       "      <td>1978976060741517517</td>\n",
       "      <td>1515966222725010480</td>\n",
       "      <td>1</td>\n",
       "      <td>NaN</td>\n",
       "      <td>639.00</td>\n",
       "      <td>1515915625260675328</td>\n",
       "      <td>NaN</td>\n",
       "      <td>NaN</td>\n",
       "      <td>NaN</td>\n",
       "      <td>NaN</td>\n",
       "      <td>NaN</td>\n",
       "      <td>NaN</td>\n",
       "    </tr>\n",
       "    <tr>\n",
       "      <th>...</th>\n",
       "      <td>...</td>\n",
       "      <td>...</td>\n",
       "      <td>...</td>\n",
       "      <td>...</td>\n",
       "      <td>...</td>\n",
       "      <td>...</td>\n",
       "      <td>...</td>\n",
       "      <td>...</td>\n",
       "      <td>...</td>\n",
       "      <td>...</td>\n",
       "      <td>...</td>\n",
       "      <td>...</td>\n",
       "      <td>...</td>\n",
       "    </tr>\n",
       "    <tr>\n",
       "      <th>111489</th>\n",
       "      <td>2020-11-17 08:36:25 UTC</td>\n",
       "      <td>2444290753170506336</td>\n",
       "      <td>1515966223500167543</td>\n",
       "      <td>1</td>\n",
       "      <td>NaN</td>\n",
       "      <td>318.71</td>\n",
       "      <td>1515915625349119744</td>\n",
       "      <td>NaN</td>\n",
       "      <td>NaN</td>\n",
       "      <td>NaN</td>\n",
       "      <td>NaN</td>\n",
       "      <td>NaN</td>\n",
       "      <td>NaN</td>\n",
       "    </tr>\n",
       "    <tr>\n",
       "      <th>111490</th>\n",
       "      <td>2020-11-17 08:36:25 UTC</td>\n",
       "      <td>2444290753170506336</td>\n",
       "      <td>1515966223500167543</td>\n",
       "      <td>1</td>\n",
       "      <td>NaN</td>\n",
       "      <td>318.71</td>\n",
       "      <td>1515915625349119744</td>\n",
       "      <td>NaN</td>\n",
       "      <td>NaN</td>\n",
       "      <td>NaN</td>\n",
       "      <td>NaN</td>\n",
       "      <td>NaN</td>\n",
       "      <td>NaN</td>\n",
       "    </tr>\n",
       "    <tr>\n",
       "      <th>111968</th>\n",
       "      <td>2020-11-20 17:20:32 UTC</td>\n",
       "      <td>2446728873597993079</td>\n",
       "      <td>1515966223558740733</td>\n",
       "      <td>1</td>\n",
       "      <td>NaN</td>\n",
       "      <td>0.14</td>\n",
       "      <td>1515915625541766144</td>\n",
       "      <td>NaN</td>\n",
       "      <td>NaN</td>\n",
       "      <td>NaN</td>\n",
       "      <td>NaN</td>\n",
       "      <td>NaN</td>\n",
       "      <td>NaN</td>\n",
       "    </tr>\n",
       "    <tr>\n",
       "      <th>112073</th>\n",
       "      <td>2020-11-21 13:47:57 UTC</td>\n",
       "      <td>2447346655536611380</td>\n",
       "      <td>1515966223559252325</td>\n",
       "      <td>1</td>\n",
       "      <td>NaN</td>\n",
       "      <td>440.96</td>\n",
       "      <td>1515915625056977664</td>\n",
       "      <td>NaN</td>\n",
       "      <td>NaN</td>\n",
       "      <td>NaN</td>\n",
       "      <td>NaN</td>\n",
       "      <td>NaN</td>\n",
       "      <td>NaN</td>\n",
       "    </tr>\n",
       "    <tr>\n",
       "      <th>112484</th>\n",
       "      <td>2020-11-24 16:35:20 UTC</td>\n",
       "      <td>2449605224671740874</td>\n",
       "      <td>1515966223582237841</td>\n",
       "      <td>1</td>\n",
       "      <td>NaN</td>\n",
       "      <td>323.60</td>\n",
       "      <td>1515915625404872448</td>\n",
       "      <td>NaN</td>\n",
       "      <td>NaN</td>\n",
       "      <td>NaN</td>\n",
       "      <td>NaN</td>\n",
       "      <td>NaN</td>\n",
       "      <td>NaN</td>\n",
       "    </tr>\n",
       "  </tbody>\n",
       "</table>\n",
       "<p>397 rows × 13 columns</p>\n",
       "</div>"
      ],
      "text/plain": [
       "                     event_time             order_id           product_id  \\\n",
       "2055    2019-01-19 16:50:29 UTC  1960389233814274426  1916614406133776515   \n",
       "3296    2019-01-26 05:51:21 UTC  1965130913738130034  1937825427510789079   \n",
       "5462    2019-02-05 08:39:25 UTC  1972463258694582403  1536903766496772737   \n",
       "7224    2019-02-14 08:19:11 UTC  1978976060741517517  1515966222725010479   \n",
       "7225    2019-02-14 08:19:11 UTC  1978976060741517517  1515966222725010480   \n",
       "...                         ...                  ...                  ...   \n",
       "111489  2020-11-17 08:36:25 UTC  2444290753170506336  1515966223500167543   \n",
       "111490  2020-11-17 08:36:25 UTC  2444290753170506336  1515966223500167543   \n",
       "111968  2020-11-20 17:20:32 UTC  2446728873597993079  1515966223558740733   \n",
       "112073  2020-11-21 13:47:57 UTC  2447346655536611380  1515966223559252325   \n",
       "112484  2020-11-24 16:35:20 UTC  2449605224671740874  1515966223582237841   \n",
       "\n",
       "        quantity  category_id category_code               brand  price  \\\n",
       "2055           1          NaN        697.58 1515915625236289280    NaN   \n",
       "3296           1          NaN        230.12 1550612949079425536    NaN   \n",
       "5462           1          NaN        202.36 1325156214706799360    NaN   \n",
       "7224           1          NaN        140.51 1515915625260675328    NaN   \n",
       "7225           1          NaN        639.00 1515915625260675328    NaN   \n",
       "...          ...          ...           ...                 ...    ...   \n",
       "111489         1          NaN        318.71 1515915625349119744    NaN   \n",
       "111490         1          NaN        318.71 1515915625349119744    NaN   \n",
       "111968         1          NaN          0.14 1515915625541766144    NaN   \n",
       "112073         1          NaN        440.96 1515915625056977664    NaN   \n",
       "112484         1          NaN        323.60 1515915625404872448    NaN   \n",
       "\n",
       "        user_id gender color metal  gem  \n",
       "2055        NaN    NaN   NaN   NaN  NaN  \n",
       "3296        NaN    NaN   NaN   NaN  NaN  \n",
       "5462        NaN    NaN   NaN   NaN  NaN  \n",
       "7224        NaN    NaN   NaN   NaN  NaN  \n",
       "7225        NaN    NaN   NaN   NaN  NaN  \n",
       "...         ...    ...   ...   ...  ...  \n",
       "111489      NaN    NaN   NaN   NaN  NaN  \n",
       "111490      NaN    NaN   NaN   NaN  NaN  \n",
       "111968      NaN    NaN   NaN   NaN  NaN  \n",
       "112073      NaN    NaN   NaN   NaN  NaN  \n",
       "112484      NaN    NaN   NaN   NaN  NaN  \n",
       "\n",
       "[397 rows x 13 columns]"
      ]
     },
     "execution_count": 116,
     "metadata": {},
     "output_type": "execute_result"
    }
   ],
   "source": [
    "cat_test2 = jewelry.loc[(jewelry.category_id.isnull())] \n",
    "\n",
    "\n",
    "cat_test2\n"
   ]
  },
  {
   "cell_type": "code",
   "execution_count": 122,
   "id": "0e8bfe73",
   "metadata": {},
   "outputs": [
    {
     "data": {
      "text/plain": [
       "154.66     10\n",
       "596.48     10\n",
       "150.55      9\n",
       "176.30      8\n",
       "1447.68     8\n",
       "           ..\n",
       "412.30      1\n",
       "2746.44     1\n",
       "355.27      1\n",
       "210.21      1\n",
       "149.04      1\n",
       "Name: category_code, Length: 193, dtype: int64"
      ]
     },
     "execution_count": 122,
     "metadata": {},
     "output_type": "execute_result"
    }
   ],
   "source": [
    "cat_test2['category_code'].value_counts()"
   ]
  },
  {
   "cell_type": "code",
   "execution_count": 124,
   "id": "5523b539",
   "metadata": {},
   "outputs": [
    {
     "data": {
      "text/plain": [
       "array(['697.58', '230.12', '202.36', '140.51', '639.00', '1098.03',\n",
       "       '321.78', '1128.62', '81.27', '34.25', '582.16', '227.37',\n",
       "       '234.22', '131.82', '150.55', '2123.15', '109.45', '26.03',\n",
       "       '49.22', '472.47', '205.38', '2061.51', '313.36', '2746.44',\n",
       "       '2.73', '51.08', '1636.85', '335.59', '108.33', '752.01', '231.12',\n",
       "       '152.33', '184.22', '1095.75', '76.97', '3054.73', '212.19',\n",
       "       '184.90', '560.92', '2.88', '380.10', '357.49', '15.47', '135.33',\n",
       "       '719.75', '93.01', '177.95', '287.53', '412.30', '102.10',\n",
       "       '595.75', '469.56', '427.07', '53.62', '77.53', '1469.18',\n",
       "       '355.27', '184.89', '154.66', '300.58', '83.73', '271.19',\n",
       "       '3294.21', '278.04', '3626.26', '126.03', '143.15', '283.52',\n",
       "       '306.12', '328.73', '114.38', '89.04', '3022.56', '273.25',\n",
       "       '300.16', '8.22', '164.36', '124.88', '114.93', '89.73', '171.23',\n",
       "       '136.93', '19.04', '158.77', '611.63', '190.27', '2.30', '187.10',\n",
       "       '151.92', '1845.89', '87.23', '248.58', '596.48', '208.88',\n",
       "       '193.11', '169.84', '1447.68', '792.32', '45.07', '136.85',\n",
       "       '282.05', '61.51', '210.21', '137.12', '147.81', '419.45',\n",
       "       '825.27', '541.78', '308.74', '766.85', '410.82', '101.23',\n",
       "       '1356.16', '13.42', '35.21', '134.79', '75.21', '626.58', '13.70',\n",
       "       '108.53', '119.01', '7.40', '4.79', '0.27', '153.97', '482.47',\n",
       "       '427.36', '289.18', '25.48', '1858.49', '21.70', '11.77', '198.89',\n",
       "       '17.51', '574.66', '1319.93', '393.05', '358.22', '2282.19',\n",
       "       '371.23', '63.56', '88.77', '133.70', '256.44', '117.81', '166.03',\n",
       "       '130.41', '374.74', '195.75', '157.16', '469.32', '172.05',\n",
       "       '112.19', '290.96', '104.79', '228.59', '1686.93', '65.89',\n",
       "       '242.19', '832.01', '139.86', '105.48', '1144.56', '347.49',\n",
       "       '4876.49', '195.07', '350.11', '360.04', '132.60', '147.12',\n",
       "       '252.47', '210.41', '363.42', '149.04', '157.95', '315.55',\n",
       "       '290.82', '500.49', '512.82', '176.30', '160.96', '0.14', '316.30',\n",
       "       '258.77', '268.36', '838.90', '250.96', '297.22', '312.33',\n",
       "       '262.88', '318.71', '440.96', '323.60'], dtype=object)"
      ]
     },
     "execution_count": 124,
     "metadata": {},
     "output_type": "execute_result"
    }
   ],
   "source": [
    "cat_test2['category_code'].unique()"
   ]
  },
  {
   "cell_type": "code",
   "execution_count": 20,
   "id": "5a3afce1",
   "metadata": {},
   "outputs": [
    {
     "data": {
      "text/plain": [
       "diamond                34804\n",
       "fianit                 17782\n",
       "topaz                   7879\n",
       "pearl                   4203\n",
       "garnet                  3419\n",
       "sapphire                2260\n",
       "amethyst                2194\n",
       "mix                     1277\n",
       "emerald                 1009\n",
       "quartz                   662\n",
       "amber                    267\n",
       "ruby                     252\n",
       "chrysolite               147\n",
       "quartz_smoky             143\n",
       "rhodolite                120\n",
       "citrine                  112\n",
       "nanocrystal               94\n",
       "sitall                    79\n",
       "turquoise                 66\n",
       "corundum_synthetic        59\n",
       "agate                     37\n",
       "spinel                    26\n",
       "tourmaline                23\n",
       "nacre                     23\n",
       "emerald_geothermal        19\n",
       "onyx                      16\n",
       "chrysoprase               11\n",
       "coral                      6\n",
       "sapphire_geothermal        3\n",
       "corundum                   3\n",
       "malachite                  1\n",
       "garnet_synthetic           1\n",
       "Name: gem, dtype: int64"
      ]
     },
     "execution_count": 20,
     "metadata": {},
     "output_type": "execute_result"
    }
   ],
   "source": [
    "jewelry.gem.value_counts()"
   ]
  },
  {
   "cell_type": "code",
   "execution_count": 127,
   "id": "9c719701",
   "metadata": {},
   "outputs": [
    {
     "data": {
      "text/html": [
       "<div>\n",
       "<style scoped>\n",
       "    .dataframe tbody tr th:only-of-type {\n",
       "        vertical-align: middle;\n",
       "    }\n",
       "\n",
       "    .dataframe tbody tr th {\n",
       "        vertical-align: top;\n",
       "    }\n",
       "\n",
       "    .dataframe thead th {\n",
       "        text-align: right;\n",
       "    }\n",
       "</style>\n",
       "<table border=\"1\" class=\"dataframe\">\n",
       "  <thead>\n",
       "    <tr style=\"text-align: right;\">\n",
       "      <th></th>\n",
       "      <th>event_time</th>\n",
       "      <th>order_id</th>\n",
       "      <th>product_id</th>\n",
       "      <th>quantity</th>\n",
       "      <th>category_id</th>\n",
       "      <th>category_code</th>\n",
       "      <th>brand</th>\n",
       "      <th>price</th>\n",
       "      <th>user_id</th>\n",
       "      <th>gender</th>\n",
       "      <th>color</th>\n",
       "      <th>metal</th>\n",
       "      <th>gem</th>\n",
       "    </tr>\n",
       "  </thead>\n",
       "  <tbody>\n",
       "    <tr>\n",
       "      <th>6</th>\n",
       "      <td>2018-11-30 04:44:41 UTC</td>\n",
       "      <td>1923785141226832396</td>\n",
       "      <td>1806829188997448495</td>\n",
       "      <td>1</td>\n",
       "      <td>1806829201890738432</td>\n",
       "      <td>jewelry.earring</td>\n",
       "      <td>0</td>\n",
       "      <td>281</td>\n",
       "      <td>1515915625229118208</td>\n",
       "      <td>f</td>\n",
       "      <td>white</td>\n",
       "      <td>gold</td>\n",
       "      <td>topaz</td>\n",
       "    </tr>\n",
       "    <tr>\n",
       "      <th>8</th>\n",
       "      <td>2018-11-30 05:57:31 UTC</td>\n",
       "      <td>1923821802102980777</td>\n",
       "      <td>1807570270689427678</td>\n",
       "      <td>1</td>\n",
       "      <td>1806829201890738432</td>\n",
       "      <td>jewelry.earring</td>\n",
       "      <td>0</td>\n",
       "      <td>103</td>\n",
       "      <td>1515915625227051520</td>\n",
       "      <td>f</td>\n",
       "      <td>yellow</td>\n",
       "      <td>gold</td>\n",
       "      <td>garnet</td>\n",
       "    </tr>\n",
       "    <tr>\n",
       "      <th>10</th>\n",
       "      <td>2018-11-30 07:51:11 UTC</td>\n",
       "      <td>1923879009750352262</td>\n",
       "      <td>1835768939246781396</td>\n",
       "      <td>1</td>\n",
       "      <td>1806829201882349824</td>\n",
       "      <td>jewelry.ring</td>\n",
       "      <td>5</td>\n",
       "      <td>75</td>\n",
       "      <td>1515915625200819712</td>\n",
       "      <td>f</td>\n",
       "      <td>red</td>\n",
       "      <td>gold</td>\n",
       "      <td>pearl</td>\n",
       "    </tr>\n",
       "    <tr>\n",
       "      <th>11</th>\n",
       "      <td>2018-11-30 07:53:37 UTC</td>\n",
       "      <td>1923880230888407455</td>\n",
       "      <td>1806829197990035478</td>\n",
       "      <td>1</td>\n",
       "      <td>1806829201865572608</td>\n",
       "      <td>jewelry.bracelet</td>\n",
       "      <td>5</td>\n",
       "      <td>411</td>\n",
       "      <td>1515915625047730176</td>\n",
       "      <td>f</td>\n",
       "      <td>red</td>\n",
       "      <td>gold</td>\n",
       "      <td>amethyst</td>\n",
       "    </tr>\n",
       "    <tr>\n",
       "      <th>12</th>\n",
       "      <td>2018-11-30 08:09:26 UTC</td>\n",
       "      <td>1923888191576736319</td>\n",
       "      <td>1807251125804466651</td>\n",
       "      <td>1</td>\n",
       "      <td>1806829201890738432</td>\n",
       "      <td>jewelry.earring</td>\n",
       "      <td>5</td>\n",
       "      <td>551</td>\n",
       "      <td>1515915625040805120</td>\n",
       "      <td>f</td>\n",
       "      <td>red</td>\n",
       "      <td>gold</td>\n",
       "      <td>diamond</td>\n",
       "    </tr>\n",
       "    <tr>\n",
       "      <th>...</th>\n",
       "      <td>...</td>\n",
       "      <td>...</td>\n",
       "      <td>...</td>\n",
       "      <td>...</td>\n",
       "      <td>...</td>\n",
       "      <td>...</td>\n",
       "      <td>...</td>\n",
       "      <td>...</td>\n",
       "      <td>...</td>\n",
       "      <td>...</td>\n",
       "      <td>...</td>\n",
       "      <td>...</td>\n",
       "      <td>...</td>\n",
       "    </tr>\n",
       "    <tr>\n",
       "      <th>113293</th>\n",
       "      <td>2020-11-29 14:11:20 UTC</td>\n",
       "      <td>2453156631333044279</td>\n",
       "      <td>1956663846382863135</td>\n",
       "      <td>1</td>\n",
       "      <td>1806829201882349824</td>\n",
       "      <td>jewelry.ring</td>\n",
       "      <td>1</td>\n",
       "      <td>635</td>\n",
       "      <td>1515915625545791744</td>\n",
       "      <td>f</td>\n",
       "      <td>red</td>\n",
       "      <td>gold</td>\n",
       "      <td>diamond</td>\n",
       "    </tr>\n",
       "    <tr>\n",
       "      <th>113294</th>\n",
       "      <td>2020-11-29 14:11:20 UTC</td>\n",
       "      <td>2453156631333044279</td>\n",
       "      <td>1956663846382863135</td>\n",
       "      <td>1</td>\n",
       "      <td>1806829201882349824</td>\n",
       "      <td>jewelry.ring</td>\n",
       "      <td>1</td>\n",
       "      <td>635</td>\n",
       "      <td>1515915625545791744</td>\n",
       "      <td>f</td>\n",
       "      <td>red</td>\n",
       "      <td>gold</td>\n",
       "      <td>diamond</td>\n",
       "    </tr>\n",
       "    <tr>\n",
       "      <th>113295</th>\n",
       "      <td>2020-11-29 14:21:39 UTC</td>\n",
       "      <td>2453161821616472226</td>\n",
       "      <td>2362688282686390554</td>\n",
       "      <td>1</td>\n",
       "      <td>1806829201890738432</td>\n",
       "      <td>jewelry.earring</td>\n",
       "      <td>0</td>\n",
       "      <td>216</td>\n",
       "      <td>1515915625546158592</td>\n",
       "      <td>f</td>\n",
       "      <td>red</td>\n",
       "      <td>gold</td>\n",
       "      <td>garnet</td>\n",
       "    </tr>\n",
       "    <tr>\n",
       "      <th>113299</th>\n",
       "      <td>2020-11-29 14:32:30 UTC</td>\n",
       "      <td>2453167283086819594</td>\n",
       "      <td>1927585748282770109</td>\n",
       "      <td>1</td>\n",
       "      <td>1806829201915904256</td>\n",
       "      <td>jewelry.pendant</td>\n",
       "      <td>0</td>\n",
       "      <td>93</td>\n",
       "      <td>1515915625546154752</td>\n",
       "      <td>f</td>\n",
       "      <td>red</td>\n",
       "      <td>gold</td>\n",
       "      <td>topaz</td>\n",
       "    </tr>\n",
       "    <tr>\n",
       "      <th>113300</th>\n",
       "      <td>2020-11-29 14:36:52 UTC</td>\n",
       "      <td>2453169475306914089</td>\n",
       "      <td>1956663846458360689</td>\n",
       "      <td>1</td>\n",
       "      <td>1806829201882349824</td>\n",
       "      <td>jewelry.ring</td>\n",
       "      <td>0</td>\n",
       "      <td>240</td>\n",
       "      <td>1515915625545604608</td>\n",
       "      <td>f</td>\n",
       "      <td>red</td>\n",
       "      <td>gold</td>\n",
       "      <td>diamond</td>\n",
       "    </tr>\n",
       "  </tbody>\n",
       "</table>\n",
       "<p>45324 rows × 13 columns</p>\n",
       "</div>"
      ],
      "text/plain": [
       "                     event_time             order_id           product_id  \\\n",
       "6       2018-11-30 04:44:41 UTC  1923785141226832396  1806829188997448495   \n",
       "8       2018-11-30 05:57:31 UTC  1923821802102980777  1807570270689427678   \n",
       "10      2018-11-30 07:51:11 UTC  1923879009750352262  1835768939246781396   \n",
       "11      2018-11-30 07:53:37 UTC  1923880230888407455  1806829197990035478   \n",
       "12      2018-11-30 08:09:26 UTC  1923888191576736319  1807251125804466651   \n",
       "...                         ...                  ...                  ...   \n",
       "113293  2020-11-29 14:11:20 UTC  2453156631333044279  1956663846382863135   \n",
       "113294  2020-11-29 14:11:20 UTC  2453156631333044279  1956663846382863135   \n",
       "113295  2020-11-29 14:21:39 UTC  2453161821616472226  2362688282686390554   \n",
       "113299  2020-11-29 14:32:30 UTC  2453167283086819594  1927585748282770109   \n",
       "113300  2020-11-29 14:36:52 UTC  2453169475306914089  1956663846458360689   \n",
       "\n",
       "        quantity         category_id     category_code  brand  price  \\\n",
       "6              1 1806829201890738432   jewelry.earring      0    281   \n",
       "8              1 1806829201890738432   jewelry.earring      0    103   \n",
       "10             1 1806829201882349824      jewelry.ring      5     75   \n",
       "11             1 1806829201865572608  jewelry.bracelet      5    411   \n",
       "12             1 1806829201890738432   jewelry.earring      5    551   \n",
       "...          ...                 ...               ...    ...    ...   \n",
       "113293         1 1806829201882349824      jewelry.ring      1    635   \n",
       "113294         1 1806829201882349824      jewelry.ring      1    635   \n",
       "113295         1 1806829201890738432   jewelry.earring      0    216   \n",
       "113299         1 1806829201915904256   jewelry.pendant      0     93   \n",
       "113300         1 1806829201882349824      jewelry.ring      0    240   \n",
       "\n",
       "                   user_id gender   color metal       gem  \n",
       "6      1515915625229118208      f   white  gold     topaz  \n",
       "8      1515915625227051520      f  yellow  gold    garnet  \n",
       "10     1515915625200819712      f     red  gold     pearl  \n",
       "11     1515915625047730176      f     red  gold  amethyst  \n",
       "12     1515915625040805120      f     red  gold   diamond  \n",
       "...                    ...    ...     ...   ...       ...  \n",
       "113293 1515915625545791744      f     red  gold   diamond  \n",
       "113294 1515915625545791744      f     red  gold   diamond  \n",
       "113295 1515915625546158592      f     red  gold    garnet  \n",
       "113299 1515915625546154752      f     red  gold     topaz  \n",
       "113300 1515915625545604608      f     red  gold   diamond  \n",
       "\n",
       "[45324 rows x 13 columns]"
      ]
     },
     "execution_count": 127,
     "metadata": {},
     "output_type": "execute_result"
    }
   ],
   "source": [
    "jewelry.dropna()"
   ]
  },
  {
   "cell_type": "code",
   "execution_count": 23,
   "id": "8782c7c7",
   "metadata": {},
   "outputs": [
    {
     "data": {
      "text/plain": [
       "f    61538\n",
       "m      509\n",
       "Name: gender, dtype: int64"
      ]
     },
     "execution_count": 23,
     "metadata": {},
     "output_type": "execute_result"
    }
   ],
   "source": [
    "gender = jewelry.gender.value_counts()\n",
    "gender"
   ]
  },
  {
   "cell_type": "code",
   "execution_count": 24,
   "id": "3e352e9b",
   "metadata": {},
   "outputs": [
    {
     "data": {
      "image/png": "[encoded data removed]",
      "text/plain": [
       "<Figure size 432x288 with 1 Axes>"
      ]
     },
     "metadata": {},
     "output_type": "display_data"
    }
   ],
   "source": [
    "import matplotlib.pyplot as plt\n",
    "\n",
    "# Pie chart, where the slices will be ordered and plotted counter-clockwise:\n",
    "labels = gender.index\n",
    "values = gender.values\n",
    "explode = (0, 0.1)  # only \"explode\" the 2nd slice (i.e. 'Hogs')\n",
    "\n",
    "fig1, ax1 = plt.subplots()\n",
    "ax1.pie(values, explode=explode, labels=labels, autopct='%1.1f%%',\n",
    "        shadow=True, startangle=90)\n",
    "ax1.axis('equal')  # Equal aspect ratio ensures that pie is drawn as a circle.\n",
    "\n",
    "plt.show()"
   ]
  },
  {
   "cell_type": "code",
   "execution_count": 25,
   "id": "10e8c514",
   "metadata": {},
   "outputs": [
    {
     "data": {
      "text/plain": [
       "event_time           0\n",
       "order_id             0\n",
       "product_id           0\n",
       "quantity             0\n",
       "category_id        397\n",
       "category_code     9628\n",
       "brand             1366\n",
       "price              397\n",
       "user_id            397\n",
       "gender           51009\n",
       "color             3007\n",
       "metal              431\n",
       "gem              36059\n",
       "dtype: int64"
      ]
     },
     "execution_count": 25,
     "metadata": {},
     "output_type": "execute_result"
    }
   ],
   "source": [
    "jewelry.isna().sum()"
   ]
  },
  {
   "cell_type": "code",
   "execution_count": 26,
   "id": "bcd24410",
   "metadata": {},
   "outputs": [],
   "source": [
    "jewelry.drop(['gender'], axis=1, inplace= True)"
   ]
  },
  {
   "cell_type": "code",
   "execution_count": 28,
   "id": "5763c9b4",
   "metadata": {},
   "outputs": [],
   "source": [
    "jewelry.dropna(axis=0, inplace= True)"
   ]
  },
  {
   "cell_type": "code",
   "execution_count": 29,
   "id": "f7b81679",
   "metadata": {},
   "outputs": [
    {
     "data": {
      "text/plain": [
       "array([1], dtype=int64)"
      ]
     },
     "execution_count": 29,
     "metadata": {},
     "output_type": "execute_result"
    }
   ],
   "source": [
    "jewelry.quantity.unique()"
   ]
  },
  {
   "cell_type": "code",
   "execution_count": 30,
   "id": "edd14144",
   "metadata": {},
   "outputs": [],
   "source": [
    "jewelry.drop(['quantity'], axis=1, inplace= True)"
   ]
  },
  {
   "cell_type": "code",
   "execution_count": 31,
   "id": "2b583a41",
   "metadata": {},
   "outputs": [
    {
     "data": {
      "text/plain": [
       "event_time       0\n",
       "order_id         0\n",
       "product_id       0\n",
       "category_id      0\n",
       "category_code    0\n",
       "brand            0\n",
       "price            0\n",
       "user_id          0\n",
       "color            0\n",
       "metal            0\n",
       "gem              0\n",
       "dtype: int64"
      ]
     },
     "execution_count": 31,
     "metadata": {},
     "output_type": "execute_result"
    }
   ],
   "source": [
    "jewelry.isna().sum()"
   ]
  },
  {
   "cell_type": "code",
   "execution_count": 32,
   "id": "3c544b46",
   "metadata": {},
   "outputs": [
    {
     "data": {
      "text/plain": [
       "(74445, 11)"
      ]
     },
     "execution_count": 32,
     "metadata": {},
     "output_type": "execute_result"
    }
   ],
   "source": [
    "jewelry.shape"
   ]
  },
  {
   "cell_type": "code",
   "execution_count": 33,
   "id": "4ad503fb",
   "metadata": {},
   "outputs": [
    {
     "data": {
      "text/plain": [
       "event_time        object\n",
       "order_id           int64\n",
       "product_id         int64\n",
       "category_id      float64\n",
       "category_code     object\n",
       "brand            float64\n",
       "price            float64\n",
       "user_id          float64\n",
       "color             object\n",
       "metal             object\n",
       "gem               object\n",
       "dtype: object"
      ]
     },
     "execution_count": 33,
     "metadata": {},
     "output_type": "execute_result"
    }
   ],
   "source": [
    "jewelry.dtypes"
   ]
  },
  {
   "cell_type": "code",
   "execution_count": 34,
   "id": "2d88eae9",
   "metadata": {},
   "outputs": [
    {
     "data": {
      "text/plain": [
       "0    2018-11-29 16:30:45 UTC\n",
       "2    2018-11-29 17:58:37 UTC\n",
       "5    2018-11-29 23:27:58 UTC\n",
       "6    2018-11-30 04:44:41 UTC\n",
       "7    2018-11-30 05:57:23 UTC\n",
       "Name: event_time, dtype: object"
      ]
     },
     "execution_count": 34,
     "metadata": {},
     "output_type": "execute_result"
    }
   ],
   "source": [
    "jewelry['event_time'].head()"
   ]
  },
  {
   "cell_type": "code",
   "execution_count": 35,
   "id": "862fe548",
   "metadata": {},
   "outputs": [],
   "source": [
    "#Converting Date column from object to datetime\n",
    "jewelry['event_time'] = pd.to_datetime(jewelry['event_time'], format='%Y-%m-%d %H:%M:%S %Z')\n"
   ]
  },
  {
   "cell_type": "code",
   "execution_count": 41,
   "id": "60dd2ebe",
   "metadata": {},
   "outputs": [
    {
     "data": {
      "text/plain": [
       "datetime64[ns, UTC]"
      ]
     },
     "execution_count": 41,
     "metadata": {},
     "output_type": "execute_result"
    }
   ],
   "source": [
    "jewelry['event_time'].dtypes"
   ]
  },
  {
   "cell_type": "code",
   "execution_count": 42,
   "id": "85595f59",
   "metadata": {},
   "outputs": [
    {
     "data": {
      "text/plain": [
       "ring        28589\n",
       "earring     28436\n",
       "pendant     11185\n",
       "bracelet     3633\n",
       "necklace     1888\n",
       "brooch        714\n",
       "Name: category_code, dtype: int64"
      ]
     },
     "execution_count": 42,
     "metadata": {},
     "output_type": "execute_result"
    }
   ],
   "source": [
    "#Category with the most order\n",
    "\n",
    "jewelry.category_code.value_counts()"
   ]
  },
  {
   "cell_type": "code",
   "execution_count": 38,
   "id": "0c5aaa32",
   "metadata": {},
   "outputs": [
    {
     "data": {
      "text/plain": [
       "array(['pendant', 'ring', 'earring', 'bracelet', 'brooch', 'necklace'],\n",
       "      dtype=object)"
      ]
     },
     "execution_count": 38,
     "metadata": {},
     "output_type": "execute_result"
    }
   ],
   "source": [
    "jewelry['category_code'] = jewelry['category_code'].str[8:]\n",
    "jewelry.category_code.unique()"
   ]
  },
  {
   "cell_type": "code",
   "execution_count": 191,
   "id": "8995211d",
   "metadata": {},
   "outputs": [
    {
     "data": {
      "text/plain": [
       "0    34293\n",
       "1    32356\n",
       "5     7786\n",
       "2       10\n",
       "Name: brand, dtype: int64"
      ]
     },
     "execution_count": 191,
     "metadata": {},
     "output_type": "execute_result"
    }
   ],
   "source": [
    "jewelry.brand.value_counts()"
   ]
  },
  {
   "cell_type": "code",
   "execution_count": 43,
   "id": "f9aa4e91",
   "metadata": {},
   "outputs": [
    {
     "name": "stdout",
     "output_type": "stream",
     "text": [
      "(74445, 11)\n",
      "event_time       datetime64[ns, UTC]\n",
      "order_id                       int64\n",
      "product_id                     int64\n",
      "category_id                  float64\n",
      "category_code                 object\n",
      "brand                        float64\n",
      "price                        float64\n",
      "user_id                      float64\n",
      "color                         object\n",
      "metal                         object\n",
      "gem                           object\n",
      "dtype: object\n"
     ]
    }
   ],
   "source": [
    "print(jewelry.shape)\n",
    "print(jewelry.dtypes)"
   ]
  },
  {
   "cell_type": "code",
   "execution_count": 227,
   "id": "c7db2d9a",
   "metadata": {},
   "outputs": [
    {
     "data": {
      "text/html": [
       "<div>\n",
       "<style scoped>\n",
       "    .dataframe tbody tr th:only-of-type {\n",
       "        vertical-align: middle;\n",
       "    }\n",
       "\n",
       "    .dataframe tbody tr th {\n",
       "        vertical-align: top;\n",
       "    }\n",
       "\n",
       "    .dataframe thead th {\n",
       "        text-align: right;\n",
       "    }\n",
       "</style>\n",
       "<table border=\"1\" class=\"dataframe\">\n",
       "  <thead>\n",
       "    <tr style=\"text-align: right;\">\n",
       "      <th></th>\n",
       "      <th>event_time</th>\n",
       "      <th>order_id</th>\n",
       "      <th>product_id</th>\n",
       "      <th>category_id</th>\n",
       "      <th>category_code</th>\n",
       "      <th>brand</th>\n",
       "      <th>price</th>\n",
       "      <th>user_id</th>\n",
       "      <th>color</th>\n",
       "      <th>metal</th>\n",
       "      <th>gem</th>\n",
       "    </tr>\n",
       "  </thead>\n",
       "  <tbody>\n",
       "    <tr>\n",
       "      <th>0</th>\n",
       "      <td>2018-11-29 16:30:45+00:00</td>\n",
       "      <td>1923415742179443254</td>\n",
       "      <td>1836250225916772582</td>\n",
       "      <td>1806829201915904256</td>\n",
       "      <td>pendant</td>\n",
       "      <td>0</td>\n",
       "      <td>68</td>\n",
       "      <td>1515915625233196800</td>\n",
       "      <td>red</td>\n",
       "      <td>gold</td>\n",
       "      <td>diamond</td>\n",
       "    </tr>\n",
       "    <tr>\n",
       "      <th>2</th>\n",
       "      <td>2018-11-29 17:58:37+00:00</td>\n",
       "      <td>1923459963229831173</td>\n",
       "      <td>1806829194936582544</td>\n",
       "      <td>1806829201882349824</td>\n",
       "      <td>ring</td>\n",
       "      <td>1</td>\n",
       "      <td>75</td>\n",
       "      <td>1515915625233228544</td>\n",
       "      <td>red</td>\n",
       "      <td>gold</td>\n",
       "      <td>amethyst</td>\n",
       "    </tr>\n",
       "    <tr>\n",
       "      <th>5</th>\n",
       "      <td>2018-11-29 23:27:58+00:00</td>\n",
       "      <td>1923625730730623830</td>\n",
       "      <td>1836918640855745365</td>\n",
       "      <td>1806829201882349824</td>\n",
       "      <td>ring</td>\n",
       "      <td>1</td>\n",
       "      <td>74</td>\n",
       "      <td>1515915625157322496</td>\n",
       "      <td>white</td>\n",
       "      <td>gold</td>\n",
       "      <td>amethyst</td>\n",
       "    </tr>\n",
       "    <tr>\n",
       "      <th>6</th>\n",
       "      <td>2018-11-30 04:44:41+00:00</td>\n",
       "      <td>1923785141226832396</td>\n",
       "      <td>1806829188997448495</td>\n",
       "      <td>1806829201890738432</td>\n",
       "      <td>earring</td>\n",
       "      <td>0</td>\n",
       "      <td>281</td>\n",
       "      <td>1515915625229118208</td>\n",
       "      <td>white</td>\n",
       "      <td>gold</td>\n",
       "      <td>topaz</td>\n",
       "    </tr>\n",
       "    <tr>\n",
       "      <th>7</th>\n",
       "      <td>2018-11-30 05:57:23+00:00</td>\n",
       "      <td>1923821728249675940</td>\n",
       "      <td>1313677630628692275</td>\n",
       "      <td>1806829201882349824</td>\n",
       "      <td>ring</td>\n",
       "      <td>0</td>\n",
       "      <td>127</td>\n",
       "      <td>1515915625233394432</td>\n",
       "      <td>red</td>\n",
       "      <td>gold</td>\n",
       "      <td>fianit</td>\n",
       "    </tr>\n",
       "  </tbody>\n",
       "</table>\n",
       "</div>"
      ],
      "text/plain": [
       "                 event_time             order_id           product_id  \\\n",
       "0 2018-11-29 16:30:45+00:00  1923415742179443254  1836250225916772582   \n",
       "2 2018-11-29 17:58:37+00:00  1923459963229831173  1806829194936582544   \n",
       "5 2018-11-29 23:27:58+00:00  1923625730730623830  1836918640855745365   \n",
       "6 2018-11-30 04:44:41+00:00  1923785141226832396  1806829188997448495   \n",
       "7 2018-11-30 05:57:23+00:00  1923821728249675940  1313677630628692275   \n",
       "\n",
       "          category_id category_code  brand  price             user_id  color  \\\n",
       "0 1806829201915904256       pendant      0     68 1515915625233196800    red   \n",
       "2 1806829201882349824          ring      1     75 1515915625233228544    red   \n",
       "5 1806829201882349824          ring      1     74 1515915625157322496  white   \n",
       "6 1806829201890738432       earring      0    281 1515915625229118208  white   \n",
       "7 1806829201882349824          ring      0    127 1515915625233394432    red   \n",
       "\n",
       "  metal       gem  \n",
       "0  gold   diamond  \n",
       "2  gold  amethyst  \n",
       "5  gold  amethyst  \n",
       "6  gold     topaz  \n",
       "7  gold    fianit  "
      ]
     },
     "execution_count": 227,
     "metadata": {},
     "output_type": "execute_result"
    }
   ],
   "source": [
    "jewelry.head()"
   ]
  },
  {
   "cell_type": "markdown",
   "id": "831a9fd4",
   "metadata": {},
   "source": [
    "EDA - CAtegory"
   ]
  },
  {
   "cell_type": "code",
   "execution_count": 217,
   "id": "31dc6343",
   "metadata": {},
   "outputs": [
    {
     "data": {
      "text/plain": [
       "<AxesSubplot:>"
      ]
     },
     "execution_count": 217,
     "metadata": {},
     "output_type": "execute_result"
    },
    {
     "data": {
      "image/png": "[encoded data removed]",
      "text/plain": [
       "<Figure size 504x216 with 1 Axes>"
      ]
     },
     "metadata": {
      "needs_background": "light"
     },
     "output_type": "display_data"
    }
   ],
   "source": [
    "fig, ax = plt.subplots(figsize=(7,3))\n",
    "\n",
    "jewelry.category_code.value_counts().plot(ax=ax)"
   ]
  },
  {
   "cell_type": "code",
   "execution_count": 190,
   "id": "0ab379f8",
   "metadata": {},
   "outputs": [
    {
     "data": {
      "text/plain": [
       "ring        28589\n",
       "earring     28436\n",
       "pendant     11185\n",
       "bracelet     3633\n",
       "necklace     1888\n",
       "brooch        714\n",
       "Name: category_code, dtype: int64"
      ]
     },
     "execution_count": 190,
     "metadata": {},
     "output_type": "execute_result"
    }
   ],
   "source": [
    "jewelry.category_code.value_counts()"
   ]
  },
  {
   "cell_type": "code",
   "execution_count": 289,
   "id": "72f49cd6",
   "metadata": {},
   "outputs": [
    {
     "data": {
      "image/png": "[encoded data removed]",
      "text/plain": [
       "<Figure size 432x288 with 1 Axes>"
      ]
     },
     "metadata": {
      "needs_background": "light"
     },
     "output_type": "display_data"
    }
   ],
   "source": [
    "plt.figure()\n",
    "plt.bar(jewelry['category_code'].value_counts().index, jewelry['category_code'].value_counts().values)\n",
    "plt.xlabel('Categories of Jewelries')\n",
    "plt.ylabel('Number of Items')\n",
    "plt.xticks(rotation=45)\n",
    "plt.title('Jewery performance')\n",
    "plt.show()"
   ]
  },
  {
   "cell_type": "code",
   "execution_count": 214,
   "id": "39614aae",
   "metadata": {},
   "outputs": [
    {
     "data": {
      "text/html": [
       "<div>\n",
       "<style scoped>\n",
       "    .dataframe tbody tr th:only-of-type {\n",
       "        vertical-align: middle;\n",
       "    }\n",
       "\n",
       "    .dataframe tbody tr th {\n",
       "        vertical-align: top;\n",
       "    }\n",
       "\n",
       "    .dataframe thead th {\n",
       "        text-align: right;\n",
       "    }\n",
       "</style>\n",
       "<table border=\"1\" class=\"dataframe\">\n",
       "  <thead>\n",
       "    <tr style=\"text-align: right;\">\n",
       "      <th></th>\n",
       "      <th>price</th>\n",
       "    </tr>\n",
       "    <tr>\n",
       "      <th>category_code</th>\n",
       "      <th></th>\n",
       "    </tr>\n",
       "  </thead>\n",
       "  <tbody>\n",
       "    <tr>\n",
       "      <th>earring</th>\n",
       "      <td>10098469</td>\n",
       "    </tr>\n",
       "    <tr>\n",
       "      <th>ring</th>\n",
       "      <td>9542143</td>\n",
       "    </tr>\n",
       "    <tr>\n",
       "      <th>pendant</th>\n",
       "      <td>1535735</td>\n",
       "    </tr>\n",
       "    <tr>\n",
       "      <th>bracelet</th>\n",
       "      <td>1519602</td>\n",
       "    </tr>\n",
       "    <tr>\n",
       "      <th>necklace</th>\n",
       "      <td>677101</td>\n",
       "    </tr>\n",
       "    <tr>\n",
       "      <th>brooch</th>\n",
       "      <td>226105</td>\n",
       "    </tr>\n",
       "  </tbody>\n",
       "</table>\n",
       "</div>"
      ],
      "text/plain": [
       "                 price\n",
       "category_code         \n",
       "earring       10098469\n",
       "ring           9542143\n",
       "pendant        1535735\n",
       "bracelet       1519602\n",
       "necklace        677101\n",
       "brooch          226105"
      ]
     },
     "execution_count": 214,
     "metadata": {},
     "output_type": "execute_result"
    }
   ],
   "source": [
    "jewelry[['category_code', 'price']].groupby(['category_code']).sum().sort_values('price', ascending=False)\n"
   ]
  },
  {
   "cell_type": "code",
   "execution_count": null,
   "id": "6269d069",
   "metadata": {},
   "outputs": [],
   "source": [
    "jewelry.category_code.value_counts()"
   ]
  },
  {
   "cell_type": "code",
   "execution_count": 200,
   "id": "225b9a4c",
   "metadata": {},
   "outputs": [
    {
     "data": {
      "text/plain": [
       "<AxesSubplot:xlabel='event_time'>"
      ]
     },
     "execution_count": 200,
     "metadata": {},
     "output_type": "execute_result"
    },
    {
     "data": {
      "image/png": "[encoded data removed]",
      "text/plain": [
       "<Figure size 1080x504 with 1 Axes>"
      ]
     },
     "metadata": {
      "needs_background": "light"
     },
     "output_type": "display_data"
    }
   ],
   "source": [
    "# plot data\n",
    "fig, ax = plt.subplots(figsize=(15,7))\n",
    "# use unstack()\n",
    "jewelry.groupby(['event_time','category_code']).count()['order_id'].unstack().plot(ax=ax)"
   ]
  },
  {
   "cell_type": "code",
   "execution_count": 291,
   "id": "533afff0",
   "metadata": {},
   "outputs": [
    {
     "data": {
      "text/plain": [
       "0     2018-11-29 16:30:45+00:00\n",
       "961   2018-12-31 21:53:10+00:00\n",
       "Name: event_time, dtype: datetime64[ns, UTC]"
      ]
     },
     "execution_count": 291,
     "metadata": {},
     "output_type": "execute_result"
    }
   ],
   "source": [
    "jewelry_18 = jewelry.loc[(jewelry['event_time'] >= '2018') & (jewelry['event_time'] < '2019')]\n",
    "\n",
    "pd.concat([jewelry_18['event_time'].head(1), jewelry_18['event_time'].tail(1)])\n"
   ]
  },
  {
   "cell_type": "code",
   "execution_count": 281,
   "id": "61a54508",
   "metadata": {},
   "outputs": [
    {
     "data": {
      "text/plain": [
       "608"
      ]
     },
     "execution_count": 281,
     "metadata": {},
     "output_type": "execute_result"
    }
   ],
   "source": [
    "jewelry_18.order_id.value_counts().sum()"
   ]
  },
  {
   "cell_type": "code",
   "execution_count": 290,
   "id": "f25fece4",
   "metadata": {},
   "outputs": [
    {
     "data": {
      "text/plain": [
       "964     2019-01-01 17:06:17+00:00\n",
       "60870   2019-12-31 23:39:31+00:00\n",
       "Name: event_time, dtype: datetime64[ns, UTC]"
      ]
     },
     "execution_count": 290,
     "metadata": {},
     "output_type": "execute_result"
    }
   ],
   "source": [
    "jewelry_19 = jewelry.loc[(jewelry['event_time'] >= '2019') & (jewelry['event_time'] < '2020')]\n",
    "\n",
    "pd.concat([jewelry_19['event_time'].head(1), jewelry_19['event_time'].tail(1)])\n"
   ]
  },
  {
   "cell_type": "code",
   "execution_count": 283,
   "id": "1ec49448",
   "metadata": {},
   "outputs": [
    {
     "data": {
      "text/plain": [
       "40901"
      ]
     },
     "execution_count": 283,
     "metadata": {},
     "output_type": "execute_result"
    }
   ],
   "source": [
    "jewelry_19.order_id.value_counts().sum()"
   ]
  },
  {
   "cell_type": "code",
   "execution_count": 292,
   "id": "4f5df713",
   "metadata": {},
   "outputs": [
    {
     "data": {
      "text/plain": [
       "60874    2020-01-01 07:03:59+00:00\n",
       "113300   2020-11-29 14:36:52+00:00\n",
       "Name: event_time, dtype: datetime64[ns, UTC]"
      ]
     },
     "execution_count": 292,
     "metadata": {},
     "output_type": "execute_result"
    }
   ],
   "source": [
    "jewelry_20 = jewelry.loc[(jewelry['event_time'] >= '2020') & (jewelry['event_time'] < '2021')]\n",
    "\n",
    "pd.concat([jewelry_20['event_time'].head(1), jewelry_20['event_time'].tail(1)])\n"
   ]
  },
  {
   "cell_type": "code",
   "execution_count": 294,
   "id": "ac2456ec",
   "metadata": {},
   "outputs": [
    {
     "name": "stdout",
     "output_type": "stream",
     "text": [
      "608\n",
      "40901\n",
      "32936\n"
     ]
    }
   ],
   "source": [
    "print(jewelry_18.order_id.value_counts().sum())\n",
    "print(jewelry_19.order_id.value_counts().sum())\n",
    "print(jewelry_20.order_id.value_counts().sum())"
   ]
  },
  {
   "cell_type": "code",
   "execution_count": 295,
   "id": "cfac09b7",
   "metadata": {},
   "outputs": [
    {
     "name": "stdout",
     "output_type": "stream",
     "text": [
      "74445\n",
      "74445\n"
     ]
    }
   ],
   "source": [
    "print(jewelry_20.order_id.value_counts().sum() + jewelry_19.order_id.value_counts().sum() + jewelry_18.order_id.value_counts().sum())\n",
    "print(jewelry.order_id.value_counts().sum())"
   ]
  },
  {
   "cell_type": "code",
   "execution_count": 309,
   "id": "2efeaa11",
   "metadata": {},
   "outputs": [
    {
     "data": {
      "text/plain": [
       "event_time\n",
       "December   164439\n",
       "November     9793\n",
       "Name: price, dtype: float64"
      ]
     },
     "execution_count": 309,
     "metadata": {},
     "output_type": "execute_result"
    }
   ],
   "source": [
    "jewelry_18.groupby(jewelry_18['event_time'].dt.strftime('%B'))['price'].sum().sort_values( ascending=False)\n"
   ]
  },
  {
   "cell_type": "code",
   "execution_count": 308,
   "id": "ada9d9d5",
   "metadata": {},
   "outputs": [
    {
     "data": {
      "text/plain": [
       "event_time\n",
       "December    2063863\n",
       "November    1949552\n",
       "October     1258666\n",
       "July        1097134\n",
       "August      1092283\n",
       "February     949058\n",
       "June         906660\n",
       "March        841162\n",
       "April        820202\n",
       "January      771729\n",
       "May          768260\n",
       "September    762250\n",
       "Name: price, dtype: float64"
      ]
     },
     "execution_count": 308,
     "metadata": {},
     "output_type": "execute_result"
    }
   ],
   "source": [
    "jewelry_19.groupby(jewelry_19['event_time'].dt.strftime('%B'))['price'].sum().sort_values( ascending=False)\n"
   ]
  },
  {
   "cell_type": "code",
   "execution_count": 311,
   "id": "98e8f10f",
   "metadata": {},
   "outputs": [
    {
     "data": {
      "text/plain": [
       "event_time\n",
       "February    1267414\n",
       "August      1215312\n",
       "March       1210674\n",
       "January     1147607\n",
       "September   1048379\n",
       "October      946210\n",
       "July         845584\n",
       "November     829451\n",
       "June         638200\n",
       "April        562178\n",
       "May          433094\n",
       "Name: price, dtype: float64"
      ]
     },
     "execution_count": 311,
     "metadata": {},
     "output_type": "execute_result"
    }
   ],
   "source": [
    "jewelry_20.groupby(jewelry_20['event_time'].dt.strftime('%B'))['price'].sum().sort_values(ascending = False)\n"
   ]
  },
  {
   "cell_type": "code",
   "execution_count": null,
   "id": "11526248",
   "metadata": {},
   "outputs": [],
   "source": [
    "jewelry.groupby(jewelry['event_time'].dt.strftime('%B'))['price'].sum().sort_values(ascending = False)\n"
   ]
  },
  {
   "cell_type": "code",
   "execution_count": 318,
   "id": "238609c5",
   "metadata": {},
   "outputs": [
    {
     "data": {
      "text/plain": [
       "event_time\n",
       "2019-12-31 00:00:00+00:00   13280820\n",
       "2020-12-31 00:00:00+00:00   10144103\n",
       "2018-12-31 00:00:00+00:00     174232\n",
       "Name: price, dtype: float64"
      ]
     },
     "execution_count": 318,
     "metadata": {},
     "output_type": "execute_result"
    }
   ],
   "source": [
    "dg = jewelry.groupby(pd.Grouper(key='event_time', freq='1Y'))['price'].sum().sort_values(ascending = False)\n",
    "\n",
    "dg\n",
    "\n"
   ]
  },
  {
   "cell_type": "code",
   "execution_count": 319,
   "id": "dd793c02",
   "metadata": {},
   "outputs": [
    {
     "data": {
      "text/plain": [
       "event_time\n",
       "2019   13280820\n",
       "2020   10144103\n",
       "2018     174232\n",
       "Name: price, dtype: float64"
      ]
     },
     "execution_count": 319,
     "metadata": {},
     "output_type": "execute_result"
    }
   ],
   "source": [
    "jewelry.groupby(jewelry['event_time'].dt.strftime('%Y'))['price'].sum().sort_values(ascending = False)\n"
   ]
  },
  {
   "cell_type": "code",
   "execution_count": 321,
   "id": "59f9db0f",
   "metadata": {},
   "outputs": [
    {
     "data": {
      "text/html": [
       "<div>\n",
       "<style scoped>\n",
       "    .dataframe tbody tr th:only-of-type {\n",
       "        vertical-align: middle;\n",
       "    }\n",
       "\n",
       "    .dataframe tbody tr th {\n",
       "        vertical-align: top;\n",
       "    }\n",
       "\n",
       "    .dataframe thead th {\n",
       "        text-align: right;\n",
       "    }\n",
       "</style>\n",
       "<table border=\"1\" class=\"dataframe\">\n",
       "  <thead>\n",
       "    <tr style=\"text-align: right;\">\n",
       "      <th></th>\n",
       "      <th>event_time</th>\n",
       "      <th>order_id</th>\n",
       "      <th>product_id</th>\n",
       "      <th>category_id</th>\n",
       "      <th>category_code</th>\n",
       "      <th>brand</th>\n",
       "      <th>price</th>\n",
       "      <th>user_id</th>\n",
       "      <th>color</th>\n",
       "      <th>metal</th>\n",
       "      <th>gem</th>\n",
       "    </tr>\n",
       "  </thead>\n",
       "  <tbody>\n",
       "    <tr>\n",
       "      <th>0</th>\n",
       "      <td>2018-11-29 16:30:45+00:00</td>\n",
       "      <td>1923415742179443254</td>\n",
       "      <td>1836250225916772582</td>\n",
       "      <td>1806829201915904256</td>\n",
       "      <td>pendant</td>\n",
       "      <td>0</td>\n",
       "      <td>68</td>\n",
       "      <td>1515915625233196800</td>\n",
       "      <td>red</td>\n",
       "      <td>gold</td>\n",
       "      <td>diamond</td>\n",
       "    </tr>\n",
       "    <tr>\n",
       "      <th>2</th>\n",
       "      <td>2018-11-29 17:58:37+00:00</td>\n",
       "      <td>1923459963229831173</td>\n",
       "      <td>1806829194936582544</td>\n",
       "      <td>1806829201882349824</td>\n",
       "      <td>ring</td>\n",
       "      <td>1</td>\n",
       "      <td>75</td>\n",
       "      <td>1515915625233228544</td>\n",
       "      <td>red</td>\n",
       "      <td>gold</td>\n",
       "      <td>amethyst</td>\n",
       "    </tr>\n",
       "    <tr>\n",
       "      <th>5</th>\n",
       "      <td>2018-11-29 23:27:58+00:00</td>\n",
       "      <td>1923625730730623830</td>\n",
       "      <td>1836918640855745365</td>\n",
       "      <td>1806829201882349824</td>\n",
       "      <td>ring</td>\n",
       "      <td>1</td>\n",
       "      <td>74</td>\n",
       "      <td>1515915625157322496</td>\n",
       "      <td>white</td>\n",
       "      <td>gold</td>\n",
       "      <td>amethyst</td>\n",
       "    </tr>\n",
       "    <tr>\n",
       "      <th>6</th>\n",
       "      <td>2018-11-30 04:44:41+00:00</td>\n",
       "      <td>1923785141226832396</td>\n",
       "      <td>1806829188997448495</td>\n",
       "      <td>1806829201890738432</td>\n",
       "      <td>earring</td>\n",
       "      <td>0</td>\n",
       "      <td>281</td>\n",
       "      <td>1515915625229118208</td>\n",
       "      <td>white</td>\n",
       "      <td>gold</td>\n",
       "      <td>topaz</td>\n",
       "    </tr>\n",
       "    <tr>\n",
       "      <th>7</th>\n",
       "      <td>2018-11-30 05:57:23+00:00</td>\n",
       "      <td>1923821728249675940</td>\n",
       "      <td>1313677630628692275</td>\n",
       "      <td>1806829201882349824</td>\n",
       "      <td>ring</td>\n",
       "      <td>0</td>\n",
       "      <td>127</td>\n",
       "      <td>1515915625233394432</td>\n",
       "      <td>red</td>\n",
       "      <td>gold</td>\n",
       "      <td>fianit</td>\n",
       "    </tr>\n",
       "  </tbody>\n",
       "</table>\n",
       "</div>"
      ],
      "text/plain": [
       "                 event_time             order_id           product_id  \\\n",
       "0 2018-11-29 16:30:45+00:00  1923415742179443254  1836250225916772582   \n",
       "2 2018-11-29 17:58:37+00:00  1923459963229831173  1806829194936582544   \n",
       "5 2018-11-29 23:27:58+00:00  1923625730730623830  1836918640855745365   \n",
       "6 2018-11-30 04:44:41+00:00  1923785141226832396  1806829188997448495   \n",
       "7 2018-11-30 05:57:23+00:00  1923821728249675940  1313677630628692275   \n",
       "\n",
       "          category_id category_code  brand  price             user_id  color  \\\n",
       "0 1806829201915904256       pendant      0     68 1515915625233196800    red   \n",
       "2 1806829201882349824          ring      1     75 1515915625233228544    red   \n",
       "5 1806829201882349824          ring      1     74 1515915625157322496  white   \n",
       "6 1806829201890738432       earring      0    281 1515915625229118208  white   \n",
       "7 1806829201882349824          ring      0    127 1515915625233394432    red   \n",
       "\n",
       "  metal       gem  \n",
       "0  gold   diamond  \n",
       "2  gold  amethyst  \n",
       "5  gold  amethyst  \n",
       "6  gold     topaz  \n",
       "7  gold    fianit  "
      ]
     },
     "execution_count": 321,
     "metadata": {},
     "output_type": "execute_result"
    }
   ],
   "source": [
    "jewelry.head()"
   ]
  },
  {
   "cell_type": "code",
   "execution_count": 143,
   "id": "e5252a78",
   "metadata": {},
   "outputs": [
    {
     "data": {
      "text/html": [
       "<div>\n",
       "<style scoped>\n",
       "    .dataframe tbody tr th:only-of-type {\n",
       "        vertical-align: middle;\n",
       "    }\n",
       "\n",
       "    .dataframe tbody tr th {\n",
       "        vertical-align: top;\n",
       "    }\n",
       "\n",
       "    .dataframe thead th {\n",
       "        text-align: right;\n",
       "    }\n",
       "</style>\n",
       "<table border=\"1\" class=\"dataframe\">\n",
       "  <thead>\n",
       "    <tr style=\"text-align: right;\">\n",
       "      <th></th>\n",
       "      <th>category_code</th>\n",
       "      <th>brand</th>\n",
       "      <th>price</th>\n",
       "      <th>color</th>\n",
       "      <th>metal</th>\n",
       "      <th>gem</th>\n",
       "    </tr>\n",
       "  </thead>\n",
       "  <tbody>\n",
       "    <tr>\n",
       "      <th>0</th>\n",
       "      <td>pendant</td>\n",
       "      <td>0.0</td>\n",
       "      <td>67.78</td>\n",
       "      <td>red</td>\n",
       "      <td>gold</td>\n",
       "      <td>diamond</td>\n",
       "    </tr>\n",
       "    <tr>\n",
       "      <th>2</th>\n",
       "      <td>ring</td>\n",
       "      <td>1.0</td>\n",
       "      <td>75.21</td>\n",
       "      <td>red</td>\n",
       "      <td>gold</td>\n",
       "      <td>amethyst</td>\n",
       "    </tr>\n",
       "    <tr>\n",
       "      <th>5</th>\n",
       "      <td>ring</td>\n",
       "      <td>1.0</td>\n",
       "      <td>73.93</td>\n",
       "      <td>white</td>\n",
       "      <td>gold</td>\n",
       "      <td>amethyst</td>\n",
       "    </tr>\n",
       "    <tr>\n",
       "      <th>6</th>\n",
       "      <td>earring</td>\n",
       "      <td>0.0</td>\n",
       "      <td>280.68</td>\n",
       "      <td>white</td>\n",
       "      <td>gold</td>\n",
       "      <td>topaz</td>\n",
       "    </tr>\n",
       "    <tr>\n",
       "      <th>7</th>\n",
       "      <td>ring</td>\n",
       "      <td>0.0</td>\n",
       "      <td>126.99</td>\n",
       "      <td>red</td>\n",
       "      <td>gold</td>\n",
       "      <td>fianit</td>\n",
       "    </tr>\n",
       "  </tbody>\n",
       "</table>\n",
       "</div>"
      ],
      "text/plain": [
       "  category_code  brand   price  color metal       gem\n",
       "0       pendant    0.0   67.78    red  gold   diamond\n",
       "2          ring    1.0   75.21    red  gold  amethyst\n",
       "5          ring    1.0   73.93  white  gold  amethyst\n",
       "6       earring    0.0  280.68  white  gold     topaz\n",
       "7          ring    0.0  126.99    red  gold    fianit"
      ]
     },
     "execution_count": 143,
     "metadata": {},
     "output_type": "execute_result"
    }
   ],
   "source": [
    "product = jewelry[['category_code','brand','price','color','metal','gem']].copy()\n",
    "\n",
    "product.head()"
   ]
  },
  {
   "cell_type": "code",
   "execution_count": 144,
   "id": "96a733bc",
   "metadata": {},
   "outputs": [
    {
     "data": {
      "text/plain": [
       "(74445, 6)"
      ]
     },
     "execution_count": 144,
     "metadata": {},
     "output_type": "execute_result"
    }
   ],
   "source": [
    "product.shape"
   ]
  },
  {
   "cell_type": "code",
   "execution_count": 145,
   "id": "2a60c053",
   "metadata": {},
   "outputs": [
    {
     "name": "stdout",
     "output_type": "stream",
     "text": [
      "ring        28589\n",
      "earring     28436\n",
      "pendant     11185\n",
      "bracelet     3633\n",
      "necklace     1888\n",
      "brooch        714\n",
      "Name: category_code, dtype: int64\n",
      "red       56147\n",
      "white     15529\n",
      "yellow     2769\n",
      "Name: color, dtype: int64\n",
      "gold    74445\n",
      "Name: metal, dtype: int64\n",
      "diamond                33671\n",
      "fianit                 16925\n",
      "topaz                   7820\n",
      "pearl                   4178\n",
      "garnet                  3408\n",
      "sapphire                2214\n",
      "amethyst                2165\n",
      "mix                      985\n",
      "emerald                  981\n",
      "quartz                   662\n",
      "amber                    264\n",
      "ruby                     244\n",
      "chrysolite               147\n",
      "quartz_smoky             143\n",
      "rhodolite                120\n",
      "citrine                  112\n",
      "nanocrystal               94\n",
      "sitall                    79\n",
      "corundum_synthetic        59\n",
      "turquoise                 59\n",
      "agate                     28\n",
      "tourmaline                23\n",
      "emerald_geothermal        19\n",
      "nacre                     18\n",
      "chrysoprase               10\n",
      "spinel                     7\n",
      "corundum                   3\n",
      "sapphire_geothermal        3\n",
      "coral                      1\n",
      "onyx                       1\n",
      "malachite                  1\n",
      "garnet_synthetic           1\n",
      "Name: gem, dtype: int64\n"
     ]
    }
   ],
   "source": [
    "print(product.category_code.value_counts())\n",
    "print(product.color.value_counts())\n",
    "print(product.metal.value_counts())\n",
    "print(product.gem.value_counts())"
   ]
  },
  {
   "cell_type": "code",
   "execution_count": 146,
   "id": "899846e0",
   "metadata": {},
   "outputs": [],
   "source": [
    "product.drop(['metal'], axis=1, inplace= True)"
   ]
  },
  {
   "cell_type": "code",
   "execution_count": 147,
   "id": "4c73ce5a",
   "metadata": {},
   "outputs": [
    {
     "data": {
      "text/html": [
       "<div>\n",
       "<style scoped>\n",
       "    .dataframe tbody tr th:only-of-type {\n",
       "        vertical-align: middle;\n",
       "    }\n",
       "\n",
       "    .dataframe tbody tr th {\n",
       "        vertical-align: top;\n",
       "    }\n",
       "\n",
       "    .dataframe thead th {\n",
       "        text-align: right;\n",
       "    }\n",
       "</style>\n",
       "<table border=\"1\" class=\"dataframe\">\n",
       "  <thead>\n",
       "    <tr style=\"text-align: right;\">\n",
       "      <th></th>\n",
       "      <th>category_code</th>\n",
       "      <th>brand</th>\n",
       "      <th>price</th>\n",
       "      <th>color</th>\n",
       "      <th>gem</th>\n",
       "    </tr>\n",
       "  </thead>\n",
       "  <tbody>\n",
       "    <tr>\n",
       "      <th>0</th>\n",
       "      <td>pendant</td>\n",
       "      <td>0.0</td>\n",
       "      <td>67.78</td>\n",
       "      <td>red</td>\n",
       "      <td>diamond</td>\n",
       "    </tr>\n",
       "    <tr>\n",
       "      <th>2</th>\n",
       "      <td>ring</td>\n",
       "      <td>1.0</td>\n",
       "      <td>75.21</td>\n",
       "      <td>red</td>\n",
       "      <td>amethyst</td>\n",
       "    </tr>\n",
       "    <tr>\n",
       "      <th>5</th>\n",
       "      <td>ring</td>\n",
       "      <td>1.0</td>\n",
       "      <td>73.93</td>\n",
       "      <td>white</td>\n",
       "      <td>amethyst</td>\n",
       "    </tr>\n",
       "    <tr>\n",
       "      <th>6</th>\n",
       "      <td>earring</td>\n",
       "      <td>0.0</td>\n",
       "      <td>280.68</td>\n",
       "      <td>white</td>\n",
       "      <td>topaz</td>\n",
       "    </tr>\n",
       "    <tr>\n",
       "      <th>7</th>\n",
       "      <td>ring</td>\n",
       "      <td>0.0</td>\n",
       "      <td>126.99</td>\n",
       "      <td>red</td>\n",
       "      <td>fianit</td>\n",
       "    </tr>\n",
       "  </tbody>\n",
       "</table>\n",
       "</div>"
      ],
      "text/plain": [
       "  category_code  brand   price  color       gem\n",
       "0       pendant    0.0   67.78    red   diamond\n",
       "2          ring    1.0   75.21    red  amethyst\n",
       "5          ring    1.0   73.93  white  amethyst\n",
       "6       earring    0.0  280.68  white     topaz\n",
       "7          ring    0.0  126.99    red    fianit"
      ]
     },
     "execution_count": 147,
     "metadata": {},
     "output_type": "execute_result"
    }
   ],
   "source": [
    "product.head()"
   ]
  },
  {
   "cell_type": "code",
   "execution_count": 54,
   "id": "21c15eb7",
   "metadata": {},
   "outputs": [],
   "source": [
    "from sklearn.preprocessing import LabelEncoder\n",
    "\n",
    "le = LabelEncoder()  #instantiate the Label Encoder\n",
    "product['color'] = le.fit_transform(product['color'])\n",
    "product['']"
   ]
  },
  {
   "cell_type": "code",
   "execution_count": 148,
   "id": "7e82113b",
   "metadata": {},
   "outputs": [],
   "source": [
    "pd.set_option('display.max_columns', None)\n",
    "pd.set_option('display.width', None)\n",
    "\n",
    "X = pd.get_dummies(product.loc[:, product.columns != 'price'])\n",
    "y = product['price']\n"
   ]
  },
  {
   "cell_type": "code",
   "execution_count": 149,
   "id": "a409de74",
   "metadata": {},
   "outputs": [],
   "source": [
    "from sklearn.model_selection import train_test_split\n",
    "X_train, X_test, y_train, y_test = train_test_split(X, y, test_size=0.80, random_state=42)"
   ]
  },
  {
   "cell_type": "code",
   "execution_count": 150,
   "id": "09a30f0d",
   "metadata": {},
   "outputs": [],
   "source": [
    "from sklearn.linear_model import LinearRegression\n",
    "model = LinearRegression() #instantiating the model"
   ]
  },
  {
   "cell_type": "code",
   "execution_count": 151,
   "id": "f4088b10",
   "metadata": {},
   "outputs": [
    {
     "data": {
      "text/plain": [
       "LinearRegression()"
      ]
     },
     "execution_count": 151,
     "metadata": {},
     "output_type": "execute_result"
    }
   ],
   "source": [
    "model"
   ]
  },
  {
   "cell_type": "code",
   "execution_count": 152,
   "id": "dc881a28",
   "metadata": {},
   "outputs": [
    {
     "data": {
      "text/plain": [
       "LinearRegression()"
      ]
     },
     "execution_count": 152,
     "metadata": {},
     "output_type": "execute_result"
    }
   ],
   "source": [
    "model.fit(X_train, y_train)"
   ]
  },
  {
   "cell_type": "code",
   "execution_count": 153,
   "id": "a59727c9",
   "metadata": {},
   "outputs": [],
   "source": [
    "y_pred = model.predict(X_test)"
   ]
  },
  {
   "cell_type": "code",
   "execution_count": 154,
   "id": "77d8d64e",
   "metadata": {},
   "outputs": [
    {
     "data": {
      "text/plain": [
       "-5.4311929998866874e+19"
      ]
     },
     "execution_count": 154,
     "metadata": {},
     "output_type": "execute_result"
    }
   ],
   "source": [
    "model.score(X_test, y_test)"
   ]
  },
  {
   "cell_type": "code",
   "execution_count": 155,
   "id": "cbcf1de4",
   "metadata": {},
   "outputs": [
    {
     "name": "stdout",
     "output_type": "stream",
     "text": [
      "MSE is :1.7781306349847545e+25\n",
      "MAE is :111209083333.97559\n",
      "r2 is :-5.4311929998866874e+19\n"
     ]
    }
   ],
   "source": [
    "from sklearn.metrics import mean_absolute_error, mean_squared_error, r2_score\n",
    "\n",
    "mse = mean_squared_error(y_test, y_pred)\n",
    "mae = mean_absolute_error(y_test, y_pred)\n",
    "r2 = r2_score(y_test, y_pred)\n",
    "\n",
    "print(f\"MSE is :{mse}\")\n",
    "print(f\"MAE is :{mae}\")\n",
    "print(f\"r2 is :{r2}\")"
   ]
  },
  {
   "cell_type": "markdown",
   "id": "c00bc2da",
   "metadata": {},
   "source": [
    "Model 2"
   ]
  },
  {
   "cell_type": "code",
   "execution_count": 178,
   "id": "1feaa1db",
   "metadata": {},
   "outputs": [
    {
     "data": {
      "text/html": [
       "<div>\n",
       "<style scoped>\n",
       "    .dataframe tbody tr th:only-of-type {\n",
       "        vertical-align: middle;\n",
       "    }\n",
       "\n",
       "    .dataframe tbody tr th {\n",
       "        vertical-align: top;\n",
       "    }\n",
       "\n",
       "    .dataframe thead th {\n",
       "        text-align: right;\n",
       "    }\n",
       "</style>\n",
       "<table border=\"1\" class=\"dataframe\">\n",
       "  <thead>\n",
       "    <tr style=\"text-align: right;\">\n",
       "      <th></th>\n",
       "      <th>category_code</th>\n",
       "      <th>brand</th>\n",
       "      <th>price</th>\n",
       "      <th>gem</th>\n",
       "    </tr>\n",
       "  </thead>\n",
       "  <tbody>\n",
       "    <tr>\n",
       "      <th>0</th>\n",
       "      <td>pendant</td>\n",
       "      <td>0.0</td>\n",
       "      <td>67.78</td>\n",
       "      <td>diamond</td>\n",
       "    </tr>\n",
       "    <tr>\n",
       "      <th>2</th>\n",
       "      <td>ring</td>\n",
       "      <td>1.0</td>\n",
       "      <td>75.21</td>\n",
       "      <td>amethyst</td>\n",
       "    </tr>\n",
       "    <tr>\n",
       "      <th>5</th>\n",
       "      <td>ring</td>\n",
       "      <td>1.0</td>\n",
       "      <td>73.93</td>\n",
       "      <td>amethyst</td>\n",
       "    </tr>\n",
       "    <tr>\n",
       "      <th>6</th>\n",
       "      <td>earring</td>\n",
       "      <td>0.0</td>\n",
       "      <td>280.68</td>\n",
       "      <td>topaz</td>\n",
       "    </tr>\n",
       "    <tr>\n",
       "      <th>7</th>\n",
       "      <td>ring</td>\n",
       "      <td>0.0</td>\n",
       "      <td>126.99</td>\n",
       "      <td>fianit</td>\n",
       "    </tr>\n",
       "  </tbody>\n",
       "</table>\n",
       "</div>"
      ],
      "text/plain": [
       "  category_code  brand   price       gem\n",
       "0       pendant    0.0   67.78   diamond\n",
       "2          ring    1.0   75.21  amethyst\n",
       "5          ring    1.0   73.93  amethyst\n",
       "6       earring    0.0  280.68     topaz\n",
       "7          ring    0.0  126.99    fianit"
      ]
     },
     "execution_count": 178,
     "metadata": {},
     "output_type": "execute_result"
    }
   ],
   "source": [
    "product_2 = product[['category_code','brand','price','gem']].copy()\n",
    "\n",
    "product_2.head()"
   ]
  },
  {
   "cell_type": "code",
   "execution_count": 179,
   "id": "90d510ab",
   "metadata": {},
   "outputs": [],
   "source": [
    "X = pd.get_dummies(product_2.loc[:, product_2.columns != 'price'])\n",
    "y = product_2['price']\n"
   ]
  },
  {
   "cell_type": "code",
   "execution_count": 180,
   "id": "15f0539c",
   "metadata": {},
   "outputs": [
    {
     "data": {
      "text/html": [
       "<div>\n",
       "<style scoped>\n",
       "    .dataframe tbody tr th:only-of-type {\n",
       "        vertical-align: middle;\n",
       "    }\n",
       "\n",
       "    .dataframe tbody tr th {\n",
       "        vertical-align: top;\n",
       "    }\n",
       "\n",
       "    .dataframe thead th {\n",
       "        text-align: right;\n",
       "    }\n",
       "</style>\n",
       "<table border=\"1\" class=\"dataframe\">\n",
       "  <thead>\n",
       "    <tr style=\"text-align: right;\">\n",
       "      <th></th>\n",
       "      <th>brand</th>\n",
       "      <th>category_code_bracelet</th>\n",
       "      <th>category_code_brooch</th>\n",
       "      <th>category_code_earring</th>\n",
       "      <th>category_code_necklace</th>\n",
       "      <th>category_code_pendant</th>\n",
       "      <th>category_code_ring</th>\n",
       "      <th>gem_agate</th>\n",
       "      <th>gem_amber</th>\n",
       "      <th>gem_amethyst</th>\n",
       "      <th>gem_chrysolite</th>\n",
       "      <th>gem_chrysoprase</th>\n",
       "      <th>gem_citrine</th>\n",
       "      <th>gem_coral</th>\n",
       "      <th>gem_corundum</th>\n",
       "      <th>gem_corundum_synthetic</th>\n",
       "      <th>gem_diamond</th>\n",
       "      <th>gem_emerald</th>\n",
       "      <th>gem_emerald_geothermal</th>\n",
       "      <th>gem_fianit</th>\n",
       "      <th>gem_garnet</th>\n",
       "      <th>gem_garnet_synthetic</th>\n",
       "      <th>gem_malachite</th>\n",
       "      <th>gem_mix</th>\n",
       "      <th>gem_nacre</th>\n",
       "      <th>gem_nanocrystal</th>\n",
       "      <th>gem_onyx</th>\n",
       "      <th>gem_pearl</th>\n",
       "      <th>gem_quartz</th>\n",
       "      <th>gem_quartz_smoky</th>\n",
       "      <th>gem_rhodolite</th>\n",
       "      <th>gem_ruby</th>\n",
       "      <th>gem_sapphire</th>\n",
       "      <th>gem_sapphire_geothermal</th>\n",
       "      <th>gem_sitall</th>\n",
       "      <th>gem_spinel</th>\n",
       "      <th>gem_topaz</th>\n",
       "      <th>gem_tourmaline</th>\n",
       "      <th>gem_turquoise</th>\n",
       "    </tr>\n",
       "  </thead>\n",
       "  <tbody>\n",
       "    <tr>\n",
       "      <th>0</th>\n",
       "      <td>0.0</td>\n",
       "      <td>0</td>\n",
       "      <td>0</td>\n",
       "      <td>0</td>\n",
       "      <td>0</td>\n",
       "      <td>1</td>\n",
       "      <td>0</td>\n",
       "      <td>0</td>\n",
       "      <td>0</td>\n",
       "      <td>0</td>\n",
       "      <td>0</td>\n",
       "      <td>0</td>\n",
       "      <td>0</td>\n",
       "      <td>0</td>\n",
       "      <td>0</td>\n",
       "      <td>0</td>\n",
       "      <td>1</td>\n",
       "      <td>0</td>\n",
       "      <td>0</td>\n",
       "      <td>0</td>\n",
       "      <td>0</td>\n",
       "      <td>0</td>\n",
       "      <td>0</td>\n",
       "      <td>0</td>\n",
       "      <td>0</td>\n",
       "      <td>0</td>\n",
       "      <td>0</td>\n",
       "      <td>0</td>\n",
       "      <td>0</td>\n",
       "      <td>0</td>\n",
       "      <td>0</td>\n",
       "      <td>0</td>\n",
       "      <td>0</td>\n",
       "      <td>0</td>\n",
       "      <td>0</td>\n",
       "      <td>0</td>\n",
       "      <td>0</td>\n",
       "      <td>0</td>\n",
       "      <td>0</td>\n",
       "    </tr>\n",
       "    <tr>\n",
       "      <th>2</th>\n",
       "      <td>1.0</td>\n",
       "      <td>0</td>\n",
       "      <td>0</td>\n",
       "      <td>0</td>\n",
       "      <td>0</td>\n",
       "      <td>0</td>\n",
       "      <td>1</td>\n",
       "      <td>0</td>\n",
       "      <td>0</td>\n",
       "      <td>1</td>\n",
       "      <td>0</td>\n",
       "      <td>0</td>\n",
       "      <td>0</td>\n",
       "      <td>0</td>\n",
       "      <td>0</td>\n",
       "      <td>0</td>\n",
       "      <td>0</td>\n",
       "      <td>0</td>\n",
       "      <td>0</td>\n",
       "      <td>0</td>\n",
       "      <td>0</td>\n",
       "      <td>0</td>\n",
       "      <td>0</td>\n",
       "      <td>0</td>\n",
       "      <td>0</td>\n",
       "      <td>0</td>\n",
       "      <td>0</td>\n",
       "      <td>0</td>\n",
       "      <td>0</td>\n",
       "      <td>0</td>\n",
       "      <td>0</td>\n",
       "      <td>0</td>\n",
       "      <td>0</td>\n",
       "      <td>0</td>\n",
       "      <td>0</td>\n",
       "      <td>0</td>\n",
       "      <td>0</td>\n",
       "      <td>0</td>\n",
       "      <td>0</td>\n",
       "    </tr>\n",
       "    <tr>\n",
       "      <th>5</th>\n",
       "      <td>1.0</td>\n",
       "      <td>0</td>\n",
       "      <td>0</td>\n",
       "      <td>0</td>\n",
       "      <td>0</td>\n",
       "      <td>0</td>\n",
       "      <td>1</td>\n",
       "      <td>0</td>\n",
       "      <td>0</td>\n",
       "      <td>1</td>\n",
       "      <td>0</td>\n",
       "      <td>0</td>\n",
       "      <td>0</td>\n",
       "      <td>0</td>\n",
       "      <td>0</td>\n",
       "      <td>0</td>\n",
       "      <td>0</td>\n",
       "      <td>0</td>\n",
       "      <td>0</td>\n",
       "      <td>0</td>\n",
       "      <td>0</td>\n",
       "      <td>0</td>\n",
       "      <td>0</td>\n",
       "      <td>0</td>\n",
       "      <td>0</td>\n",
       "      <td>0</td>\n",
       "      <td>0</td>\n",
       "      <td>0</td>\n",
       "      <td>0</td>\n",
       "      <td>0</td>\n",
       "      <td>0</td>\n",
       "      <td>0</td>\n",
       "      <td>0</td>\n",
       "      <td>0</td>\n",
       "      <td>0</td>\n",
       "      <td>0</td>\n",
       "      <td>0</td>\n",
       "      <td>0</td>\n",
       "      <td>0</td>\n",
       "    </tr>\n",
       "    <tr>\n",
       "      <th>6</th>\n",
       "      <td>0.0</td>\n",
       "      <td>0</td>\n",
       "      <td>0</td>\n",
       "      <td>1</td>\n",
       "      <td>0</td>\n",
       "      <td>0</td>\n",
       "      <td>0</td>\n",
       "      <td>0</td>\n",
       "      <td>0</td>\n",
       "      <td>0</td>\n",
       "      <td>0</td>\n",
       "      <td>0</td>\n",
       "      <td>0</td>\n",
       "      <td>0</td>\n",
       "      <td>0</td>\n",
       "      <td>0</td>\n",
       "      <td>0</td>\n",
       "      <td>0</td>\n",
       "      <td>0</td>\n",
       "      <td>0</td>\n",
       "      <td>0</td>\n",
       "      <td>0</td>\n",
       "      <td>0</td>\n",
       "      <td>0</td>\n",
       "      <td>0</td>\n",
       "      <td>0</td>\n",
       "      <td>0</td>\n",
       "      <td>0</td>\n",
       "      <td>0</td>\n",
       "      <td>0</td>\n",
       "      <td>0</td>\n",
       "      <td>0</td>\n",
       "      <td>0</td>\n",
       "      <td>0</td>\n",
       "      <td>0</td>\n",
       "      <td>0</td>\n",
       "      <td>1</td>\n",
       "      <td>0</td>\n",
       "      <td>0</td>\n",
       "    </tr>\n",
       "    <tr>\n",
       "      <th>7</th>\n",
       "      <td>0.0</td>\n",
       "      <td>0</td>\n",
       "      <td>0</td>\n",
       "      <td>0</td>\n",
       "      <td>0</td>\n",
       "      <td>0</td>\n",
       "      <td>1</td>\n",
       "      <td>0</td>\n",
       "      <td>0</td>\n",
       "      <td>0</td>\n",
       "      <td>0</td>\n",
       "      <td>0</td>\n",
       "      <td>0</td>\n",
       "      <td>0</td>\n",
       "      <td>0</td>\n",
       "      <td>0</td>\n",
       "      <td>0</td>\n",
       "      <td>0</td>\n",
       "      <td>0</td>\n",
       "      <td>1</td>\n",
       "      <td>0</td>\n",
       "      <td>0</td>\n",
       "      <td>0</td>\n",
       "      <td>0</td>\n",
       "      <td>0</td>\n",
       "      <td>0</td>\n",
       "      <td>0</td>\n",
       "      <td>0</td>\n",
       "      <td>0</td>\n",
       "      <td>0</td>\n",
       "      <td>0</td>\n",
       "      <td>0</td>\n",
       "      <td>0</td>\n",
       "      <td>0</td>\n",
       "      <td>0</td>\n",
       "      <td>0</td>\n",
       "      <td>0</td>\n",
       "      <td>0</td>\n",
       "      <td>0</td>\n",
       "    </tr>\n",
       "  </tbody>\n",
       "</table>\n",
       "</div>"
      ],
      "text/plain": [
       "   brand  category_code_bracelet  category_code_brooch  category_code_earring  \\\n",
       "0    0.0                       0                     0                      0   \n",
       "2    1.0                       0                     0                      0   \n",
       "5    1.0                       0                     0                      0   \n",
       "6    0.0                       0                     0                      1   \n",
       "7    0.0                       0                     0                      0   \n",
       "\n",
       "   category_code_necklace  category_code_pendant  category_code_ring  \\\n",
       "0                       0                      1                   0   \n",
       "2                       0                      0                   1   \n",
       "5                       0                      0                   1   \n",
       "6                       0                      0                   0   \n",
       "7                       0                      0                   1   \n",
       "\n",
       "   gem_agate  gem_amber  gem_amethyst  gem_chrysolite  gem_chrysoprase  \\\n",
       "0          0          0             0               0                0   \n",
       "2          0          0             1               0                0   \n",
       "5          0          0             1               0                0   \n",
       "6          0          0             0               0                0   \n",
       "7          0          0             0               0                0   \n",
       "\n",
       "   gem_citrine  gem_coral  gem_corundum  gem_corundum_synthetic  gem_diamond  \\\n",
       "0            0          0             0                       0            1   \n",
       "2            0          0             0                       0            0   \n",
       "5            0          0             0                       0            0   \n",
       "6            0          0             0                       0            0   \n",
       "7            0          0             0                       0            0   \n",
       "\n",
       "   gem_emerald  gem_emerald_geothermal  gem_fianit  gem_garnet  \\\n",
       "0            0                       0           0           0   \n",
       "2            0                       0           0           0   \n",
       "5            0                       0           0           0   \n",
       "6            0                       0           0           0   \n",
       "7            0                       0           1           0   \n",
       "\n",
       "   gem_garnet_synthetic  gem_malachite  gem_mix  gem_nacre  gem_nanocrystal  \\\n",
       "0                     0              0        0          0                0   \n",
       "2                     0              0        0          0                0   \n",
       "5                     0              0        0          0                0   \n",
       "6                     0              0        0          0                0   \n",
       "7                     0              0        0          0                0   \n",
       "\n",
       "   gem_onyx  gem_pearl  gem_quartz  gem_quartz_smoky  gem_rhodolite  gem_ruby  \\\n",
       "0         0          0           0                 0              0         0   \n",
       "2         0          0           0                 0              0         0   \n",
       "5         0          0           0                 0              0         0   \n",
       "6         0          0           0                 0              0         0   \n",
       "7         0          0           0                 0              0         0   \n",
       "\n",
       "   gem_sapphire  gem_sapphire_geothermal  gem_sitall  gem_spinel  gem_topaz  \\\n",
       "0             0                        0           0           0          0   \n",
       "2             0                        0           0           0          0   \n",
       "5             0                        0           0           0          0   \n",
       "6             0                        0           0           0          1   \n",
       "7             0                        0           0           0          0   \n",
       "\n",
       "   gem_tourmaline  gem_turquoise  \n",
       "0               0              0  \n",
       "2               0              0  \n",
       "5               0              0  \n",
       "6               0              0  \n",
       "7               0              0  "
      ]
     },
     "execution_count": 180,
     "metadata": {},
     "output_type": "execute_result"
    }
   ],
   "source": [
    "X.head()"
   ]
  },
  {
   "cell_type": "code",
   "execution_count": 170,
   "id": "34114ea7",
   "metadata": {},
   "outputs": [
    {
     "data": {
      "text/plain": [
       "array([0., 1., 5., 2.])"
      ]
     },
     "execution_count": 170,
     "metadata": {},
     "output_type": "execute_result"
    }
   ],
   "source": [
    "X.brand.unique()"
   ]
  },
  {
   "cell_type": "code",
   "execution_count": 181,
   "id": "f30c2da7",
   "metadata": {},
   "outputs": [
    {
     "data": {
      "text/plain": [
       "(74445, 39)"
      ]
     },
     "execution_count": 181,
     "metadata": {},
     "output_type": "execute_result"
    }
   ],
   "source": [
    "X.shape"
   ]
  },
  {
   "cell_type": "code",
   "execution_count": 182,
   "id": "89e5c8c7",
   "metadata": {},
   "outputs": [],
   "source": [
    "from sklearn.model_selection import train_test_split\n",
    "X_train, X_test, y_train, y_test = train_test_split(X, y, test_size=0.80, random_state=42)"
   ]
  },
  {
   "cell_type": "code",
   "execution_count": 183,
   "id": "4b1e3529",
   "metadata": {},
   "outputs": [],
   "source": [
    "from sklearn.linear_model import LinearRegression\n",
    "model = LinearRegression() #instantiating the model"
   ]
  },
  {
   "cell_type": "code",
   "execution_count": 184,
   "id": "522a6a01",
   "metadata": {},
   "outputs": [
    {
     "data": {
      "text/plain": [
       "LinearRegression()"
      ]
     },
     "execution_count": 184,
     "metadata": {},
     "output_type": "execute_result"
    }
   ],
   "source": [
    "model"
   ]
  },
  {
   "cell_type": "code",
   "execution_count": 186,
   "id": "1f4fd710",
   "metadata": {},
   "outputs": [
    {
     "data": {
      "text/plain": [
       "LinearRegression()"
      ]
     },
     "execution_count": 186,
     "metadata": {},
     "output_type": "execute_result"
    }
   ],
   "source": [
    "model.fit(X_train, y_train)"
   ]
  },
  {
   "cell_type": "code",
   "execution_count": 187,
   "id": "fb45303d",
   "metadata": {},
   "outputs": [],
   "source": [
    "y_pred = model.predict(X_test)"
   ]
  },
  {
   "cell_type": "code",
   "execution_count": 188,
   "id": "aa884606",
   "metadata": {},
   "outputs": [
    {
     "data": {
      "text/plain": [
       "-1.2111705229760108e+18"
      ]
     },
     "execution_count": 188,
     "metadata": {},
     "output_type": "execute_result"
    }
   ],
   "source": [
    "model.score(X_test, y_test)"
   ]
  },
  {
   "cell_type": "code",
   "execution_count": 189,
   "id": "69535155",
   "metadata": {},
   "outputs": [
    {
     "name": "stdout",
     "output_type": "stream",
     "text": [
      "MSE is :3.965278735517377e+23\n",
      "MAE is :14166743772.153152\n",
      "r2 is :-1.2111705229760108e+18\n"
     ]
    }
   ],
   "source": [
    "from sklearn.metrics import mean_absolute_error, mean_squared_error, r2_score\n",
    "\n",
    "mse = mean_squared_error(y_test, y_pred)\n",
    "mae = mean_absolute_error(y_test, y_pred)\n",
    "r2 = r2_score(y_test, y_pred)\n",
    "\n",
    "print(f\"MSE is :{mse}\")\n",
    "print(f\"MAE is :{mae}\")\n",
    "print(f\"r2 is :{r2}\")"
   ]
  },
  {
   "cell_type": "markdown",
   "id": "69c63716",
   "metadata": {},
   "source": [
    "Model 3"
   ]
  },
  {
   "cell_type": "code",
   "execution_count": 196,
   "id": "237f6c0c",
   "metadata": {},
   "outputs": [
    {
     "data": {
      "text/html": [
       "<div>\n",
       "<style scoped>\n",
       "    .dataframe tbody tr th:only-of-type {\n",
       "        vertical-align: middle;\n",
       "    }\n",
       "\n",
       "    .dataframe tbody tr th {\n",
       "        vertical-align: top;\n",
       "    }\n",
       "\n",
       "    .dataframe thead th {\n",
       "        text-align: right;\n",
       "    }\n",
       "</style>\n",
       "<table border=\"1\" class=\"dataframe\">\n",
       "  <thead>\n",
       "    <tr style=\"text-align: right;\">\n",
       "      <th></th>\n",
       "      <th>category_code</th>\n",
       "      <th>brand</th>\n",
       "      <th>price</th>\n",
       "    </tr>\n",
       "  </thead>\n",
       "  <tbody>\n",
       "    <tr>\n",
       "      <th>0</th>\n",
       "      <td>pendant</td>\n",
       "      <td>0.0</td>\n",
       "      <td>67.78</td>\n",
       "    </tr>\n",
       "    <tr>\n",
       "      <th>2</th>\n",
       "      <td>ring</td>\n",
       "      <td>1.0</td>\n",
       "      <td>75.21</td>\n",
       "    </tr>\n",
       "    <tr>\n",
       "      <th>5</th>\n",
       "      <td>ring</td>\n",
       "      <td>1.0</td>\n",
       "      <td>73.93</td>\n",
       "    </tr>\n",
       "    <tr>\n",
       "      <th>6</th>\n",
       "      <td>earring</td>\n",
       "      <td>0.0</td>\n",
       "      <td>280.68</td>\n",
       "    </tr>\n",
       "    <tr>\n",
       "      <th>7</th>\n",
       "      <td>ring</td>\n",
       "      <td>0.0</td>\n",
       "      <td>126.99</td>\n",
       "    </tr>\n",
       "  </tbody>\n",
       "</table>\n",
       "</div>"
      ],
      "text/plain": [
       "  category_code  brand   price\n",
       "0       pendant    0.0   67.78\n",
       "2          ring    1.0   75.21\n",
       "5          ring    1.0   73.93\n",
       "6       earring    0.0  280.68\n",
       "7          ring    0.0  126.99"
      ]
     },
     "execution_count": 196,
     "metadata": {},
     "output_type": "execute_result"
    }
   ],
   "source": [
    "product_3 = product_2[['category_code','brand','price']].copy()\n",
    "\n",
    "product_3.head()"
   ]
  },
  {
   "cell_type": "code",
   "execution_count": 197,
   "id": "27bdd11a",
   "metadata": {},
   "outputs": [],
   "source": [
    "X = pd.get_dummies(product_3.loc[:, product_3.columns != 'price'])\n",
    "y = product_3['price']"
   ]
  },
  {
   "cell_type": "code",
   "execution_count": 198,
   "id": "a42516ff",
   "metadata": {},
   "outputs": [
    {
     "data": {
      "text/html": [
       "<div>\n",
       "<style scoped>\n",
       "    .dataframe tbody tr th:only-of-type {\n",
       "        vertical-align: middle;\n",
       "    }\n",
       "\n",
       "    .dataframe tbody tr th {\n",
       "        vertical-align: top;\n",
       "    }\n",
       "\n",
       "    .dataframe thead th {\n",
       "        text-align: right;\n",
       "    }\n",
       "</style>\n",
       "<table border=\"1\" class=\"dataframe\">\n",
       "  <thead>\n",
       "    <tr style=\"text-align: right;\">\n",
       "      <th></th>\n",
       "      <th>brand</th>\n",
       "      <th>category_code_bracelet</th>\n",
       "      <th>category_code_brooch</th>\n",
       "      <th>category_code_earring</th>\n",
       "      <th>category_code_necklace</th>\n",
       "      <th>category_code_pendant</th>\n",
       "      <th>category_code_ring</th>\n",
       "    </tr>\n",
       "  </thead>\n",
       "  <tbody>\n",
       "    <tr>\n",
       "      <th>0</th>\n",
       "      <td>0.0</td>\n",
       "      <td>0</td>\n",
       "      <td>0</td>\n",
       "      <td>0</td>\n",
       "      <td>0</td>\n",
       "      <td>1</td>\n",
       "      <td>0</td>\n",
       "    </tr>\n",
       "    <tr>\n",
       "      <th>2</th>\n",
       "      <td>1.0</td>\n",
       "      <td>0</td>\n",
       "      <td>0</td>\n",
       "      <td>0</td>\n",
       "      <td>0</td>\n",
       "      <td>0</td>\n",
       "      <td>1</td>\n",
       "    </tr>\n",
       "    <tr>\n",
       "      <th>5</th>\n",
       "      <td>1.0</td>\n",
       "      <td>0</td>\n",
       "      <td>0</td>\n",
       "      <td>0</td>\n",
       "      <td>0</td>\n",
       "      <td>0</td>\n",
       "      <td>1</td>\n",
       "    </tr>\n",
       "    <tr>\n",
       "      <th>6</th>\n",
       "      <td>0.0</td>\n",
       "      <td>0</td>\n",
       "      <td>0</td>\n",
       "      <td>1</td>\n",
       "      <td>0</td>\n",
       "      <td>0</td>\n",
       "      <td>0</td>\n",
       "    </tr>\n",
       "    <tr>\n",
       "      <th>7</th>\n",
       "      <td>0.0</td>\n",
       "      <td>0</td>\n",
       "      <td>0</td>\n",
       "      <td>0</td>\n",
       "      <td>0</td>\n",
       "      <td>0</td>\n",
       "      <td>1</td>\n",
       "    </tr>\n",
       "  </tbody>\n",
       "</table>\n",
       "</div>"
      ],
      "text/plain": [
       "   brand  category_code_bracelet  category_code_brooch  category_code_earring  \\\n",
       "0    0.0                       0                     0                      0   \n",
       "2    1.0                       0                     0                      0   \n",
       "5    1.0                       0                     0                      0   \n",
       "6    0.0                       0                     0                      1   \n",
       "7    0.0                       0                     0                      0   \n",
       "\n",
       "   category_code_necklace  category_code_pendant  category_code_ring  \n",
       "0                       0                      1                   0  \n",
       "2                       0                      0                   1  \n",
       "5                       0                      0                   1  \n",
       "6                       0                      0                   0  \n",
       "7                       0                      0                   1  "
      ]
     },
     "execution_count": 198,
     "metadata": {},
     "output_type": "execute_result"
    }
   ],
   "source": [
    "X.head()"
   ]
  },
  {
   "cell_type": "code",
   "execution_count": 199,
   "id": "a9210218",
   "metadata": {},
   "outputs": [
    {
     "data": {
      "text/plain": [
       "(74445, 7)"
      ]
     },
     "execution_count": 199,
     "metadata": {},
     "output_type": "execute_result"
    }
   ],
   "source": [
    "X.shape"
   ]
  },
  {
   "cell_type": "code",
   "execution_count": 200,
   "id": "8dbae18d",
   "metadata": {},
   "outputs": [],
   "source": [
    "X_train, X_test, y_train, y_test = train_test_split(X, y, test_size=0.80, random_state=42)"
   ]
  },
  {
   "cell_type": "code",
   "execution_count": 201,
   "id": "73aed2d9",
   "metadata": {},
   "outputs": [],
   "source": [
    "model = LinearRegression() #instantiating the model"
   ]
  },
  {
   "cell_type": "code",
   "execution_count": 202,
   "id": "62cdda95",
   "metadata": {},
   "outputs": [
    {
     "data": {
      "text/plain": [
       "LinearRegression()"
      ]
     },
     "execution_count": 202,
     "metadata": {},
     "output_type": "execute_result"
    }
   ],
   "source": [
    "model"
   ]
  },
  {
   "cell_type": "code",
   "execution_count": 203,
   "id": "1576ee2a",
   "metadata": {},
   "outputs": [
    {
     "data": {
      "text/plain": [
       "LinearRegression()"
      ]
     },
     "execution_count": 203,
     "metadata": {},
     "output_type": "execute_result"
    }
   ],
   "source": [
    "model.fit(X_train, y_train)"
   ]
  },
  {
   "cell_type": "code",
   "execution_count": 204,
   "id": "2e8b1a89",
   "metadata": {},
   "outputs": [],
   "source": [
    "y_pred = model.predict(X_test)"
   ]
  },
  {
   "cell_type": "code",
   "execution_count": 205,
   "id": "cb52c6d4",
   "metadata": {},
   "outputs": [
    {
     "data": {
      "text/plain": [
       "0.017695949614608852"
      ]
     },
     "execution_count": 205,
     "metadata": {},
     "output_type": "execute_result"
    }
   ],
   "source": [
    "model.score(X_test, y_test)"
   ]
  },
  {
   "cell_type": "code",
   "execution_count": 206,
   "id": "1271179a",
   "metadata": {},
   "outputs": [
    {
     "name": "stdout",
     "output_type": "stream",
     "text": [
      "MSE is :321598.7583015947\n",
      "MAE is :200.2948672677816\n",
      "r2 is :0.017695949614608852\n"
     ]
    }
   ],
   "source": [
    "mse = mean_squared_error(y_test, y_pred)\n",
    "mae = mean_absolute_error(y_test, y_pred)\n",
    "r2 = r2_score(y_test, y_pred)\n",
    "\n",
    "print(f\"MSE is :{mse}\")\n",
    "print(f\"MAE is :{mae}\")\n",
    "print(f\"r2 is :{r2}\")"
   ]
  },
  {
   "cell_type": "markdown",
   "id": "e8edfe24",
   "metadata": {},
   "source": [
    "Model 4"
   ]
  },
  {
   "cell_type": "code",
   "execution_count": 211,
   "id": "9840d9bc",
   "metadata": {},
   "outputs": [
    {
     "data": {
      "text/html": [
       "<div>\n",
       "<style scoped>\n",
       "    .dataframe tbody tr th:only-of-type {\n",
       "        vertical-align: middle;\n",
       "    }\n",
       "\n",
       "    .dataframe tbody tr th {\n",
       "        vertical-align: top;\n",
       "    }\n",
       "\n",
       "    .dataframe thead th {\n",
       "        text-align: right;\n",
       "    }\n",
       "</style>\n",
       "<table border=\"1\" class=\"dataframe\">\n",
       "  <thead>\n",
       "    <tr style=\"text-align: right;\">\n",
       "      <th></th>\n",
       "      <th>category_code</th>\n",
       "      <th>price</th>\n",
       "    </tr>\n",
       "  </thead>\n",
       "  <tbody>\n",
       "    <tr>\n",
       "      <th>0</th>\n",
       "      <td>pendant</td>\n",
       "      <td>67.78</td>\n",
       "    </tr>\n",
       "    <tr>\n",
       "      <th>2</th>\n",
       "      <td>ring</td>\n",
       "      <td>75.21</td>\n",
       "    </tr>\n",
       "    <tr>\n",
       "      <th>5</th>\n",
       "      <td>ring</td>\n",
       "      <td>73.93</td>\n",
       "    </tr>\n",
       "    <tr>\n",
       "      <th>6</th>\n",
       "      <td>earring</td>\n",
       "      <td>280.68</td>\n",
       "    </tr>\n",
       "    <tr>\n",
       "      <th>7</th>\n",
       "      <td>ring</td>\n",
       "      <td>126.99</td>\n",
       "    </tr>\n",
       "  </tbody>\n",
       "</table>\n",
       "</div>"
      ],
      "text/plain": [
       "  category_code   price\n",
       "0       pendant   67.78\n",
       "2          ring   75.21\n",
       "5          ring   73.93\n",
       "6       earring  280.68\n",
       "7          ring  126.99"
      ]
     },
     "execution_count": 211,
     "metadata": {},
     "output_type": "execute_result"
    }
   ],
   "source": [
    "product_4 = product_3[['category_code','price']].copy()\n",
    "\n",
    "product_4.head()"
   ]
  },
  {
   "cell_type": "code",
   "execution_count": 212,
   "id": "e716a473",
   "metadata": {},
   "outputs": [],
   "source": [
    "X = pd.get_dummies(product_4.loc[:, product_4.columns != 'price'])\n",
    "y = product_4['price']"
   ]
  },
  {
   "cell_type": "code",
   "execution_count": 213,
   "id": "a9c9c8f9",
   "metadata": {},
   "outputs": [
    {
     "data": {
      "text/html": [
       "<div>\n",
       "<style scoped>\n",
       "    .dataframe tbody tr th:only-of-type {\n",
       "        vertical-align: middle;\n",
       "    }\n",
       "\n",
       "    .dataframe tbody tr th {\n",
       "        vertical-align: top;\n",
       "    }\n",
       "\n",
       "    .dataframe thead th {\n",
       "        text-align: right;\n",
       "    }\n",
       "</style>\n",
       "<table border=\"1\" class=\"dataframe\">\n",
       "  <thead>\n",
       "    <tr style=\"text-align: right;\">\n",
       "      <th></th>\n",
       "      <th>category_code_bracelet</th>\n",
       "      <th>category_code_brooch</th>\n",
       "      <th>category_code_earring</th>\n",
       "      <th>category_code_necklace</th>\n",
       "      <th>category_code_pendant</th>\n",
       "      <th>category_code_ring</th>\n",
       "    </tr>\n",
       "  </thead>\n",
       "  <tbody>\n",
       "    <tr>\n",
       "      <th>0</th>\n",
       "      <td>0</td>\n",
       "      <td>0</td>\n",
       "      <td>0</td>\n",
       "      <td>0</td>\n",
       "      <td>1</td>\n",
       "      <td>0</td>\n",
       "    </tr>\n",
       "    <tr>\n",
       "      <th>2</th>\n",
       "      <td>0</td>\n",
       "      <td>0</td>\n",
       "      <td>0</td>\n",
       "      <td>0</td>\n",
       "      <td>0</td>\n",
       "      <td>1</td>\n",
       "    </tr>\n",
       "    <tr>\n",
       "      <th>5</th>\n",
       "      <td>0</td>\n",
       "      <td>0</td>\n",
       "      <td>0</td>\n",
       "      <td>0</td>\n",
       "      <td>0</td>\n",
       "      <td>1</td>\n",
       "    </tr>\n",
       "    <tr>\n",
       "      <th>6</th>\n",
       "      <td>0</td>\n",
       "      <td>0</td>\n",
       "      <td>1</td>\n",
       "      <td>0</td>\n",
       "      <td>0</td>\n",
       "      <td>0</td>\n",
       "    </tr>\n",
       "    <tr>\n",
       "      <th>7</th>\n",
       "      <td>0</td>\n",
       "      <td>0</td>\n",
       "      <td>0</td>\n",
       "      <td>0</td>\n",
       "      <td>0</td>\n",
       "      <td>1</td>\n",
       "    </tr>\n",
       "  </tbody>\n",
       "</table>\n",
       "</div>"
      ],
      "text/plain": [
       "   category_code_bracelet  category_code_brooch  category_code_earring  \\\n",
       "0                       0                     0                      0   \n",
       "2                       0                     0                      0   \n",
       "5                       0                     0                      0   \n",
       "6                       0                     0                      1   \n",
       "7                       0                     0                      0   \n",
       "\n",
       "   category_code_necklace  category_code_pendant  category_code_ring  \n",
       "0                       0                      1                   0  \n",
       "2                       0                      0                   1  \n",
       "5                       0                      0                   1  \n",
       "6                       0                      0                   0  \n",
       "7                       0                      0                   1  "
      ]
     },
     "execution_count": 213,
     "metadata": {},
     "output_type": "execute_result"
    }
   ],
   "source": [
    "X.head()"
   ]
  },
  {
   "cell_type": "code",
   "execution_count": 214,
   "id": "c5d8352f",
   "metadata": {},
   "outputs": [
    {
     "data": {
      "text/plain": [
       "(74445, 6)"
      ]
     },
     "execution_count": 214,
     "metadata": {},
     "output_type": "execute_result"
    }
   ],
   "source": [
    "X.shape"
   ]
  },
  {
   "cell_type": "code",
   "execution_count": 215,
   "id": "d2c53b05",
   "metadata": {},
   "outputs": [],
   "source": [
    "X_train, X_test, y_train, y_test = train_test_split(X, y, test_size=0.80, random_state=42)"
   ]
  },
  {
   "cell_type": "code",
   "execution_count": 216,
   "id": "3152e8ad",
   "metadata": {},
   "outputs": [],
   "source": [
    "model = LinearRegression() #instantiating the model"
   ]
  },
  {
   "cell_type": "code",
   "execution_count": 217,
   "id": "5f2126d0",
   "metadata": {},
   "outputs": [
    {
     "data": {
      "text/plain": [
       "LinearRegression()"
      ]
     },
     "execution_count": 217,
     "metadata": {},
     "output_type": "execute_result"
    }
   ],
   "source": [
    "model"
   ]
  },
  {
   "cell_type": "code",
   "execution_count": 218,
   "id": "e988981a",
   "metadata": {},
   "outputs": [
    {
     "data": {
      "text/plain": [
       "LinearRegression()"
      ]
     },
     "execution_count": 218,
     "metadata": {},
     "output_type": "execute_result"
    }
   ],
   "source": [
    "model.fit(X_train, y_train)"
   ]
  },
  {
   "cell_type": "code",
   "execution_count": 219,
   "id": "c05436e5",
   "metadata": {},
   "outputs": [],
   "source": [
    "y_pred = model.predict(X_test)"
   ]
  },
  {
   "cell_type": "code",
   "execution_count": 220,
   "id": "66753697",
   "metadata": {},
   "outputs": [
    {
     "data": {
      "text/plain": [
       "0.01757866341098069"
      ]
     },
     "execution_count": 220,
     "metadata": {},
     "output_type": "execute_result"
    }
   ],
   "source": [
    "model.score(X_test, y_test)"
   ]
  },
  {
   "cell_type": "markdown",
   "id": "d9250e6f",
   "metadata": {},
   "source": [
    "Model 5"
   ]
  },
  {
   "cell_type": "code",
   "execution_count": 222,
   "id": "c7c78859",
   "metadata": {},
   "outputs": [
    {
     "data": {
      "text/html": [
       "<div>\n",
       "<style scoped>\n",
       "    .dataframe tbody tr th:only-of-type {\n",
       "        vertical-align: middle;\n",
       "    }\n",
       "\n",
       "    .dataframe tbody tr th {\n",
       "        vertical-align: top;\n",
       "    }\n",
       "\n",
       "    .dataframe thead th {\n",
       "        text-align: right;\n",
       "    }\n",
       "</style>\n",
       "<table border=\"1\" class=\"dataframe\">\n",
       "  <thead>\n",
       "    <tr style=\"text-align: right;\">\n",
       "      <th></th>\n",
       "      <th>brand</th>\n",
       "      <th>price</th>\n",
       "    </tr>\n",
       "  </thead>\n",
       "  <tbody>\n",
       "    <tr>\n",
       "      <th>0</th>\n",
       "      <td>0.0</td>\n",
       "      <td>67.78</td>\n",
       "    </tr>\n",
       "    <tr>\n",
       "      <th>2</th>\n",
       "      <td>1.0</td>\n",
       "      <td>75.21</td>\n",
       "    </tr>\n",
       "    <tr>\n",
       "      <th>5</th>\n",
       "      <td>1.0</td>\n",
       "      <td>73.93</td>\n",
       "    </tr>\n",
       "    <tr>\n",
       "      <th>6</th>\n",
       "      <td>0.0</td>\n",
       "      <td>280.68</td>\n",
       "    </tr>\n",
       "    <tr>\n",
       "      <th>7</th>\n",
       "      <td>0.0</td>\n",
       "      <td>126.99</td>\n",
       "    </tr>\n",
       "  </tbody>\n",
       "</table>\n",
       "</div>"
      ],
      "text/plain": [
       "   brand   price\n",
       "0    0.0   67.78\n",
       "2    1.0   75.21\n",
       "5    1.0   73.93\n",
       "6    0.0  280.68\n",
       "7    0.0  126.99"
      ]
     },
     "execution_count": 222,
     "metadata": {},
     "output_type": "execute_result"
    }
   ],
   "source": [
    "product_5 = product_3[['brand','price']].copy()\n",
    "\n",
    "product_5.head()"
   ]
  },
  {
   "cell_type": "code",
   "execution_count": 225,
   "id": "aefe5ba1",
   "metadata": {},
   "outputs": [],
   "source": [
    "X = pd.get_dummies(product_5.loc[:, product_5.columns != 'price'])\n",
    "y = product_5['price']"
   ]
  },
  {
   "cell_type": "code",
   "execution_count": 226,
   "id": "cfb610d9",
   "metadata": {},
   "outputs": [
    {
     "data": {
      "text/html": [
       "<div>\n",
       "<style scoped>\n",
       "    .dataframe tbody tr th:only-of-type {\n",
       "        vertical-align: middle;\n",
       "    }\n",
       "\n",
       "    .dataframe tbody tr th {\n",
       "        vertical-align: top;\n",
       "    }\n",
       "\n",
       "    .dataframe thead th {\n",
       "        text-align: right;\n",
       "    }\n",
       "</style>\n",
       "<table border=\"1\" class=\"dataframe\">\n",
       "  <thead>\n",
       "    <tr style=\"text-align: right;\">\n",
       "      <th></th>\n",
       "      <th>brand</th>\n",
       "    </tr>\n",
       "  </thead>\n",
       "  <tbody>\n",
       "    <tr>\n",
       "      <th>0</th>\n",
       "      <td>0.0</td>\n",
       "    </tr>\n",
       "    <tr>\n",
       "      <th>2</th>\n",
       "      <td>1.0</td>\n",
       "    </tr>\n",
       "    <tr>\n",
       "      <th>5</th>\n",
       "      <td>1.0</td>\n",
       "    </tr>\n",
       "    <tr>\n",
       "      <th>6</th>\n",
       "      <td>0.0</td>\n",
       "    </tr>\n",
       "    <tr>\n",
       "      <th>7</th>\n",
       "      <td>0.0</td>\n",
       "    </tr>\n",
       "  </tbody>\n",
       "</table>\n",
       "</div>"
      ],
      "text/plain": [
       "   brand\n",
       "0    0.0\n",
       "2    1.0\n",
       "5    1.0\n",
       "6    0.0\n",
       "7    0.0"
      ]
     },
     "execution_count": 226,
     "metadata": {},
     "output_type": "execute_result"
    }
   ],
   "source": [
    "X.head()"
   ]
  },
  {
   "cell_type": "code",
   "execution_count": 227,
   "id": "93a813ee",
   "metadata": {},
   "outputs": [
    {
     "data": {
      "text/plain": [
       "(74445, 1)"
      ]
     },
     "execution_count": 227,
     "metadata": {},
     "output_type": "execute_result"
    }
   ],
   "source": [
    "X.shape"
   ]
  },
  {
   "cell_type": "code",
   "execution_count": 228,
   "id": "09605d82",
   "metadata": {},
   "outputs": [],
   "source": [
    "X_train, X_test, y_train, y_test = train_test_split(X, y, test_size=0.80, random_state=42)"
   ]
  },
  {
   "cell_type": "code",
   "execution_count": 229,
   "id": "b7705797",
   "metadata": {},
   "outputs": [],
   "source": [
    "model = LinearRegression() #instantiating the model"
   ]
  },
  {
   "cell_type": "code",
   "execution_count": 230,
   "id": "7f81bcf0",
   "metadata": {},
   "outputs": [
    {
     "data": {
      "text/plain": [
       "LinearRegression()"
      ]
     },
     "execution_count": 230,
     "metadata": {},
     "output_type": "execute_result"
    }
   ],
   "source": [
    "model"
   ]
  },
  {
   "cell_type": "code",
   "execution_count": 231,
   "id": "5a112434",
   "metadata": {},
   "outputs": [
    {
     "data": {
      "text/plain": [
       "LinearRegression()"
      ]
     },
     "execution_count": 231,
     "metadata": {},
     "output_type": "execute_result"
    }
   ],
   "source": [
    "model.fit(X_train, y_train)"
   ]
  },
  {
   "cell_type": "code",
   "execution_count": 232,
   "id": "1af34724",
   "metadata": {},
   "outputs": [],
   "source": [
    "y_pred = model.predict(X_test)"
   ]
  },
  {
   "cell_type": "code",
   "execution_count": 233,
   "id": "f073ff91",
   "metadata": {},
   "outputs": [
    {
     "data": {
      "text/plain": [
       "0.00012906892148856208"
      ]
     },
     "execution_count": 233,
     "metadata": {},
     "output_type": "execute_result"
    }
   ],
   "source": [
    "model.score(X_test, y_test)"
   ]
  },
  {
   "cell_type": "code",
   "execution_count": 234,
   "id": "99bb321e",
   "metadata": {},
   "outputs": [
    {
     "name": "stdout",
     "output_type": "stream",
     "text": [
      "MSE is :327350.01934538584\n",
      "MAE is :210.67627857547498\n",
      "r2 is :0.00012906892148856208\n"
     ]
    }
   ],
   "source": [
    "mse = mean_squared_error(y_test, y_pred)\n",
    "mae = mean_absolute_error(y_test, y_pred)\n",
    "r2 = r2_score(y_test, y_pred)\n",
    "\n",
    "print(f\"MSE is :{mse}\")\n",
    "print(f\"MAE is :{mae}\")\n",
    "print(f\"r2 is :{r2}\")"
   ]
  },
  {
   "cell_type": "markdown",
   "id": "4a3d7644",
   "metadata": {},
   "source": [
    "Model 6"
   ]
  },
  {
   "cell_type": "code",
   "execution_count": 257,
   "id": "2dcb766f",
   "metadata": {},
   "outputs": [
    {
     "data": {
      "text/html": [
       "<div>\n",
       "<style scoped>\n",
       "    .dataframe tbody tr th:only-of-type {\n",
       "        vertical-align: middle;\n",
       "    }\n",
       "\n",
       "    .dataframe tbody tr th {\n",
       "        vertical-align: top;\n",
       "    }\n",
       "\n",
       "    .dataframe thead th {\n",
       "        text-align: right;\n",
       "    }\n",
       "</style>\n",
       "<table border=\"1\" class=\"dataframe\">\n",
       "  <thead>\n",
       "    <tr style=\"text-align: right;\">\n",
       "      <th></th>\n",
       "      <th>category_code</th>\n",
       "      <th>brand</th>\n",
       "      <th>price</th>\n",
       "      <th>color</th>\n",
       "      <th>gem</th>\n",
       "    </tr>\n",
       "  </thead>\n",
       "  <tbody>\n",
       "    <tr>\n",
       "      <th>0</th>\n",
       "      <td>pendant</td>\n",
       "      <td>0.0</td>\n",
       "      <td>67.78</td>\n",
       "      <td>red</td>\n",
       "      <td>diamond</td>\n",
       "    </tr>\n",
       "    <tr>\n",
       "      <th>2</th>\n",
       "      <td>ring</td>\n",
       "      <td>1.0</td>\n",
       "      <td>75.21</td>\n",
       "      <td>red</td>\n",
       "      <td>amethyst</td>\n",
       "    </tr>\n",
       "    <tr>\n",
       "      <th>5</th>\n",
       "      <td>ring</td>\n",
       "      <td>1.0</td>\n",
       "      <td>73.93</td>\n",
       "      <td>white</td>\n",
       "      <td>amethyst</td>\n",
       "    </tr>\n",
       "    <tr>\n",
       "      <th>6</th>\n",
       "      <td>earring</td>\n",
       "      <td>0.0</td>\n",
       "      <td>280.68</td>\n",
       "      <td>white</td>\n",
       "      <td>topaz</td>\n",
       "    </tr>\n",
       "    <tr>\n",
       "      <th>7</th>\n",
       "      <td>ring</td>\n",
       "      <td>0.0</td>\n",
       "      <td>126.99</td>\n",
       "      <td>red</td>\n",
       "      <td>fianit</td>\n",
       "    </tr>\n",
       "  </tbody>\n",
       "</table>\n",
       "</div>"
      ],
      "text/plain": [
       "  category_code  brand   price  color       gem\n",
       "0       pendant    0.0   67.78    red   diamond\n",
       "2          ring    1.0   75.21    red  amethyst\n",
       "5          ring    1.0   73.93  white  amethyst\n",
       "6       earring    0.0  280.68  white     topaz\n",
       "7          ring    0.0  126.99    red    fianit"
      ]
     },
     "execution_count": 257,
     "metadata": {},
     "output_type": "execute_result"
    }
   ],
   "source": [
    "product_6 = jewelry[['category_code','brand','price','color','gem']].copy()\n",
    "\n",
    "product_6.head()"
   ]
  },
  {
   "cell_type": "code",
   "execution_count": 258,
   "id": "7b479a81",
   "metadata": {},
   "outputs": [],
   "source": [
    "product_6.drop_duplicates(keep=False,inplace=True)"
   ]
  },
  {
   "cell_type": "code",
   "execution_count": 259,
   "id": "4545a191",
   "metadata": {},
   "outputs": [
    {
     "data": {
      "text/plain": [
       "(1398, 5)"
      ]
     },
     "execution_count": 259,
     "metadata": {},
     "output_type": "execute_result"
    }
   ],
   "source": [
    "product_6.shape"
   ]
  },
  {
   "cell_type": "code",
   "execution_count": 260,
   "id": "011de3bc",
   "metadata": {},
   "outputs": [],
   "source": [
    "X = pd.get_dummies(product_6.loc[:, product_6.columns != 'price'])\n",
    "y = product_6['price']"
   ]
  },
  {
   "cell_type": "code",
   "execution_count": 261,
   "id": "b54f331f",
   "metadata": {},
   "outputs": [
    {
     "data": {
      "text/html": [
       "<div>\n",
       "<style scoped>\n",
       "    .dataframe tbody tr th:only-of-type {\n",
       "        vertical-align: middle;\n",
       "    }\n",
       "\n",
       "    .dataframe tbody tr th {\n",
       "        vertical-align: top;\n",
       "    }\n",
       "\n",
       "    .dataframe thead th {\n",
       "        text-align: right;\n",
       "    }\n",
       "</style>\n",
       "<table border=\"1\" class=\"dataframe\">\n",
       "  <thead>\n",
       "    <tr style=\"text-align: right;\">\n",
       "      <th></th>\n",
       "      <th>brand</th>\n",
       "      <th>category_code_bracelet</th>\n",
       "      <th>category_code_brooch</th>\n",
       "      <th>category_code_earring</th>\n",
       "      <th>category_code_necklace</th>\n",
       "      <th>category_code_pendant</th>\n",
       "      <th>category_code_ring</th>\n",
       "      <th>color_red</th>\n",
       "      <th>color_white</th>\n",
       "      <th>color_yellow</th>\n",
       "      <th>gem_agate</th>\n",
       "      <th>gem_amber</th>\n",
       "      <th>gem_amethyst</th>\n",
       "      <th>gem_chrysolite</th>\n",
       "      <th>gem_chrysoprase</th>\n",
       "      <th>gem_citrine</th>\n",
       "      <th>gem_coral</th>\n",
       "      <th>gem_corundum</th>\n",
       "      <th>gem_diamond</th>\n",
       "      <th>gem_emerald</th>\n",
       "      <th>gem_emerald_geothermal</th>\n",
       "      <th>gem_fianit</th>\n",
       "      <th>gem_garnet</th>\n",
       "      <th>gem_garnet_synthetic</th>\n",
       "      <th>gem_malachite</th>\n",
       "      <th>gem_mix</th>\n",
       "      <th>gem_nacre</th>\n",
       "      <th>gem_nanocrystal</th>\n",
       "      <th>gem_onyx</th>\n",
       "      <th>gem_pearl</th>\n",
       "      <th>gem_quartz</th>\n",
       "      <th>gem_quartz_smoky</th>\n",
       "      <th>gem_rhodolite</th>\n",
       "      <th>gem_ruby</th>\n",
       "      <th>gem_sapphire</th>\n",
       "      <th>gem_sapphire_geothermal</th>\n",
       "      <th>gem_sitall</th>\n",
       "      <th>gem_topaz</th>\n",
       "      <th>gem_turquoise</th>\n",
       "    </tr>\n",
       "  </thead>\n",
       "  <tbody>\n",
       "    <tr>\n",
       "      <th>0</th>\n",
       "      <td>0.0</td>\n",
       "      <td>0</td>\n",
       "      <td>0</td>\n",
       "      <td>0</td>\n",
       "      <td>0</td>\n",
       "      <td>1</td>\n",
       "      <td>0</td>\n",
       "      <td>1</td>\n",
       "      <td>0</td>\n",
       "      <td>0</td>\n",
       "      <td>0</td>\n",
       "      <td>0</td>\n",
       "      <td>0</td>\n",
       "      <td>0</td>\n",
       "      <td>0</td>\n",
       "      <td>0</td>\n",
       "      <td>0</td>\n",
       "      <td>0</td>\n",
       "      <td>1</td>\n",
       "      <td>0</td>\n",
       "      <td>0</td>\n",
       "      <td>0</td>\n",
       "      <td>0</td>\n",
       "      <td>0</td>\n",
       "      <td>0</td>\n",
       "      <td>0</td>\n",
       "      <td>0</td>\n",
       "      <td>0</td>\n",
       "      <td>0</td>\n",
       "      <td>0</td>\n",
       "      <td>0</td>\n",
       "      <td>0</td>\n",
       "      <td>0</td>\n",
       "      <td>0</td>\n",
       "      <td>0</td>\n",
       "      <td>0</td>\n",
       "      <td>0</td>\n",
       "      <td>0</td>\n",
       "      <td>0</td>\n",
       "    </tr>\n",
       "    <tr>\n",
       "      <th>2</th>\n",
       "      <td>1.0</td>\n",
       "      <td>0</td>\n",
       "      <td>0</td>\n",
       "      <td>0</td>\n",
       "      <td>0</td>\n",
       "      <td>0</td>\n",
       "      <td>1</td>\n",
       "      <td>1</td>\n",
       "      <td>0</td>\n",
       "      <td>0</td>\n",
       "      <td>0</td>\n",
       "      <td>0</td>\n",
       "      <td>1</td>\n",
       "      <td>0</td>\n",
       "      <td>0</td>\n",
       "      <td>0</td>\n",
       "      <td>0</td>\n",
       "      <td>0</td>\n",
       "      <td>0</td>\n",
       "      <td>0</td>\n",
       "      <td>0</td>\n",
       "      <td>0</td>\n",
       "      <td>0</td>\n",
       "      <td>0</td>\n",
       "      <td>0</td>\n",
       "      <td>0</td>\n",
       "      <td>0</td>\n",
       "      <td>0</td>\n",
       "      <td>0</td>\n",
       "      <td>0</td>\n",
       "      <td>0</td>\n",
       "      <td>0</td>\n",
       "      <td>0</td>\n",
       "      <td>0</td>\n",
       "      <td>0</td>\n",
       "      <td>0</td>\n",
       "      <td>0</td>\n",
       "      <td>0</td>\n",
       "      <td>0</td>\n",
       "    </tr>\n",
       "    <tr>\n",
       "      <th>5</th>\n",
       "      <td>1.0</td>\n",
       "      <td>0</td>\n",
       "      <td>0</td>\n",
       "      <td>0</td>\n",
       "      <td>0</td>\n",
       "      <td>0</td>\n",
       "      <td>1</td>\n",
       "      <td>0</td>\n",
       "      <td>1</td>\n",
       "      <td>0</td>\n",
       "      <td>0</td>\n",
       "      <td>0</td>\n",
       "      <td>1</td>\n",
       "      <td>0</td>\n",
       "      <td>0</td>\n",
       "      <td>0</td>\n",
       "      <td>0</td>\n",
       "      <td>0</td>\n",
       "      <td>0</td>\n",
       "      <td>0</td>\n",
       "      <td>0</td>\n",
       "      <td>0</td>\n",
       "      <td>0</td>\n",
       "      <td>0</td>\n",
       "      <td>0</td>\n",
       "      <td>0</td>\n",
       "      <td>0</td>\n",
       "      <td>0</td>\n",
       "      <td>0</td>\n",
       "      <td>0</td>\n",
       "      <td>0</td>\n",
       "      <td>0</td>\n",
       "      <td>0</td>\n",
       "      <td>0</td>\n",
       "      <td>0</td>\n",
       "      <td>0</td>\n",
       "      <td>0</td>\n",
       "      <td>0</td>\n",
       "      <td>0</td>\n",
       "    </tr>\n",
       "    <tr>\n",
       "      <th>6</th>\n",
       "      <td>0.0</td>\n",
       "      <td>0</td>\n",
       "      <td>0</td>\n",
       "      <td>1</td>\n",
       "      <td>0</td>\n",
       "      <td>0</td>\n",
       "      <td>0</td>\n",
       "      <td>0</td>\n",
       "      <td>1</td>\n",
       "      <td>0</td>\n",
       "      <td>0</td>\n",
       "      <td>0</td>\n",
       "      <td>0</td>\n",
       "      <td>0</td>\n",
       "      <td>0</td>\n",
       "      <td>0</td>\n",
       "      <td>0</td>\n",
       "      <td>0</td>\n",
       "      <td>0</td>\n",
       "      <td>0</td>\n",
       "      <td>0</td>\n",
       "      <td>0</td>\n",
       "      <td>0</td>\n",
       "      <td>0</td>\n",
       "      <td>0</td>\n",
       "      <td>0</td>\n",
       "      <td>0</td>\n",
       "      <td>0</td>\n",
       "      <td>0</td>\n",
       "      <td>0</td>\n",
       "      <td>0</td>\n",
       "      <td>0</td>\n",
       "      <td>0</td>\n",
       "      <td>0</td>\n",
       "      <td>0</td>\n",
       "      <td>0</td>\n",
       "      <td>0</td>\n",
       "      <td>1</td>\n",
       "      <td>0</td>\n",
       "    </tr>\n",
       "    <tr>\n",
       "      <th>7</th>\n",
       "      <td>0.0</td>\n",
       "      <td>0</td>\n",
       "      <td>0</td>\n",
       "      <td>0</td>\n",
       "      <td>0</td>\n",
       "      <td>0</td>\n",
       "      <td>1</td>\n",
       "      <td>1</td>\n",
       "      <td>0</td>\n",
       "      <td>0</td>\n",
       "      <td>0</td>\n",
       "      <td>0</td>\n",
       "      <td>0</td>\n",
       "      <td>0</td>\n",
       "      <td>0</td>\n",
       "      <td>0</td>\n",
       "      <td>0</td>\n",
       "      <td>0</td>\n",
       "      <td>0</td>\n",
       "      <td>0</td>\n",
       "      <td>0</td>\n",
       "      <td>1</td>\n",
       "      <td>0</td>\n",
       "      <td>0</td>\n",
       "      <td>0</td>\n",
       "      <td>0</td>\n",
       "      <td>0</td>\n",
       "      <td>0</td>\n",
       "      <td>0</td>\n",
       "      <td>0</td>\n",
       "      <td>0</td>\n",
       "      <td>0</td>\n",
       "      <td>0</td>\n",
       "      <td>0</td>\n",
       "      <td>0</td>\n",
       "      <td>0</td>\n",
       "      <td>0</td>\n",
       "      <td>0</td>\n",
       "      <td>0</td>\n",
       "    </tr>\n",
       "  </tbody>\n",
       "</table>\n",
       "</div>"
      ],
      "text/plain": [
       "   brand  category_code_bracelet  category_code_brooch  category_code_earring  \\\n",
       "0    0.0                       0                     0                      0   \n",
       "2    1.0                       0                     0                      0   \n",
       "5    1.0                       0                     0                      0   \n",
       "6    0.0                       0                     0                      1   \n",
       "7    0.0                       0                     0                      0   \n",
       "\n",
       "   category_code_necklace  category_code_pendant  category_code_ring  \\\n",
       "0                       0                      1                   0   \n",
       "2                       0                      0                   1   \n",
       "5                       0                      0                   1   \n",
       "6                       0                      0                   0   \n",
       "7                       0                      0                   1   \n",
       "\n",
       "   color_red  color_white  color_yellow  gem_agate  gem_amber  gem_amethyst  \\\n",
       "0          1            0             0          0          0             0   \n",
       "2          1            0             0          0          0             1   \n",
       "5          0            1             0          0          0             1   \n",
       "6          0            1             0          0          0             0   \n",
       "7          1            0             0          0          0             0   \n",
       "\n",
       "   gem_chrysolite  gem_chrysoprase  gem_citrine  gem_coral  gem_corundum  \\\n",
       "0               0                0            0          0             0   \n",
       "2               0                0            0          0             0   \n",
       "5               0                0            0          0             0   \n",
       "6               0                0            0          0             0   \n",
       "7               0                0            0          0             0   \n",
       "\n",
       "   gem_diamond  gem_emerald  gem_emerald_geothermal  gem_fianit  gem_garnet  \\\n",
       "0            1            0                       0           0           0   \n",
       "2            0            0                       0           0           0   \n",
       "5            0            0                       0           0           0   \n",
       "6            0            0                       0           0           0   \n",
       "7            0            0                       0           1           0   \n",
       "\n",
       "   gem_garnet_synthetic  gem_malachite  gem_mix  gem_nacre  gem_nanocrystal  \\\n",
       "0                     0              0        0          0                0   \n",
       "2                     0              0        0          0                0   \n",
       "5                     0              0        0          0                0   \n",
       "6                     0              0        0          0                0   \n",
       "7                     0              0        0          0                0   \n",
       "\n",
       "   gem_onyx  gem_pearl  gem_quartz  gem_quartz_smoky  gem_rhodolite  gem_ruby  \\\n",
       "0         0          0           0                 0              0         0   \n",
       "2         0          0           0                 0              0         0   \n",
       "5         0          0           0                 0              0         0   \n",
       "6         0          0           0                 0              0         0   \n",
       "7         0          0           0                 0              0         0   \n",
       "\n",
       "   gem_sapphire  gem_sapphire_geothermal  gem_sitall  gem_topaz  gem_turquoise  \n",
       "0             0                        0           0          0              0  \n",
       "2             0                        0           0          0              0  \n",
       "5             0                        0           0          0              0  \n",
       "6             0                        0           0          1              0  \n",
       "7             0                        0           0          0              0  "
      ]
     },
     "execution_count": 261,
     "metadata": {},
     "output_type": "execute_result"
    }
   ],
   "source": [
    "X.head()"
   ]
  },
  {
   "cell_type": "code",
   "execution_count": 262,
   "id": "e00cce57",
   "metadata": {},
   "outputs": [
    {
     "data": {
      "text/plain": [
       "(1398, 39)"
      ]
     },
     "execution_count": 262,
     "metadata": {},
     "output_type": "execute_result"
    }
   ],
   "source": [
    "X.shape"
   ]
  },
  {
   "cell_type": "code",
   "execution_count": 263,
   "id": "8ad067fd",
   "metadata": {},
   "outputs": [],
   "source": [
    "X_train, X_test, y_train, y_test = train_test_split(X, y, test_size=0.80, random_state=42)"
   ]
  },
  {
   "cell_type": "code",
   "execution_count": 264,
   "id": "c74d73a0",
   "metadata": {},
   "outputs": [],
   "source": [
    "model = LinearRegression() #instantiating the model"
   ]
  },
  {
   "cell_type": "code",
   "execution_count": 265,
   "id": "6e3d85d3",
   "metadata": {},
   "outputs": [
    {
     "data": {
      "text/plain": [
       "LinearRegression()"
      ]
     },
     "execution_count": 265,
     "metadata": {},
     "output_type": "execute_result"
    }
   ],
   "source": [
    "model"
   ]
  },
  {
   "cell_type": "code",
   "execution_count": 266,
   "id": "1c4467ff",
   "metadata": {},
   "outputs": [
    {
     "data": {
      "text/plain": [
       "LinearRegression()"
      ]
     },
     "execution_count": 266,
     "metadata": {},
     "output_type": "execute_result"
    }
   ],
   "source": [
    "model.fit(X_train, y_train)"
   ]
  },
  {
   "cell_type": "code",
   "execution_count": 267,
   "id": "09b33963",
   "metadata": {},
   "outputs": [],
   "source": [
    "y_pred = model.predict(X_test)"
   ]
  },
  {
   "cell_type": "code",
   "execution_count": 268,
   "id": "2c43cb18",
   "metadata": {},
   "outputs": [
    {
     "data": {
      "text/plain": [
       "0.16759995309624975"
      ]
     },
     "execution_count": 268,
     "metadata": {},
     "output_type": "execute_result"
    }
   ],
   "source": [
    "model.score(X_test, y_test)"
   ]
  },
  {
   "cell_type": "code",
   "execution_count": 269,
   "id": "0e2ece50",
   "metadata": {},
   "outputs": [
    {
     "name": "stdout",
     "output_type": "stream",
     "text": [
      "MSE is :768493.7965852997\n",
      "MAE is :423.46979760370004\n",
      "r2 is :0.16759995309624975\n"
     ]
    }
   ],
   "source": [
    "mse = mean_squared_error(y_test, y_pred)\n",
    "mae = mean_absolute_error(y_test, y_pred)\n",
    "r2 = r2_score(y_test, y_pred)\n",
    "\n",
    "print(f\"MSE is :{mse}\")\n",
    "print(f\"MAE is :{mae}\")\n",
    "print(f\"r2 is :{r2}\")"
   ]
  },
  {
   "cell_type": "markdown",
   "id": "7b20b906",
   "metadata": {},
   "source": [
    "Model 7"
   ]
  },
  {
   "cell_type": "code",
   "execution_count": 270,
   "id": "eabf2826",
   "metadata": {},
   "outputs": [
    {
     "data": {
      "text/html": [
       "<div>\n",
       "<style scoped>\n",
       "    .dataframe tbody tr th:only-of-type {\n",
       "        vertical-align: middle;\n",
       "    }\n",
       "\n",
       "    .dataframe tbody tr th {\n",
       "        vertical-align: top;\n",
       "    }\n",
       "\n",
       "    .dataframe thead th {\n",
       "        text-align: right;\n",
       "    }\n",
       "</style>\n",
       "<table border=\"1\" class=\"dataframe\">\n",
       "  <thead>\n",
       "    <tr style=\"text-align: right;\">\n",
       "      <th></th>\n",
       "      <th>category_code</th>\n",
       "      <th>brand</th>\n",
       "      <th>price</th>\n",
       "      <th>gem</th>\n",
       "    </tr>\n",
       "  </thead>\n",
       "  <tbody>\n",
       "    <tr>\n",
       "      <th>0</th>\n",
       "      <td>pendant</td>\n",
       "      <td>0.0</td>\n",
       "      <td>67.78</td>\n",
       "      <td>diamond</td>\n",
       "    </tr>\n",
       "    <tr>\n",
       "      <th>2</th>\n",
       "      <td>ring</td>\n",
       "      <td>1.0</td>\n",
       "      <td>75.21</td>\n",
       "      <td>amethyst</td>\n",
       "    </tr>\n",
       "    <tr>\n",
       "      <th>5</th>\n",
       "      <td>ring</td>\n",
       "      <td>1.0</td>\n",
       "      <td>73.93</td>\n",
       "      <td>amethyst</td>\n",
       "    </tr>\n",
       "    <tr>\n",
       "      <th>6</th>\n",
       "      <td>earring</td>\n",
       "      <td>0.0</td>\n",
       "      <td>280.68</td>\n",
       "      <td>topaz</td>\n",
       "    </tr>\n",
       "    <tr>\n",
       "      <th>7</th>\n",
       "      <td>ring</td>\n",
       "      <td>0.0</td>\n",
       "      <td>126.99</td>\n",
       "      <td>fianit</td>\n",
       "    </tr>\n",
       "  </tbody>\n",
       "</table>\n",
       "</div>"
      ],
      "text/plain": [
       "  category_code  brand   price       gem\n",
       "0       pendant    0.0   67.78   diamond\n",
       "2          ring    1.0   75.21  amethyst\n",
       "5          ring    1.0   73.93  amethyst\n",
       "6       earring    0.0  280.68     topaz\n",
       "7          ring    0.0  126.99    fianit"
      ]
     },
     "execution_count": 270,
     "metadata": {},
     "output_type": "execute_result"
    }
   ],
   "source": [
    "product_7 = jewelry[['category_code','brand','price','gem']].copy()\n",
    "\n",
    "product_7.head()"
   ]
  },
  {
   "cell_type": "code",
   "execution_count": 272,
   "id": "e1c03da8",
   "metadata": {},
   "outputs": [],
   "source": [
    "product_7.drop_duplicates(keep=False,inplace=True)"
   ]
  },
  {
   "cell_type": "code",
   "execution_count": 273,
   "id": "6a3c8999",
   "metadata": {},
   "outputs": [
    {
     "data": {
      "text/plain": [
       "(1317, 4)"
      ]
     },
     "execution_count": 273,
     "metadata": {},
     "output_type": "execute_result"
    }
   ],
   "source": [
    "product_7.shape"
   ]
  },
  {
   "cell_type": "code",
   "execution_count": 274,
   "id": "29d16725",
   "metadata": {},
   "outputs": [],
   "source": [
    "X = pd.get_dummies(product_7.loc[:, product_7.columns != 'price'])\n",
    "y = product_7['price']"
   ]
  },
  {
   "cell_type": "code",
   "execution_count": 275,
   "id": "5d9f16e0",
   "metadata": {},
   "outputs": [
    {
     "data": {
      "text/html": [
       "<div>\n",
       "<style scoped>\n",
       "    .dataframe tbody tr th:only-of-type {\n",
       "        vertical-align: middle;\n",
       "    }\n",
       "\n",
       "    .dataframe tbody tr th {\n",
       "        vertical-align: top;\n",
       "    }\n",
       "\n",
       "    .dataframe thead th {\n",
       "        text-align: right;\n",
       "    }\n",
       "</style>\n",
       "<table border=\"1\" class=\"dataframe\">\n",
       "  <thead>\n",
       "    <tr style=\"text-align: right;\">\n",
       "      <th></th>\n",
       "      <th>brand</th>\n",
       "      <th>category_code_bracelet</th>\n",
       "      <th>category_code_brooch</th>\n",
       "      <th>category_code_earring</th>\n",
       "      <th>category_code_necklace</th>\n",
       "      <th>category_code_pendant</th>\n",
       "      <th>category_code_ring</th>\n",
       "      <th>gem_agate</th>\n",
       "      <th>gem_amber</th>\n",
       "      <th>gem_amethyst</th>\n",
       "      <th>gem_chrysolite</th>\n",
       "      <th>gem_chrysoprase</th>\n",
       "      <th>gem_citrine</th>\n",
       "      <th>gem_coral</th>\n",
       "      <th>gem_corundum</th>\n",
       "      <th>gem_diamond</th>\n",
       "      <th>gem_emerald</th>\n",
       "      <th>gem_emerald_geothermal</th>\n",
       "      <th>gem_fianit</th>\n",
       "      <th>gem_garnet</th>\n",
       "      <th>gem_garnet_synthetic</th>\n",
       "      <th>gem_malachite</th>\n",
       "      <th>gem_mix</th>\n",
       "      <th>gem_nacre</th>\n",
       "      <th>gem_nanocrystal</th>\n",
       "      <th>gem_onyx</th>\n",
       "      <th>gem_pearl</th>\n",
       "      <th>gem_quartz</th>\n",
       "      <th>gem_quartz_smoky</th>\n",
       "      <th>gem_rhodolite</th>\n",
       "      <th>gem_ruby</th>\n",
       "      <th>gem_sapphire</th>\n",
       "      <th>gem_sapphire_geothermal</th>\n",
       "      <th>gem_sitall</th>\n",
       "      <th>gem_topaz</th>\n",
       "      <th>gem_turquoise</th>\n",
       "    </tr>\n",
       "  </thead>\n",
       "  <tbody>\n",
       "    <tr>\n",
       "      <th>0</th>\n",
       "      <td>0.0</td>\n",
       "      <td>0</td>\n",
       "      <td>0</td>\n",
       "      <td>0</td>\n",
       "      <td>0</td>\n",
       "      <td>1</td>\n",
       "      <td>0</td>\n",
       "      <td>0</td>\n",
       "      <td>0</td>\n",
       "      <td>0</td>\n",
       "      <td>0</td>\n",
       "      <td>0</td>\n",
       "      <td>0</td>\n",
       "      <td>0</td>\n",
       "      <td>0</td>\n",
       "      <td>1</td>\n",
       "      <td>0</td>\n",
       "      <td>0</td>\n",
       "      <td>0</td>\n",
       "      <td>0</td>\n",
       "      <td>0</td>\n",
       "      <td>0</td>\n",
       "      <td>0</td>\n",
       "      <td>0</td>\n",
       "      <td>0</td>\n",
       "      <td>0</td>\n",
       "      <td>0</td>\n",
       "      <td>0</td>\n",
       "      <td>0</td>\n",
       "      <td>0</td>\n",
       "      <td>0</td>\n",
       "      <td>0</td>\n",
       "      <td>0</td>\n",
       "      <td>0</td>\n",
       "      <td>0</td>\n",
       "      <td>0</td>\n",
       "    </tr>\n",
       "    <tr>\n",
       "      <th>2</th>\n",
       "      <td>1.0</td>\n",
       "      <td>0</td>\n",
       "      <td>0</td>\n",
       "      <td>0</td>\n",
       "      <td>0</td>\n",
       "      <td>0</td>\n",
       "      <td>1</td>\n",
       "      <td>0</td>\n",
       "      <td>0</td>\n",
       "      <td>1</td>\n",
       "      <td>0</td>\n",
       "      <td>0</td>\n",
       "      <td>0</td>\n",
       "      <td>0</td>\n",
       "      <td>0</td>\n",
       "      <td>0</td>\n",
       "      <td>0</td>\n",
       "      <td>0</td>\n",
       "      <td>0</td>\n",
       "      <td>0</td>\n",
       "      <td>0</td>\n",
       "      <td>0</td>\n",
       "      <td>0</td>\n",
       "      <td>0</td>\n",
       "      <td>0</td>\n",
       "      <td>0</td>\n",
       "      <td>0</td>\n",
       "      <td>0</td>\n",
       "      <td>0</td>\n",
       "      <td>0</td>\n",
       "      <td>0</td>\n",
       "      <td>0</td>\n",
       "      <td>0</td>\n",
       "      <td>0</td>\n",
       "      <td>0</td>\n",
       "      <td>0</td>\n",
       "    </tr>\n",
       "    <tr>\n",
       "      <th>5</th>\n",
       "      <td>1.0</td>\n",
       "      <td>0</td>\n",
       "      <td>0</td>\n",
       "      <td>0</td>\n",
       "      <td>0</td>\n",
       "      <td>0</td>\n",
       "      <td>1</td>\n",
       "      <td>0</td>\n",
       "      <td>0</td>\n",
       "      <td>1</td>\n",
       "      <td>0</td>\n",
       "      <td>0</td>\n",
       "      <td>0</td>\n",
       "      <td>0</td>\n",
       "      <td>0</td>\n",
       "      <td>0</td>\n",
       "      <td>0</td>\n",
       "      <td>0</td>\n",
       "      <td>0</td>\n",
       "      <td>0</td>\n",
       "      <td>0</td>\n",
       "      <td>0</td>\n",
       "      <td>0</td>\n",
       "      <td>0</td>\n",
       "      <td>0</td>\n",
       "      <td>0</td>\n",
       "      <td>0</td>\n",
       "      <td>0</td>\n",
       "      <td>0</td>\n",
       "      <td>0</td>\n",
       "      <td>0</td>\n",
       "      <td>0</td>\n",
       "      <td>0</td>\n",
       "      <td>0</td>\n",
       "      <td>0</td>\n",
       "      <td>0</td>\n",
       "    </tr>\n",
       "    <tr>\n",
       "      <th>7</th>\n",
       "      <td>0.0</td>\n",
       "      <td>0</td>\n",
       "      <td>0</td>\n",
       "      <td>0</td>\n",
       "      <td>0</td>\n",
       "      <td>0</td>\n",
       "      <td>1</td>\n",
       "      <td>0</td>\n",
       "      <td>0</td>\n",
       "      <td>0</td>\n",
       "      <td>0</td>\n",
       "      <td>0</td>\n",
       "      <td>0</td>\n",
       "      <td>0</td>\n",
       "      <td>0</td>\n",
       "      <td>0</td>\n",
       "      <td>0</td>\n",
       "      <td>0</td>\n",
       "      <td>1</td>\n",
       "      <td>0</td>\n",
       "      <td>0</td>\n",
       "      <td>0</td>\n",
       "      <td>0</td>\n",
       "      <td>0</td>\n",
       "      <td>0</td>\n",
       "      <td>0</td>\n",
       "      <td>0</td>\n",
       "      <td>0</td>\n",
       "      <td>0</td>\n",
       "      <td>0</td>\n",
       "      <td>0</td>\n",
       "      <td>0</td>\n",
       "      <td>0</td>\n",
       "      <td>0</td>\n",
       "      <td>0</td>\n",
       "      <td>0</td>\n",
       "    </tr>\n",
       "    <tr>\n",
       "      <th>15</th>\n",
       "      <td>0.0</td>\n",
       "      <td>0</td>\n",
       "      <td>0</td>\n",
       "      <td>1</td>\n",
       "      <td>0</td>\n",
       "      <td>0</td>\n",
       "      <td>0</td>\n",
       "      <td>0</td>\n",
       "      <td>0</td>\n",
       "      <td>0</td>\n",
       "      <td>0</td>\n",
       "      <td>0</td>\n",
       "      <td>0</td>\n",
       "      <td>0</td>\n",
       "      <td>0</td>\n",
       "      <td>0</td>\n",
       "      <td>0</td>\n",
       "      <td>0</td>\n",
       "      <td>1</td>\n",
       "      <td>0</td>\n",
       "      <td>0</td>\n",
       "      <td>0</td>\n",
       "      <td>0</td>\n",
       "      <td>0</td>\n",
       "      <td>0</td>\n",
       "      <td>0</td>\n",
       "      <td>0</td>\n",
       "      <td>0</td>\n",
       "      <td>0</td>\n",
       "      <td>0</td>\n",
       "      <td>0</td>\n",
       "      <td>0</td>\n",
       "      <td>0</td>\n",
       "      <td>0</td>\n",
       "      <td>0</td>\n",
       "      <td>0</td>\n",
       "    </tr>\n",
       "  </tbody>\n",
       "</table>\n",
       "</div>"
      ],
      "text/plain": [
       "    brand  category_code_bracelet  category_code_brooch  \\\n",
       "0     0.0                       0                     0   \n",
       "2     1.0                       0                     0   \n",
       "5     1.0                       0                     0   \n",
       "7     0.0                       0                     0   \n",
       "15    0.0                       0                     0   \n",
       "\n",
       "    category_code_earring  category_code_necklace  category_code_pendant  \\\n",
       "0                       0                       0                      1   \n",
       "2                       0                       0                      0   \n",
       "5                       0                       0                      0   \n",
       "7                       0                       0                      0   \n",
       "15                      1                       0                      0   \n",
       "\n",
       "    category_code_ring  gem_agate  gem_amber  gem_amethyst  gem_chrysolite  \\\n",
       "0                    0          0          0             0               0   \n",
       "2                    1          0          0             1               0   \n",
       "5                    1          0          0             1               0   \n",
       "7                    1          0          0             0               0   \n",
       "15                   0          0          0             0               0   \n",
       "\n",
       "    gem_chrysoprase  gem_citrine  gem_coral  gem_corundum  gem_diamond  \\\n",
       "0                 0            0          0             0            1   \n",
       "2                 0            0          0             0            0   \n",
       "5                 0            0          0             0            0   \n",
       "7                 0            0          0             0            0   \n",
       "15                0            0          0             0            0   \n",
       "\n",
       "    gem_emerald  gem_emerald_geothermal  gem_fianit  gem_garnet  \\\n",
       "0             0                       0           0           0   \n",
       "2             0                       0           0           0   \n",
       "5             0                       0           0           0   \n",
       "7             0                       0           1           0   \n",
       "15            0                       0           1           0   \n",
       "\n",
       "    gem_garnet_synthetic  gem_malachite  gem_mix  gem_nacre  gem_nanocrystal  \\\n",
       "0                      0              0        0          0                0   \n",
       "2                      0              0        0          0                0   \n",
       "5                      0              0        0          0                0   \n",
       "7                      0              0        0          0                0   \n",
       "15                     0              0        0          0                0   \n",
       "\n",
       "    gem_onyx  gem_pearl  gem_quartz  gem_quartz_smoky  gem_rhodolite  \\\n",
       "0          0          0           0                 0              0   \n",
       "2          0          0           0                 0              0   \n",
       "5          0          0           0                 0              0   \n",
       "7          0          0           0                 0              0   \n",
       "15         0          0           0                 0              0   \n",
       "\n",
       "    gem_ruby  gem_sapphire  gem_sapphire_geothermal  gem_sitall  gem_topaz  \\\n",
       "0          0             0                        0           0          0   \n",
       "2          0             0                        0           0          0   \n",
       "5          0             0                        0           0          0   \n",
       "7          0             0                        0           0          0   \n",
       "15         0             0                        0           0          0   \n",
       "\n",
       "    gem_turquoise  \n",
       "0               0  \n",
       "2               0  \n",
       "5               0  \n",
       "7               0  \n",
       "15              0  "
      ]
     },
     "execution_count": 275,
     "metadata": {},
     "output_type": "execute_result"
    }
   ],
   "source": [
    "X.head()"
   ]
  },
  {
   "cell_type": "code",
   "execution_count": 276,
   "id": "2aa72d20",
   "metadata": {},
   "outputs": [
    {
     "data": {
      "text/plain": [
       "(1317, 36)"
      ]
     },
     "execution_count": 276,
     "metadata": {},
     "output_type": "execute_result"
    }
   ],
   "source": [
    "X.shape"
   ]
  },
  {
   "cell_type": "code",
   "execution_count": 277,
   "id": "c1fb914c",
   "metadata": {},
   "outputs": [],
   "source": [
    "X_train, X_test, y_train, y_test = train_test_split(X, y, test_size=0.80, random_state=42)"
   ]
  },
  {
   "cell_type": "code",
   "execution_count": 278,
   "id": "6fd1f04a",
   "metadata": {},
   "outputs": [],
   "source": [
    "model = LinearRegression() #instantiating the model"
   ]
  },
  {
   "cell_type": "code",
   "execution_count": 279,
   "id": "2bf24ca8",
   "metadata": {},
   "outputs": [
    {
     "data": {
      "text/plain": [
       "LinearRegression()"
      ]
     },
     "execution_count": 279,
     "metadata": {},
     "output_type": "execute_result"
    }
   ],
   "source": [
    "model"
   ]
  },
  {
   "cell_type": "code",
   "execution_count": 280,
   "id": "d916f99d",
   "metadata": {},
   "outputs": [
    {
     "data": {
      "text/plain": [
       "LinearRegression()"
      ]
     },
     "execution_count": 280,
     "metadata": {},
     "output_type": "execute_result"
    }
   ],
   "source": [
    "model.fit(X_train, y_train)"
   ]
  },
  {
   "cell_type": "code",
   "execution_count": 281,
   "id": "52765b63",
   "metadata": {},
   "outputs": [],
   "source": [
    "y_pred = model.predict(X_test)"
   ]
  },
  {
   "cell_type": "code",
   "execution_count": 282,
   "id": "66378a27",
   "metadata": {},
   "outputs": [
    {
     "data": {
      "text/plain": [
       "0.16515126120375545"
      ]
     },
     "execution_count": 282,
     "metadata": {},
     "output_type": "execute_result"
    }
   ],
   "source": [
    "model.score(X_test, y_test)"
   ]
  },
  {
   "cell_type": "code",
   "execution_count": 283,
   "id": "5594bd4e",
   "metadata": {},
   "outputs": [
    {
     "name": "stdout",
     "output_type": "stream",
     "text": [
      "MSE is :733124.5167277094\n",
      "MAE is :433.75571321971194\n",
      "r2 is :0.16515126120375545\n"
     ]
    }
   ],
   "source": [
    "mse = mean_squared_error(y_test, y_pred)\n",
    "mae = mean_absolute_error(y_test, y_pred)\n",
    "r2 = r2_score(y_test, y_pred)\n",
    "\n",
    "print(f\"MSE is :{mse}\")\n",
    "print(f\"MAE is :{mae}\")\n",
    "print(f\"r2 is :{r2}\")"
   ]
  },
  {
   "cell_type": "markdown",
   "id": "31791baa",
   "metadata": {},
   "source": [
    "Model 8"
   ]
  },
  {
   "cell_type": "code",
   "execution_count": 352,
   "id": "d9b35425",
   "metadata": {},
   "outputs": [
    {
     "data": {
      "text/html": [
       "<div>\n",
       "<style scoped>\n",
       "    .dataframe tbody tr th:only-of-type {\n",
       "        vertical-align: middle;\n",
       "    }\n",
       "\n",
       "    .dataframe tbody tr th {\n",
       "        vertical-align: top;\n",
       "    }\n",
       "\n",
       "    .dataframe thead th {\n",
       "        text-align: right;\n",
       "    }\n",
       "</style>\n",
       "<table border=\"1\" class=\"dataframe\">\n",
       "  <thead>\n",
       "    <tr style=\"text-align: right;\">\n",
       "      <th></th>\n",
       "      <th>brand</th>\n",
       "      <th>price</th>\n",
       "      <th>gem</th>\n",
       "    </tr>\n",
       "  </thead>\n",
       "  <tbody>\n",
       "    <tr>\n",
       "      <th>0</th>\n",
       "      <td>0.0</td>\n",
       "      <td>67.78</td>\n",
       "      <td>diamond</td>\n",
       "    </tr>\n",
       "    <tr>\n",
       "      <th>2</th>\n",
       "      <td>1.0</td>\n",
       "      <td>75.21</td>\n",
       "      <td>amethyst</td>\n",
       "    </tr>\n",
       "    <tr>\n",
       "      <th>5</th>\n",
       "      <td>1.0</td>\n",
       "      <td>73.93</td>\n",
       "      <td>amethyst</td>\n",
       "    </tr>\n",
       "    <tr>\n",
       "      <th>6</th>\n",
       "      <td>0.0</td>\n",
       "      <td>280.68</td>\n",
       "      <td>topaz</td>\n",
       "    </tr>\n",
       "    <tr>\n",
       "      <th>7</th>\n",
       "      <td>0.0</td>\n",
       "      <td>126.99</td>\n",
       "      <td>fianit</td>\n",
       "    </tr>\n",
       "  </tbody>\n",
       "</table>\n",
       "</div>"
      ],
      "text/plain": [
       "   brand   price       gem\n",
       "0    0.0   67.78   diamond\n",
       "2    1.0   75.21  amethyst\n",
       "5    1.0   73.93  amethyst\n",
       "6    0.0  280.68     topaz\n",
       "7    0.0  126.99    fianit"
      ]
     },
     "execution_count": 352,
     "metadata": {},
     "output_type": "execute_result"
    }
   ],
   "source": [
    "product_8 = jewelry[['brand','price','gem']].copy()\n",
    "\n",
    "product_8.head()"
   ]
  },
  {
   "cell_type": "code",
   "execution_count": 353,
   "id": "723edece",
   "metadata": {},
   "outputs": [],
   "source": [
    "product_8.drop_duplicates(keep=False,inplace=True)"
   ]
  },
  {
   "cell_type": "code",
   "execution_count": 354,
   "id": "77720a48",
   "metadata": {},
   "outputs": [
    {
     "data": {
      "text/plain": [
       "(1092, 3)"
      ]
     },
     "execution_count": 354,
     "metadata": {},
     "output_type": "execute_result"
    }
   ],
   "source": [
    "product_8.shape"
   ]
  },
  {
   "cell_type": "code",
   "execution_count": 355,
   "id": "c8f13778",
   "metadata": {},
   "outputs": [],
   "source": [
    "X = pd.get_dummies(product_8.loc[:, product_8.columns != 'price'])\n",
    "y = product_8['price']"
   ]
  },
  {
   "cell_type": "code",
   "execution_count": 357,
   "id": "bf279247",
   "metadata": {},
   "outputs": [
    {
     "data": {
      "text/html": [
       "<div>\n",
       "<style scoped>\n",
       "    .dataframe tbody tr th:only-of-type {\n",
       "        vertical-align: middle;\n",
       "    }\n",
       "\n",
       "    .dataframe tbody tr th {\n",
       "        vertical-align: top;\n",
       "    }\n",
       "\n",
       "    .dataframe thead th {\n",
       "        text-align: right;\n",
       "    }\n",
       "</style>\n",
       "<table border=\"1\" class=\"dataframe\">\n",
       "  <thead>\n",
       "    <tr style=\"text-align: right;\">\n",
       "      <th></th>\n",
       "      <th>brand</th>\n",
       "      <th>gem_agate</th>\n",
       "      <th>gem_amber</th>\n",
       "      <th>gem_amethyst</th>\n",
       "      <th>gem_chrysolite</th>\n",
       "      <th>gem_chrysoprase</th>\n",
       "      <th>gem_citrine</th>\n",
       "      <th>gem_coral</th>\n",
       "      <th>gem_corundum</th>\n",
       "      <th>gem_diamond</th>\n",
       "      <th>gem_emerald</th>\n",
       "      <th>gem_emerald_geothermal</th>\n",
       "      <th>gem_fianit</th>\n",
       "      <th>gem_garnet</th>\n",
       "      <th>gem_garnet_synthetic</th>\n",
       "      <th>gem_malachite</th>\n",
       "      <th>gem_mix</th>\n",
       "      <th>gem_nacre</th>\n",
       "      <th>gem_nanocrystal</th>\n",
       "      <th>gem_onyx</th>\n",
       "      <th>gem_pearl</th>\n",
       "      <th>gem_quartz</th>\n",
       "      <th>gem_quartz_smoky</th>\n",
       "      <th>gem_rhodolite</th>\n",
       "      <th>gem_ruby</th>\n",
       "      <th>gem_sapphire</th>\n",
       "      <th>gem_sapphire_geothermal</th>\n",
       "      <th>gem_sitall</th>\n",
       "      <th>gem_topaz</th>\n",
       "      <th>gem_turquoise</th>\n",
       "    </tr>\n",
       "  </thead>\n",
       "  <tbody>\n",
       "    <tr>\n",
       "      <th>0</th>\n",
       "      <td>0.0</td>\n",
       "      <td>0</td>\n",
       "      <td>0</td>\n",
       "      <td>0</td>\n",
       "      <td>0</td>\n",
       "      <td>0</td>\n",
       "      <td>0</td>\n",
       "      <td>0</td>\n",
       "      <td>0</td>\n",
       "      <td>1</td>\n",
       "      <td>0</td>\n",
       "      <td>0</td>\n",
       "      <td>0</td>\n",
       "      <td>0</td>\n",
       "      <td>0</td>\n",
       "      <td>0</td>\n",
       "      <td>0</td>\n",
       "      <td>0</td>\n",
       "      <td>0</td>\n",
       "      <td>0</td>\n",
       "      <td>0</td>\n",
       "      <td>0</td>\n",
       "      <td>0</td>\n",
       "      <td>0</td>\n",
       "      <td>0</td>\n",
       "      <td>0</td>\n",
       "      <td>0</td>\n",
       "      <td>0</td>\n",
       "      <td>0</td>\n",
       "      <td>0</td>\n",
       "    </tr>\n",
       "    <tr>\n",
       "      <th>2</th>\n",
       "      <td>1.0</td>\n",
       "      <td>0</td>\n",
       "      <td>0</td>\n",
       "      <td>1</td>\n",
       "      <td>0</td>\n",
       "      <td>0</td>\n",
       "      <td>0</td>\n",
       "      <td>0</td>\n",
       "      <td>0</td>\n",
       "      <td>0</td>\n",
       "      <td>0</td>\n",
       "      <td>0</td>\n",
       "      <td>0</td>\n",
       "      <td>0</td>\n",
       "      <td>0</td>\n",
       "      <td>0</td>\n",
       "      <td>0</td>\n",
       "      <td>0</td>\n",
       "      <td>0</td>\n",
       "      <td>0</td>\n",
       "      <td>0</td>\n",
       "      <td>0</td>\n",
       "      <td>0</td>\n",
       "      <td>0</td>\n",
       "      <td>0</td>\n",
       "      <td>0</td>\n",
       "      <td>0</td>\n",
       "      <td>0</td>\n",
       "      <td>0</td>\n",
       "      <td>0</td>\n",
       "    </tr>\n",
       "    <tr>\n",
       "      <th>5</th>\n",
       "      <td>1.0</td>\n",
       "      <td>0</td>\n",
       "      <td>0</td>\n",
       "      <td>1</td>\n",
       "      <td>0</td>\n",
       "      <td>0</td>\n",
       "      <td>0</td>\n",
       "      <td>0</td>\n",
       "      <td>0</td>\n",
       "      <td>0</td>\n",
       "      <td>0</td>\n",
       "      <td>0</td>\n",
       "      <td>0</td>\n",
       "      <td>0</td>\n",
       "      <td>0</td>\n",
       "      <td>0</td>\n",
       "      <td>0</td>\n",
       "      <td>0</td>\n",
       "      <td>0</td>\n",
       "      <td>0</td>\n",
       "      <td>0</td>\n",
       "      <td>0</td>\n",
       "      <td>0</td>\n",
       "      <td>0</td>\n",
       "      <td>0</td>\n",
       "      <td>0</td>\n",
       "      <td>0</td>\n",
       "      <td>0</td>\n",
       "      <td>0</td>\n",
       "      <td>0</td>\n",
       "    </tr>\n",
       "    <tr>\n",
       "      <th>7</th>\n",
       "      <td>0.0</td>\n",
       "      <td>0</td>\n",
       "      <td>0</td>\n",
       "      <td>0</td>\n",
       "      <td>0</td>\n",
       "      <td>0</td>\n",
       "      <td>0</td>\n",
       "      <td>0</td>\n",
       "      <td>0</td>\n",
       "      <td>0</td>\n",
       "      <td>0</td>\n",
       "      <td>0</td>\n",
       "      <td>1</td>\n",
       "      <td>0</td>\n",
       "      <td>0</td>\n",
       "      <td>0</td>\n",
       "      <td>0</td>\n",
       "      <td>0</td>\n",
       "      <td>0</td>\n",
       "      <td>0</td>\n",
       "      <td>0</td>\n",
       "      <td>0</td>\n",
       "      <td>0</td>\n",
       "      <td>0</td>\n",
       "      <td>0</td>\n",
       "      <td>0</td>\n",
       "      <td>0</td>\n",
       "      <td>0</td>\n",
       "      <td>0</td>\n",
       "      <td>0</td>\n",
       "    </tr>\n",
       "    <tr>\n",
       "      <th>15</th>\n",
       "      <td>0.0</td>\n",
       "      <td>0</td>\n",
       "      <td>0</td>\n",
       "      <td>0</td>\n",
       "      <td>0</td>\n",
       "      <td>0</td>\n",
       "      <td>0</td>\n",
       "      <td>0</td>\n",
       "      <td>0</td>\n",
       "      <td>0</td>\n",
       "      <td>0</td>\n",
       "      <td>0</td>\n",
       "      <td>1</td>\n",
       "      <td>0</td>\n",
       "      <td>0</td>\n",
       "      <td>0</td>\n",
       "      <td>0</td>\n",
       "      <td>0</td>\n",
       "      <td>0</td>\n",
       "      <td>0</td>\n",
       "      <td>0</td>\n",
       "      <td>0</td>\n",
       "      <td>0</td>\n",
       "      <td>0</td>\n",
       "      <td>0</td>\n",
       "      <td>0</td>\n",
       "      <td>0</td>\n",
       "      <td>0</td>\n",
       "      <td>0</td>\n",
       "      <td>0</td>\n",
       "    </tr>\n",
       "  </tbody>\n",
       "</table>\n",
       "</div>"
      ],
      "text/plain": [
       "    brand  gem_agate  gem_amber  gem_amethyst  gem_chrysolite  \\\n",
       "0     0.0          0          0             0               0   \n",
       "2     1.0          0          0             1               0   \n",
       "5     1.0          0          0             1               0   \n",
       "7     0.0          0          0             0               0   \n",
       "15    0.0          0          0             0               0   \n",
       "\n",
       "    gem_chrysoprase  gem_citrine  gem_coral  gem_corundum  gem_diamond  \\\n",
       "0                 0            0          0             0            1   \n",
       "2                 0            0          0             0            0   \n",
       "5                 0            0          0             0            0   \n",
       "7                 0            0          0             0            0   \n",
       "15                0            0          0             0            0   \n",
       "\n",
       "    gem_emerald  gem_emerald_geothermal  gem_fianit  gem_garnet  \\\n",
       "0             0                       0           0           0   \n",
       "2             0                       0           0           0   \n",
       "5             0                       0           0           0   \n",
       "7             0                       0           1           0   \n",
       "15            0                       0           1           0   \n",
       "\n",
       "    gem_garnet_synthetic  gem_malachite  gem_mix  gem_nacre  gem_nanocrystal  \\\n",
       "0                      0              0        0          0                0   \n",
       "2                      0              0        0          0                0   \n",
       "5                      0              0        0          0                0   \n",
       "7                      0              0        0          0                0   \n",
       "15                     0              0        0          0                0   \n",
       "\n",
       "    gem_onyx  gem_pearl  gem_quartz  gem_quartz_smoky  gem_rhodolite  \\\n",
       "0          0          0           0                 0              0   \n",
       "2          0          0           0                 0              0   \n",
       "5          0          0           0                 0              0   \n",
       "7          0          0           0                 0              0   \n",
       "15         0          0           0                 0              0   \n",
       "\n",
       "    gem_ruby  gem_sapphire  gem_sapphire_geothermal  gem_sitall  gem_topaz  \\\n",
       "0          0             0                        0           0          0   \n",
       "2          0             0                        0           0          0   \n",
       "5          0             0                        0           0          0   \n",
       "7          0             0                        0           0          0   \n",
       "15         0             0                        0           0          0   \n",
       "\n",
       "    gem_turquoise  \n",
       "0               0  \n",
       "2               0  \n",
       "5               0  \n",
       "7               0  \n",
       "15              0  "
      ]
     },
     "execution_count": 357,
     "metadata": {},
     "output_type": "execute_result"
    }
   ],
   "source": [
    "X.head()"
   ]
  },
  {
   "cell_type": "code",
   "execution_count": 358,
   "id": "1dcaca4a",
   "metadata": {},
   "outputs": [
    {
     "data": {
      "text/plain": [
       "(1092, 30)"
      ]
     },
     "execution_count": 358,
     "metadata": {},
     "output_type": "execute_result"
    }
   ],
   "source": [
    "X.shape"
   ]
  },
  {
   "cell_type": "code",
   "execution_count": 359,
   "id": "b7195dbb",
   "metadata": {},
   "outputs": [],
   "source": [
    "X_train, X_test, y_train, y_test = train_test_split(X, y, test_size=0.80, random_state=42)"
   ]
  },
  {
   "cell_type": "code",
   "execution_count": 360,
   "id": "c0a3f0a5",
   "metadata": {},
   "outputs": [],
   "source": [
    "model = LinearRegression() #instantiating the model"
   ]
  },
  {
   "cell_type": "code",
   "execution_count": 361,
   "id": "bf6435f3",
   "metadata": {},
   "outputs": [
    {
     "data": {
      "text/plain": [
       "LinearRegression()"
      ]
     },
     "execution_count": 361,
     "metadata": {},
     "output_type": "execute_result"
    }
   ],
   "source": [
    "model"
   ]
  },
  {
   "cell_type": "code",
   "execution_count": 362,
   "id": "fe61faba",
   "metadata": {},
   "outputs": [
    {
     "data": {
      "text/plain": [
       "LinearRegression()"
      ]
     },
     "execution_count": 362,
     "metadata": {},
     "output_type": "execute_result"
    }
   ],
   "source": [
    "model.fit(X_train, y_train)"
   ]
  },
  {
   "cell_type": "code",
   "execution_count": 363,
   "id": "18de22b1",
   "metadata": {},
   "outputs": [],
   "source": [
    "y_pred = model.predict(X_test)"
   ]
  },
  {
   "cell_type": "code",
   "execution_count": 364,
   "id": "08abdb1f",
   "metadata": {},
   "outputs": [
    {
     "data": {
      "text/plain": [
       "0.18475617633285635"
      ]
     },
     "execution_count": 364,
     "metadata": {},
     "output_type": "execute_result"
    }
   ],
   "source": [
    "model.score(X_test, y_test)"
   ]
  },
  {
   "cell_type": "code",
   "execution_count": 365,
   "id": "ce33b656",
   "metadata": {},
   "outputs": [
    {
     "name": "stdout",
     "output_type": "stream",
     "text": [
      "MSE is :814649.9319179676\n",
      "MAE is :474.5174848521103\n",
      "r2 is :0.18475617633285635\n"
     ]
    }
   ],
   "source": [
    "mse = mean_squared_error(y_test, y_pred)\n",
    "mae = mean_absolute_error(y_test, y_pred)\n",
    "r2 = r2_score(y_test, y_pred)\n",
    "\n",
    "print(f\"MSE is :{mse}\")\n",
    "print(f\"MAE is :{mae}\")\n",
    "print(f\"r2 is :{r2}\")"
   ]
  },
  {
   "cell_type": "code",
   "execution_count": null,
   "id": "e0bed6ca",
   "metadata": {},
   "outputs": [],
   "source": []
  },
  {
   "cell_type": "code",
   "execution_count": null,
   "id": "1cfdce5c",
   "metadata": {},
   "outputs": [],
   "source": []
  },
  {
   "cell_type": "code",
   "execution_count": null,
   "id": "aa97fb57",
   "metadata": {},
   "outputs": [],
   "source": []
  },
  {
   "cell_type": "code",
   "execution_count": null,
   "id": "51c253db",
   "metadata": {},
   "outputs": [],
   "source": []
  },
  {
   "cell_type": "code",
   "execution_count": null,
   "id": "aedb9585",
   "metadata": {},
   "outputs": [],
   "source": []
  },
  {
   "cell_type": "code",
   "execution_count": null,
   "id": "9cb680d5",
   "metadata": {},
   "outputs": [],
   "source": []
  },
  {
   "cell_type": "code",
   "execution_count": null,
   "id": "77e7f9c2",
   "metadata": {},
   "outputs": [],
   "source": []
  },
  {
   "cell_type": "code",
   "execution_count": null,
   "id": "5c06591c",
   "metadata": {},
   "outputs": [],
   "source": []
  },
  {
   "cell_type": "code",
   "execution_count": null,
   "id": "cf351733",
   "metadata": {},
   "outputs": [],
   "source": []
  },
  {
   "cell_type": "code",
   "execution_count": null,
   "id": "a31e8a6e",
   "metadata": {},
   "outputs": [],
   "source": []
  }
 ],
 "metadata": {
  "kernelspec": {
   "display_name": "Python 3",
   "language": "python",
   "name": "python3"
  },
  "language_info": {
   "codemirror_mode": {
    "name": "ipython",
    "version": 3
   },
   "file_extension": ".py",
   "mimetype": "text/x-python",
   "name": "python",
   "nbconvert_exporter": "python",
   "pygments_lexer": "ipython3",
   "version": "3.8.8"
  }
 },
 "nbformat": 4,
 "nbformat_minor": 5
}
